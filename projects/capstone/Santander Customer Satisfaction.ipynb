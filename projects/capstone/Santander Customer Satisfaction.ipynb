{
 "cells": [
  {
   "cell_type": "markdown",
   "metadata": {
    "deletable": true,
    "editable": true
   },
   "source": [
    "# Santander Customer Satisfaction"
   ]
  },
  {
   "cell_type": "markdown",
   "metadata": {
    "deletable": true,
    "editable": true
   },
   "source": [
    "## Initialization"
   ]
  },
  {
   "cell_type": "markdown",
   "metadata": {
    "deletable": true,
    "editable": true
   },
   "source": [
    "### Dependencies"
   ]
  },
  {
   "cell_type": "code",
   "execution_count": 1,
   "metadata": {
    "collapsed": false,
    "deletable": true,
    "editable": true
   },
   "outputs": [],
   "source": [
    "import pandas as pd\n",
    "import numpy as np\n",
    "\n",
    "from matplotlib import pyplot as plt\n",
    "import seaborn as sns"
   ]
  },
  {
   "cell_type": "markdown",
   "metadata": {
    "deletable": true,
    "editable": true
   },
   "source": [
    "### Visualization Settings"
   ]
  },
  {
   "cell_type": "code",
   "execution_count": 2,
   "metadata": {
    "collapsed": false,
    "deletable": true,
    "editable": true
   },
   "outputs": [],
   "source": [
    "%matplotlib inline\n",
    "pd.options.display.float_format = '{:.6f}'.format\n",
    "sns.set(style=\"white\", color_codes=True)\n",
    "\n",
    "# sns.palplot(sns.color_palette())\n",
    "\n",
    "# from IPython.display import display # Allows the use of display() for DataFrames\n",
    "# from IPython.display import set_matplotlib_formats\n",
    "# pd.options.display.float_format = '{:.2f}'.format\n",
    "# # sns.set(color_codes=True, palette=sns.palplot(sns.cubehelix_palette(8)))\n",
    "# # sns.set_palette(\"cubehelix_palette\")\n",
    "# %matplotlib inline\n",
    "# # set_matplotlib_formats('pdf', 'png')\n",
    "# rc={'savefig.dpi': 75,    'figure.autolayout': False,    'figure.figsize': [8, 6],    'axes.labelsize': 18,    'axes.titlesize': 18,    'font.size': 18,    'lines.linewidth': 2.0,    'lines.markersize': 8,    'legend.fontsize': 16,    'xtick.labelsize': 16,    'ytick.labelsize': 16,    }\n",
    "# # sns.set(style='dark')\n",
    "# sns.set(style='dark',rc=rc)\n",
    "# # default_color = '#56B4E9'\n",
    "# colormap = plt.cm.cool\n",
    "# # Import supplementary visualizations code visuals.py\n",
    "# # import visuals as vs\n",
    "# # Setting working directory\n",
    "# # path = '../data/raw/'\n",
    "# sns.set_palette(sns.cubehelix_palette(50))\n",
    "# sns.set_palette('GnBu_d')\n",
    "# sns.palplot(sns.color_palette())"
   ]
  },
  {
   "cell_type": "markdown",
   "metadata": {
    "deletable": true,
    "editable": true
   },
   "source": [
    "### Files"
   ]
  },
  {
   "cell_type": "code",
   "execution_count": 3,
   "metadata": {
    "collapsed": true,
    "deletable": true,
    "editable": true
   },
   "outputs": [],
   "source": [
    "train = pd.read_csv('train.csv')\n",
    "test = pd.read_csv('test.csv')"
   ]
  },
  {
   "cell_type": "markdown",
   "metadata": {
    "deletable": true,
    "editable": true
   },
   "source": [
    "## Data Exploring"
   ]
  },
  {
   "cell_type": "code",
   "execution_count": 4,
   "metadata": {
    "collapsed": false,
    "deletable": true,
    "editable": true
   },
   "outputs": [
    {
     "data": {
      "text/plain": [
       "(76020, 371)"
      ]
     },
     "execution_count": 4,
     "metadata": {},
     "output_type": "execute_result"
    }
   ],
   "source": [
    "train.shape"
   ]
  },
  {
   "cell_type": "code",
   "execution_count": 5,
   "metadata": {
    "collapsed": false,
    "deletable": true,
    "editable": true
   },
   "outputs": [
    {
     "data": {
      "text/plain": [
       "(75818, 370)"
      ]
     },
     "execution_count": 5,
     "metadata": {},
     "output_type": "execute_result"
    }
   ],
   "source": [
    "test.shape"
   ]
  },
  {
   "cell_type": "code",
   "execution_count": 6,
   "metadata": {
    "collapsed": false,
    "deletable": true,
    "editable": true
   },
   "outputs": [
    {
     "data": {
      "text/plain": [
       "{'TARGET'}"
      ]
     },
     "execution_count": 6,
     "metadata": {},
     "output_type": "execute_result"
    }
   ],
   "source": [
    "set(train.columns) - set(test.columns)"
   ]
  },
  {
   "cell_type": "markdown",
   "metadata": {
    "deletable": true,
    "editable": true
   },
   "source": [
    "### Overview"
   ]
  },
  {
   "cell_type": "code",
   "execution_count": 7,
   "metadata": {
    "collapsed": false,
    "deletable": true,
    "editable": true
   },
   "outputs": [
    {
     "name": "stdout",
     "output_type": "stream",
     "text": [
      "Total number of customers: 76020\n",
      "Number of satisfied customers: 73012\n",
      "Number of unsatisfied customers: 3008\n",
      "Satisfaction rate: 96.04%\n",
      "Number of features: 369\n"
     ]
    }
   ],
   "source": [
    "n_customers = len(train)\n",
    "n_unsatisfied = train.TARGET.sum()\n",
    "n_satisfied = (train.TARGET==0).sum()\n",
    "satisfaction_rate = float(n_satisfied)/n_customers\n",
    "\n",
    "features = test.columns.drop('ID').tolist()\n",
    "n_features = len(features)\n",
    "\n",
    "print(\"Total number of customers: {}\".format(n_customers))\n",
    "print(\"Number of satisfied customers: {}\".format(n_satisfied))\n",
    "print(\"Number of unsatisfied customers: {}\".format(n_unsatisfied))\n",
    "print(\"Satisfaction rate: {:.2f}%\".format(satisfaction_rate*100))\n",
    "print(\"Number of features: {}\".format(n_features))"
   ]
  },
  {
   "cell_type": "markdown",
   "metadata": {
    "deletable": true,
    "editable": true
   },
   "source": [
    "### ID Analysis"
   ]
  },
  {
   "cell_type": "code",
   "execution_count": 8,
   "metadata": {
    "collapsed": false,
    "deletable": true,
    "editable": true
   },
   "outputs": [
    {
     "data": {
      "text/plain": [
       "True"
      ]
     },
     "execution_count": 8,
     "metadata": {},
     "output_type": "execute_result"
    }
   ],
   "source": [
    "len(set(train.ID)) == len(train)"
   ]
  },
  {
   "cell_type": "code",
   "execution_count": 9,
   "metadata": {
    "collapsed": false,
    "deletable": true,
    "editable": true
   },
   "outputs": [],
   "source": [
    "train_id = train.ID\n",
    "test_id = test.ID\n",
    "train.drop('ID', inplace=True, axis=1)\n",
    "test.drop('ID', inplace=True, axis=1)"
   ]
  },
  {
   "cell_type": "markdown",
   "metadata": {
    "deletable": true,
    "editable": true
   },
   "source": [
    "### Target Analysis"
   ]
  },
  {
   "cell_type": "markdown",
   "metadata": {
    "deletable": true,
    "editable": true
   },
   "source": [
    "### Exploring Features"
   ]
  },
  {
   "cell_type": "markdown",
   "metadata": {
    "deletable": true,
    "editable": true
   },
   "source": [
    "## Data Preparation\n",
    "- Missing values. `train.columns[train.isnull().any()].tolist()`\n",
    "- Outliers and strange values\n",
    "- Remove duplicated features\n",
    "- Remove useless features\n",
    "- Remove useless and duplicated features checking it not only on training set but also on testing set (but maybe they could be useful on validation set).\n",
    "- This dataset has some repeated instances but with both class label, so that instances are noise. What I made was extract that noisy instances from the complete dataset. After that, I splitted the resulting complete dataset in 5 partitions and I ran xgboost on each one. Then, I made a majority vote of the five resulting predictions for each noisy instance that I extrated at the begining. Finally, I inserted that instances with the real class label."
   ]
  },
  {
   "cell_type": "code",
   "execution_count": 10,
   "metadata": {
    "collapsed": true,
    "deletable": true,
    "editable": true
   },
   "outputs": [],
   "source": [
    "# for c in train.select_dtypes('float'):\n",
    "#     sns.distplot(train[c]);"
   ]
  },
  {
   "cell_type": "markdown",
   "metadata": {
    "deletable": true,
    "editable": true
   },
   "source": [
    "### Cleaning"
   ]
  },
  {
   "cell_type": "code",
   "execution_count": 11,
   "metadata": {
    "collapsed": false,
    "deletable": true,
    "editable": true,
    "scrolled": true
   },
   "outputs": [],
   "source": [
    "def replace_weird(dfs, weird = [-999999, 9999999999.00]):\n",
    "    for df in dfs:\n",
    "        modes = df.mode()\n",
    "        for col in df.columns:\n",
    "            if any([i in df[col].values for i in weird]):\n",
    "#                 df['weird_'+col] = df[col].isin(weird)\n",
    "                df[col].mask(df[col].isin(weird), modes[col][0], inplace=True)\n",
    "\n",
    "replace_weird([train, test])"
   ]
  },
  {
   "cell_type": "code",
   "execution_count": 12,
   "metadata": {
    "collapsed": false,
    "deletable": true,
    "editable": true,
    "scrolled": true
   },
   "outputs": [],
   "source": [
    "def remove_useless(dfs):\n",
    "    remove = []\n",
    "    for df in dfs:\n",
    "        for col in df.columns:\n",
    "            if df[col].std() == 0:\n",
    "                remove.append(col)\n",
    "    for df in dfs:\n",
    "        df.drop(set(remove), axis=1, inplace=True)\n",
    "\n",
    "remove_useless([train, test])"
   ]
  },
  {
   "cell_type": "code",
   "execution_count": 13,
   "metadata": {
    "collapsed": false,
    "deletable": true,
    "editable": true
   },
   "outputs": [
    {
     "name": "stdout",
     "output_type": "stream",
     "text": [
      "Duplicated columns on test set are also duplicated on training set.          \n",
      "All duplicated being removed from both sets\n"
     ]
    }
   ],
   "source": [
    "def duplicated(df):\n",
    "    duplicated = []\n",
    "    c = df.columns\n",
    "    for i in range(len(c)-1):\n",
    "        v = df[c[i]].values\n",
    "        for j in range(i+1,len(c)):\n",
    "            if np.array_equal(v,df[c[j]].values):\n",
    "                duplicated.append(c[j])\n",
    "    return set(duplicated)\n",
    "\n",
    "\n",
    "duplicated_train = duplicated(train)\n",
    "duplicated_test = duplicated(test)\n",
    "\n",
    "if duplicated_test.issubset(duplicated_train):\n",
    "    print('Duplicated columns on test set are also duplicated on training set.\\\n",
    "          \\nAll duplicated being removed from both sets')\n",
    "    train.drop(duplicated_train, axis=1, inplace=True)\n",
    "    test.drop(duplicated_train, axis=1, inplace=True)"
   ]
  },
  {
   "cell_type": "code",
   "execution_count": 14,
   "metadata": {
    "collapsed": false
   },
   "outputs": [],
   "source": [
    "features = test.columns.tolist()\n",
    "n_features = len(features)"
   ]
  },
  {
   "cell_type": "code",
   "execution_count": 15,
   "metadata": {
    "collapsed": false,
    "deletable": true,
    "editable": true
   },
   "outputs": [],
   "source": [
    "# for c in train.select_dtypes('float'):\n",
    "#     sns.distplot(train[c]);"
   ]
  },
  {
   "cell_type": "markdown",
   "metadata": {
    "deletable": true,
    "editable": true
   },
   "source": [
    "### Preprocessing"
   ]
  },
  {
   "cell_type": "markdown",
   "metadata": {
    "deletable": true,
    "editable": true
   },
   "source": [
    "### Scaling\n",
    "- https://discuss.analyticsvidhya.com/t/methods-to-deal-with-zero-values-while-performing-log-transformation-of-variable/2431/3\n",
    "- Robust Scaler\n",
    "- Log Scaler\n",
    "- Scale Test"
   ]
  },
  {
   "cell_type": "code",
   "execution_count": 16,
   "metadata": {
    "collapsed": false,
    "deletable": true,
    "editable": true
   },
   "outputs": [],
   "source": [
    "from sklearn.preprocessing import MinMaxScaler\n",
    "\n",
    "min_max_scaler = MinMaxScaler()\n",
    "\n",
    "floats = train.select_dtypes('float').columns\n",
    "\n",
    "min_max_scaler.fit(pd.concat([train,test])[floats])\n",
    "\n",
    "train[floats] = pd.DataFrame(min_max_scaler.transform(train[floats]), columns=floats)\n",
    "test[floats] = pd.DataFrame(min_max_scaler.transform(test[floats]), columns=floats)"
   ]
  },
  {
   "cell_type": "code",
   "execution_count": 17,
   "metadata": {
    "collapsed": false,
    "deletable": true,
    "editable": true
   },
   "outputs": [],
   "source": [
    "# for c in train.select_dtypes('float'):\n",
    "#     sns.distplot(train[c]);"
   ]
  },
  {
   "cell_type": "markdown",
   "metadata": {
    "deletable": true,
    "editable": true
   },
   "source": [
    "## Models"
   ]
  },
  {
   "cell_type": "code",
   "execution_count": 18,
   "metadata": {
    "collapsed": false,
    "deletable": true,
    "editable": true
   },
   "outputs": [],
   "source": [
    "from sklearn.metrics import roc_auc_score\n",
    "from sklearn.metrics import make_scorer\n",
    "roc_auc_scorer = make_scorer(roc_auc_score, needs_proba=True) # Convert a metric to a scorer.\n",
    "\n",
    "from sklearn.model_selection import GridSearchCV\n",
    "from sklearn.model_selection import cross_val_score"
   ]
  },
  {
   "cell_type": "code",
   "execution_count": 19,
   "metadata": {
    "collapsed": false,
    "deletable": true,
    "editable": true
   },
   "outputs": [],
   "source": [
    "X = np.array(train.drop('TARGET', axis=1))\n",
    "y = np.array(train['TARGET'])"
   ]
  },
  {
   "cell_type": "markdown",
   "metadata": {
    "deletable": true,
    "editable": true
   },
   "source": [
    "### Benchmark"
   ]
  },
  {
   "cell_type": "code",
   "execution_count": 20,
   "metadata": {
    "collapsed": false,
    "deletable": true,
    "editable": true
   },
   "outputs": [
    {
     "data": {
      "text/plain": [
       "'All zeros benchmark has ROC_AUC score of 0.5'"
      ]
     },
     "execution_count": 20,
     "metadata": {},
     "output_type": "execute_result"
    }
   ],
   "source": [
    "'All zeros benchmark has ROC_AUC score of {}'.format(roc_auc_score(train.TARGET, np.zeros_like(train.TARGET)))"
   ]
  },
  {
   "cell_type": "markdown",
   "metadata": {
    "deletable": true,
    "editable": true
   },
   "source": [
    "### Baseline\n",
    "- Base Models\n",
    "- Grid Search\n",
    "- Model descriptions, strengths and weakness"
   ]
  },
  {
   "cell_type": "markdown",
   "metadata": {
    "deletable": true,
    "editable": true
   },
   "source": [
    "#### NaiveBayes"
   ]
  },
  {
   "cell_type": "code",
   "execution_count": 21,
   "metadata": {
    "collapsed": false,
    "deletable": true,
    "editable": true,
    "scrolled": true
   },
   "outputs": [
    {
     "data": {
      "text/plain": [
       "0.6040146013481933"
      ]
     },
     "execution_count": 21,
     "metadata": {},
     "output_type": "execute_result"
    }
   ],
   "source": [
    "from sklearn.naive_bayes import GaussianNB\n",
    "\n",
    "nb_classifier = GaussianNB()\n",
    "cross_val_score(nb_classifier, X, y, cv=3, scoring='roc_auc').mean()"
   ]
  },
  {
   "cell_type": "markdown",
   "metadata": {
    "deletable": true,
    "editable": true
   },
   "source": [
    "#### LogisticRegression"
   ]
  },
  {
   "cell_type": "code",
   "execution_count": 41,
   "metadata": {
    "collapsed": false,
    "deletable": true,
    "editable": true
   },
   "outputs": [],
   "source": [
    "from sklearn.linear_model import LogisticRegression\n",
    "\n",
    "lr_classifier = LogisticRegression(class_weight={0:0.2, 1:0.8}, random_state=3)\n",
    "cross_val_score(lr_classifier, X, y, cv=3, scoring='roc_auc').mean()"
   ]
  },
  {
   "cell_type": "markdown",
   "metadata": {
    "deletable": true,
    "editable": true
   },
   "source": [
    "#### DecisionTree"
   ]
  },
  {
   "cell_type": "code",
   "execution_count": 23,
   "metadata": {
    "collapsed": false,
    "deletable": true,
    "editable": true
   },
   "outputs": [
    {
     "data": {
      "text/plain": [
       "0.5700999301308526"
      ]
     },
     "execution_count": 23,
     "metadata": {},
     "output_type": "execute_result"
    }
   ],
   "source": [
    "from sklearn.tree import DecisionTreeClassifier\n",
    "\n",
    "dt_classifier = DecisionTreeClassifier(random_state=3)\n",
    "cross_val_score(dt_classifier, X, y, cv=3, scoring='roc_auc').mean()"
   ]
  },
  {
   "cell_type": "markdown",
   "metadata": {
    "deletable": true,
    "editable": true
   },
   "source": [
    "#### SVC"
   ]
  },
  {
   "cell_type": "code",
   "execution_count": 24,
   "metadata": {
    "collapsed": false,
    "deletable": true,
    "editable": true
   },
   "outputs": [
    {
     "name": "stdout",
     "output_type": "stream",
     "text": [
      "Too slow\n"
     ]
    }
   ],
   "source": [
    "# from sklearn.svm import SVC\n",
    "\n",
    "# sv_classifier = SVC()\n",
    "# # cross_val_score(sv_classifier, X, y, cv=3, scoring='roc_auc').mean()\n",
    "\n",
    "print('Too slow')"
   ]
  },
  {
   "cell_type": "markdown",
   "metadata": {
    "deletable": true,
    "editable": true
   },
   "source": [
    "#### MLP Classifier"
   ]
  },
  {
   "cell_type": "code",
   "execution_count": 25,
   "metadata": {
    "collapsed": false,
    "deletable": true,
    "editable": true
   },
   "outputs": [
    {
     "data": {
      "text/plain": [
       "0.7730016643562493"
      ]
     },
     "execution_count": 25,
     "metadata": {},
     "output_type": "execute_result"
    }
   ],
   "source": [
    "from sklearn.neural_network import MLPClassifier\n",
    "\n",
    "mlp_classifier = MLPClassifier(random_state=3)\n",
    "cross_val_score(mlp_classifier, X, y, cv=3, scoring='roc_auc').mean()"
   ]
  },
  {
   "cell_type": "markdown",
   "metadata": {
    "deletable": true,
    "editable": true
   },
   "source": [
    "#### Random Forest"
   ]
  },
  {
   "cell_type": "code",
   "execution_count": 26,
   "metadata": {
    "collapsed": false,
    "deletable": true,
    "editable": true
   },
   "outputs": [
    {
     "data": {
      "text/plain": [
       "0.6621994032545302"
      ]
     },
     "execution_count": 26,
     "metadata": {},
     "output_type": "execute_result"
    }
   ],
   "source": [
    "from sklearn.ensemble import RandomForestClassifier\n",
    "\n",
    "rf_classifier = RandomForestClassifier(random_state=3)\n",
    "cross_val_score(rf_classifier, X, y, cv=5, scoring='roc_auc').mean()"
   ]
  },
  {
   "cell_type": "markdown",
   "metadata": {
    "deletable": true,
    "editable": true
   },
   "source": [
    "#### XGBoost"
   ]
  },
  {
   "cell_type": "code",
   "execution_count": 27,
   "metadata": {
    "collapsed": false,
    "deletable": true,
    "editable": true,
    "scrolled": true
   },
   "outputs": [
    {
     "data": {
      "text/plain": [
       "0.8365905994444206"
      ]
     },
     "execution_count": 27,
     "metadata": {},
     "output_type": "execute_result"
    }
   ],
   "source": [
    "from xgboost import XGBClassifier\n",
    "\n",
    "xgb_classifier = XGBClassifier(random_state=3)\n",
    "cross_val_score(xgb_classifier, X, y, cv=3, scoring='roc_auc').mean()"
   ]
  },
  {
   "cell_type": "markdown",
   "metadata": {
    "deletable": true,
    "editable": true
   },
   "source": [
    "## Feature Engineering"
   ]
  },
  {
   "cell_type": "markdown",
   "metadata": {
    "deletable": true,
    "editable": true
   },
   "source": [
    "### One Hot Encoding"
   ]
  },
  {
   "cell_type": "code",
   "execution_count": 28,
   "metadata": {
    "collapsed": false,
    "deletable": true,
    "editable": true,
    "scrolled": false
   },
   "outputs": [
    {
     "data": {
      "image/png": "[encoded data removed]",
      "text/plain": [
       "<matplotlib.figure.Figure at 0x10b747ed0>"
      ]
     },
     "metadata": {},
     "output_type": "display_data"
    }
   ],
   "source": [
    "sns.distplot(train.select_dtypes('int').nunique(), kde=False);"
   ]
  },
  {
   "cell_type": "code",
   "execution_count": 29,
   "metadata": {
    "collapsed": false,
    "deletable": true,
    "editable": true
   },
   "outputs": [],
   "source": [
    "def OHE(train = train, test = test, limit=10):\n",
    "    oh_df = pd.concat([train, test])\n",
    "    for c in oh_df.select_dtypes(int):\n",
    "        if oh_df[c].nunique()>2 and oh_df[c].nunique()<limit:\n",
    "            for val in set(oh_df[c]):\n",
    "                train[c+'_oh_' + str(val)] = (train[c].values == val).astype(np.int)\n",
    "                test[c+'_oh_' + str(val)] = (test[c].values == val).astype(np.int)            \n",
    "#             train.drop(c, axis=1)\n",
    "#             test.drop(c, axis=1)\n",
    "\n",
    "OHE()"
   ]
  },
  {
   "cell_type": "markdown",
   "metadata": {},
   "source": [
    "### Extra Features"
   ]
  },
  {
   "cell_type": "markdown",
   "metadata": {
    "deletable": true,
    "editable": true
   },
   "source": [
    "#### Values sum"
   ]
  },
  {
   "cell_type": "code",
   "execution_count": 30,
   "metadata": {
    "collapsed": false,
    "deletable": true,
    "editable": true
   },
   "outputs": [],
   "source": [
    "def values_sum(df):\n",
    "    df['values_sum'] = df[features].sum(axis=1).astype(float)\n",
    "\n",
    "values_sum(train)\n",
    "values_sum(test)"
   ]
  },
  {
   "cell_type": "markdown",
   "metadata": {
    "deletable": true,
    "editable": true
   },
   "source": [
    "#### Count zeros"
   ]
  },
  {
   "cell_type": "code",
   "execution_count": 31,
   "metadata": {
    "collapsed": true,
    "deletable": true,
    "editable": true
   },
   "outputs": [],
   "source": [
    "def count_zeros(df):\n",
    "    df['zeros'] = (df[features]==0).sum(axis=1).astype(float)\n",
    "    \n",
    "count_zeros(train)\n",
    "count_zeros(test)"
   ]
  },
  {
   "cell_type": "markdown",
   "metadata": {
    "deletable": true,
    "editable": true
   },
   "source": [
    "#### Value == Mode"
   ]
  },
  {
   "cell_type": "code",
   "execution_count": 32,
   "metadata": {
    "collapsed": false,
    "deletable": true,
    "editable": true
   },
   "outputs": [],
   "source": [
    "def check_if_is_mode(df):\n",
    "    modes = df.mode()\n",
    "    for c in features:\n",
    "        df['is_mode_of_'+c] = (df[c]==modes[c][0]).astype(int)\n",
    "\n",
    "check_if_is_mode(train)\n",
    "check_if_is_mode(test)"
   ]
  },
  {
   "cell_type": "markdown",
   "metadata": {
    "deletable": true,
    "editable": true
   },
   "source": [
    "### Feature Scaling"
   ]
  },
  {
   "cell_type": "code",
   "execution_count": 33,
   "metadata": {
    "collapsed": false,
    "deletable": true,
    "editable": true,
    "scrolled": true
   },
   "outputs": [],
   "source": [
    "# sns.countplot(train.dtypes);"
   ]
  },
  {
   "cell_type": "code",
   "execution_count": 34,
   "metadata": {
    "collapsed": false
   },
   "outputs": [],
   "source": [
    "# for f in train.select_dtypes('float').columns:\n",
    "#     sns.distplot(train[f])"
   ]
  },
  {
   "cell_type": "code",
   "execution_count": 35,
   "metadata": {
    "collapsed": true
   },
   "outputs": [],
   "source": [
    "floats = train.select_dtypes('float').columns\n",
    "min_max_scaler.fit(pd.concat([train,test])[floats])\n",
    "\n",
    "train[floats] = pd.DataFrame(min_max_scaler.transform(train[floats]), columns=floats)\n",
    "test[floats] = pd.DataFrame(min_max_scaler.transform(test[floats]), columns=floats)"
   ]
  },
  {
   "cell_type": "code",
   "execution_count": 36,
   "metadata": {
    "collapsed": false
   },
   "outputs": [
    {
     "name": "stdout",
     "output_type": "stream",
     "text": [
      "Minimum non-zero value in data is 0.0000000069\n"
     ]
    }
   ],
   "source": [
    "minimum_float = pd.concat([train.select_dtypes(float), test.select_dtypes(float)]).replace(0,10).min().min()\n",
    "print('Minimum non-zero value in data is {:.10f}'.format(float(minimum_float)))"
   ]
  },
  {
   "cell_type": "code",
   "execution_count": 37,
   "metadata": {
    "collapsed": false,
    "scrolled": false
   },
   "outputs": [],
   "source": [
    "# for f in train.select_dtypes('float').columns:\n",
    "#     sns.distplot(train[f].apply(lambda x: minimum_float/2 if x==0 else x).apply(np.log))"
   ]
  },
  {
   "cell_type": "code",
   "execution_count": 38,
   "metadata": {
    "collapsed": false,
    "deletable": true,
    "editable": true
   },
   "outputs": [],
   "source": [
    "# for f in train.select_dtypes('float').columns:\n",
    "#     m = train[f].mode()[0]\n",
    "#     sns.distplot(train[train[f]!=m][f].apply(lambda x: minimum_float/2 if x==0 else x).apply(np.log))"
   ]
  },
  {
   "cell_type": "code",
   "execution_count": 39,
   "metadata": {
    "collapsed": false
   },
   "outputs": [],
   "source": [
    "floats = train.select_dtypes('float').columns\n",
    "\n",
    "train[floats] = train[floats].applymap(lambda x: minimum_float/2 if x==0 else x).apply(np.log)\n",
    "test[floats] = test[floats].applymap(lambda x: minimum_float/2 if x==0 else x).apply(np.log)"
   ]
  },
  {
   "cell_type": "markdown",
   "metadata": {},
   "source": [
    "### Feature Selection"
   ]
  },
  {
   "cell_type": "code",
   "execution_count": 46,
   "metadata": {
    "collapsed": false
   },
   "outputs": [],
   "source": [
    "def get_feature_importances(data):\n",
    "    n = len(data.drop('TARGET', axis=1).columns)\n",
    "    \n",
    "    X = np.array(data.drop('TARGET', axis=1))\n",
    "    y = np.array(data['TARGET'])\n",
    "    \n",
    "    lr_classifier.fit(X, y)\n",
    "    mlp_classifier.fit(X, y)\n",
    "    xgb_classifier.fit(X, y)\n",
    "\n",
    "    i_mlp = np.absolute(np.dot(mlp_classifier.coefs_[0],mlp_classifier.coefs_[1]).reshape(n))\n",
    "    i_lr = np.absolute(lr_classifier.coef_.reshape(n))\n",
    "    i_xgb = xgb_classifier.feature_importances_\n",
    "    \n",
    "    importances = pd.DataFrame({'mlp': i_mlp, 'lr': i_lr, 'xgb': i_xgb}, index=data.drop('TARGET', axis=1).columns)\n",
    "    importances = importances / importances.max()\n",
    "    importances['i'] = importances.sum(axis=1)\n",
    "    importances.sort_values('i', ascending=False, inplace=True)\n",
    "    \n",
    "    return importances\n",
    "\n",
    "importances = get_feature_importances(train)"
   ]
  },
  {
   "cell_type": "code",
   "execution_count": 47,
   "metadata": {
    "collapsed": false,
    "deletable": true,
    "editable": true,
    "scrolled": false
   },
   "outputs": [],
   "source": [
    "# sns.distplot(importances.i, kde=False);"
   ]
  },
  {
   "cell_type": "code",
   "execution_count": 50,
   "metadata": {
    "collapsed": false,
    "deletable": true,
    "editable": true
   },
   "outputs": [
    {
     "data": {
      "text/plain": [
       "314"
      ]
     },
     "execution_count": 50,
     "metadata": {},
     "output_type": "execute_result"
    }
   ],
   "source": [
    "n_important = len(importances.loc[importances.i>importances.i.mean()])\n",
    "n_important"
   ]
  },
  {
   "cell_type": "code",
   "execution_count": 51,
   "metadata": {
    "collapsed": false,
    "deletable": true,
    "editable": true
   },
   "outputs": [
    {
     "data": {
      "image/png": "[encoded data removed]",
      "text/plain": [
       "<matplotlib.figure.Figure at 0x10c3cf510>"
      ]
     },
     "metadata": {},
     "output_type": "display_data"
    }
   ],
   "source": [
    "sns.distplot(importances.i.head(n_important), kde=False);"
   ]
  },
  {
   "cell_type": "code",
   "execution_count": 52,
   "metadata": {
    "collapsed": false,
    "deletable": true,
    "editable": true,
    "scrolled": true
   },
   "outputs": [
    {
     "name": "stdout",
     "output_type": "stream",
     "text": [
      "0.8373308685490173\n",
      "0.8148828488976902\n",
      "0.8180516809870341\n"
     ]
    }
   ],
   "source": [
    "X_top_features = np.array(train[importances.head(n_important).index])\n",
    "\n",
    "print(cross_val_score(xgb_classifier, X_top_features, y, cv=3, scoring='roc_auc').mean())\n",
    "print(cross_val_score(mlp_classifier, X_top_features, y, cv=3, scoring='roc_auc').mean())\n",
    "print(cross_val_score(lr_classifier, X_top_features, y, cv=3, scoring='roc_auc').mean())"
   ]
  },
  {
   "cell_type": "code",
   "execution_count": 53,
   "metadata": {
    "collapsed": false,
    "deletable": true,
    "editable": true
   },
   "outputs": [],
   "source": [
    "train = train[list(importances.head(n_important).index)+['TARGET']]\n",
    "test = test[importances.head(n_important).index]"
   ]
  },
  {
   "cell_type": "markdown",
   "metadata": {
    "deletable": true,
    "editable": true
   },
   "source": [
    "## Parameter Optmization\n",
    "#### Grid Search"
   ]
  },
  {
   "cell_type": "code",
   "execution_count": 54,
   "metadata": {
    "collapsed": true
   },
   "outputs": [],
   "source": [
    "from sklearn.model_selection import GridSearchCV\n",
    "\n",
    "X = np.array(train.drop('TARGET', axis=1))\n",
    "y = np.array(train['TARGET'])"
   ]
  },
  {
   "cell_type": "code",
   "execution_count": 56,
   "metadata": {
    "collapsed": true
   },
   "outputs": [
    {
     "name": "stdout",
     "output_type": "stream",
     "text": [
      "Fitting 3 folds for each of 36 candidates, totalling 108 fits\n",
      "[CV] activation=relu, learning_rate=constant, learning_rate_init=0.0001, hidden_layer_sizes=(100,) \n",
      "[CV]  activation=relu, learning_rate=constant, learning_rate_init=0.0001, hidden_layer_sizes=(100,), score=0.7660670712, total=   8.0s\n",
      "[CV] activation=relu, learning_rate=constant, learning_rate_init=0.0001, hidden_layer_sizes=(100,) \n"
     ]
    },
    {
     "name": "stderr",
     "output_type": "stream",
     "text": [
      "[Parallel(n_jobs=1)]: Done   1 out of   1 | elapsed:    8.3s remaining:    0.0s\n"
     ]
    },
    {
     "name": "stdout",
     "output_type": "stream",
     "text": [
      "[CV]  activation=relu, learning_rate=constant, learning_rate_init=0.0001, hidden_layer_sizes=(100,), score=0.791717709591, total=   8.3s\n",
      "[CV] activation=relu, learning_rate=constant, learning_rate_init=0.0001, hidden_layer_sizes=(100,) \n"
     ]
    },
    {
     "name": "stderr",
     "output_type": "stream",
     "text": [
      "[Parallel(n_jobs=1)]: Done   2 out of   2 | elapsed:   16.9s remaining:    0.0s\n"
     ]
    },
    {
     "name": "stdout",
     "output_type": "stream",
     "text": [
      "[CV]  activation=relu, learning_rate=constant, learning_rate_init=0.0001, hidden_layer_sizes=(100,), score=0.80458973576, total=   6.2s\n",
      "[CV] activation=relu, learning_rate=constant, learning_rate_init=0.001, hidden_layer_sizes=(100,) \n",
      "[CV]  activation=relu, learning_rate=constant, learning_rate_init=0.001, hidden_layer_sizes=(100,), score=0.795870421442, total=   7.2s\n",
      "[CV] activation=relu, learning_rate=constant, learning_rate_init=0.001, hidden_layer_sizes=(100,) \n",
      "[CV]  activation=relu, learning_rate=constant, learning_rate_init=0.001, hidden_layer_sizes=(100,), score=0.793305377863, total=   6.7s\n",
      "[CV] activation=relu, learning_rate=constant, learning_rate_init=0.001, hidden_layer_sizes=(100,) \n",
      "[CV]  activation=relu, learning_rate=constant, learning_rate_init=0.001, hidden_layer_sizes=(100,), score=0.814041637725, total=   5.8s\n",
      "[CV] activation=relu, learning_rate=constant, learning_rate_init=0.01, hidden_layer_sizes=(100,) \n",
      "[CV]  activation=relu, learning_rate=constant, learning_rate_init=0.01, hidden_layer_sizes=(100,), score=0.775732175648, total=   4.6s\n",
      "[CV] activation=relu, learning_rate=constant, learning_rate_init=0.01, hidden_layer_sizes=(100,) \n",
      "[CV]  activation=relu, learning_rate=constant, learning_rate_init=0.01, hidden_layer_sizes=(100,), score=0.795980018198, total=   5.7s\n",
      "[CV] activation=relu, learning_rate=constant, learning_rate_init=0.01, hidden_layer_sizes=(100,) \n",
      "[CV]  activation=relu, learning_rate=constant, learning_rate_init=0.01, hidden_layer_sizes=(100,), score=0.789067589438, total=   5.0s\n",
      "[CV] activation=relu, learning_rate=adaptive, learning_rate_init=0.0001, hidden_layer_sizes=(100,) \n",
      "[CV]  activation=relu, learning_rate=adaptive, learning_rate_init=0.0001, hidden_layer_sizes=(100,), score=0.781160422095, total=   6.4s\n",
      "[CV] activation=relu, learning_rate=adaptive, learning_rate_init=0.0001, hidden_layer_sizes=(100,) \n",
      "[CV]  activation=relu, learning_rate=adaptive, learning_rate_init=0.0001, hidden_layer_sizes=(100,), score=0.783012715562, total=   6.7s\n",
      "[CV] activation=relu, learning_rate=adaptive, learning_rate_init=0.0001, hidden_layer_sizes=(100,) \n",
      "[CV]  activation=relu, learning_rate=adaptive, learning_rate_init=0.0001, hidden_layer_sizes=(100,), score=0.666227761431, total=   4.4s\n",
      "[CV] activation=relu, learning_rate=adaptive, learning_rate_init=0.001, hidden_layer_sizes=(100,) \n",
      "[CV]  activation=relu, learning_rate=adaptive, learning_rate_init=0.001, hidden_layer_sizes=(100,), score=0.792205559343, total=   5.1s\n",
      "[CV] activation=relu, learning_rate=adaptive, learning_rate_init=0.001, hidden_layer_sizes=(100,) \n",
      "[CV]  activation=relu, learning_rate=adaptive, learning_rate_init=0.001, hidden_layer_sizes=(100,), score=0.789236924146, total=   5.6s\n",
      "[CV] activation=relu, learning_rate=adaptive, learning_rate_init=0.001, hidden_layer_sizes=(100,) \n",
      "[CV]  activation=relu, learning_rate=adaptive, learning_rate_init=0.001, hidden_layer_sizes=(100,), score=0.801849561345, total=   5.4s\n",
      "[CV] activation=relu, learning_rate=adaptive, learning_rate_init=0.01, hidden_layer_sizes=(100,) \n",
      "[CV]  activation=relu, learning_rate=adaptive, learning_rate_init=0.01, hidden_layer_sizes=(100,), score=0.79217262339, total=   8.7s\n",
      "[CV] activation=relu, learning_rate=adaptive, learning_rate_init=0.01, hidden_layer_sizes=(100,) \n",
      "[CV]  activation=relu, learning_rate=adaptive, learning_rate_init=0.01, hidden_layer_sizes=(100,), score=0.78874300794, total=   4.9s\n",
      "[CV] activation=relu, learning_rate=adaptive, learning_rate_init=0.01, hidden_layer_sizes=(100,) \n",
      "[CV]  activation=relu, learning_rate=adaptive, learning_rate_init=0.01, hidden_layer_sizes=(100,), score=0.786608317654, total=   4.9s\n",
      "[CV] activation=relu, learning_rate=constant, learning_rate_init=0.0001, hidden_layer_sizes=(200, 100, 10) \n",
      "[CV]  activation=relu, learning_rate=constant, learning_rate_init=0.0001, hidden_layer_sizes=(200, 100, 10), score=0.780451930428, total=   9.9s\n",
      "[CV] activation=relu, learning_rate=constant, learning_rate_init=0.0001, hidden_layer_sizes=(200, 100, 10) \n",
      "[CV]  activation=relu, learning_rate=constant, learning_rate_init=0.0001, hidden_layer_sizes=(200, 100, 10), score=0.787795036225, total=   8.9s\n",
      "[CV] activation=relu, learning_rate=constant, learning_rate_init=0.0001, hidden_layer_sizes=(200, 100, 10) \n",
      "[CV]  activation=relu, learning_rate=constant, learning_rate_init=0.0001, hidden_layer_sizes=(200, 100, 10), score=0.788397154821, total=  10.7s\n",
      "[CV] activation=relu, learning_rate=constant, learning_rate_init=0.001, hidden_layer_sizes=(200, 100, 10) \n",
      "[CV]  activation=relu, learning_rate=constant, learning_rate_init=0.001, hidden_layer_sizes=(200, 100, 10), score=0.805344300732, total=  13.5s\n",
      "[CV] activation=relu, learning_rate=constant, learning_rate_init=0.001, hidden_layer_sizes=(200, 100, 10) \n",
      "[CV]  activation=relu, learning_rate=constant, learning_rate_init=0.001, hidden_layer_sizes=(200, 100, 10), score=0.753299291836, total=   9.4s\n",
      "[CV] activation=relu, learning_rate=constant, learning_rate_init=0.001, hidden_layer_sizes=(200, 100, 10) \n",
      "[CV]  activation=relu, learning_rate=constant, learning_rate_init=0.001, hidden_layer_sizes=(200, 100, 10), score=0.77737759063, total=  11.5s\n",
      "[CV] activation=relu, learning_rate=constant, learning_rate_init=0.01, hidden_layer_sizes=(200, 100, 10) \n",
      "[CV]  activation=relu, learning_rate=constant, learning_rate_init=0.01, hidden_layer_sizes=(200, 100, 10), score=0.768285659907, total=   9.1s\n",
      "[CV] activation=relu, learning_rate=constant, learning_rate_init=0.01, hidden_layer_sizes=(200, 100, 10) \n",
      "[CV]  activation=relu, learning_rate=constant, learning_rate_init=0.01, hidden_layer_sizes=(200, 100, 10), score=0.785367343751, total=   9.1s\n",
      "[CV] activation=relu, learning_rate=constant, learning_rate_init=0.01, hidden_layer_sizes=(200, 100, 10) \n",
      "[CV]  activation=relu, learning_rate=constant, learning_rate_init=0.01, hidden_layer_sizes=(200, 100, 10), score=0.5, total=   9.6s\n",
      "[CV] activation=relu, learning_rate=adaptive, learning_rate_init=0.0001, hidden_layer_sizes=(200, 100, 10) \n",
      "[CV]  activation=relu, learning_rate=adaptive, learning_rate_init=0.0001, hidden_layer_sizes=(200, 100, 10), score=0.749834029836, total=   9.7s\n",
      "[CV] activation=relu, learning_rate=adaptive, learning_rate_init=0.0001, hidden_layer_sizes=(200, 100, 10) \n",
      "[CV]  activation=relu, learning_rate=adaptive, learning_rate_init=0.0001, hidden_layer_sizes=(200, 100, 10), score=0.768482304248, total=   9.3s\n",
      "[CV] activation=relu, learning_rate=adaptive, learning_rate_init=0.0001, hidden_layer_sizes=(200, 100, 10) \n",
      "[CV]  activation=relu, learning_rate=adaptive, learning_rate_init=0.0001, hidden_layer_sizes=(200, 100, 10), score=0.791674037798, total=   9.2s\n",
      "[CV] activation=relu, learning_rate=adaptive, learning_rate_init=0.001, hidden_layer_sizes=(200, 100, 10) \n",
      "[CV]  activation=relu, learning_rate=adaptive, learning_rate_init=0.001, hidden_layer_sizes=(200, 100, 10), score=0.785731391576, total=   9.6s\n",
      "[CV] activation=relu, learning_rate=adaptive, learning_rate_init=0.001, hidden_layer_sizes=(200, 100, 10) \n",
      "[CV]  activation=relu, learning_rate=adaptive, learning_rate_init=0.001, hidden_layer_sizes=(200, 100, 10), score=0.796543024909, total=   9.5s\n",
      "[CV] activation=relu, learning_rate=adaptive, learning_rate_init=0.001, hidden_layer_sizes=(200, 100, 10) \n",
      "[CV]  activation=relu, learning_rate=adaptive, learning_rate_init=0.001, hidden_layer_sizes=(200, 100, 10), score=0.803699725503, total=   9.3s\n",
      "[CV] activation=relu, learning_rate=adaptive, learning_rate_init=0.01, hidden_layer_sizes=(200, 100, 10) \n",
      "[CV]  activation=relu, learning_rate=adaptive, learning_rate_init=0.01, hidden_layer_sizes=(200, 100, 10), score=0.773750529167, total=   9.8s\n",
      "[CV] activation=relu, learning_rate=adaptive, learning_rate_init=0.01, hidden_layer_sizes=(200, 100, 10) \n",
      "[CV]  activation=relu, learning_rate=adaptive, learning_rate_init=0.01, hidden_layer_sizes=(200, 100, 10), score=0.783625947567, total=  10.2s\n",
      "[CV] activation=relu, learning_rate=adaptive, learning_rate_init=0.01, hidden_layer_sizes=(200, 100, 10) \n",
      "[CV]  activation=relu, learning_rate=adaptive, learning_rate_init=0.01, hidden_layer_sizes=(200, 100, 10), score=0.795381973039, total=   9.9s\n",
      "[CV] activation=relu, learning_rate=constant, learning_rate_init=0.0001, hidden_layer_sizes=(100, 50, 10) \n",
      "[CV]  activation=relu, learning_rate=constant, learning_rate_init=0.0001, hidden_layer_sizes=(100, 50, 10), score=0.742089083231, total=   5.7s\n",
      "[CV] activation=relu, learning_rate=constant, learning_rate_init=0.0001, hidden_layer_sizes=(100, 50, 10) \n",
      "[CV]  activation=relu, learning_rate=constant, learning_rate_init=0.0001, hidden_layer_sizes=(100, 50, 10), score=0.678288018797, total=   5.5s\n",
      "[CV] activation=relu, learning_rate=constant, learning_rate_init=0.0001, hidden_layer_sizes=(100, 50, 10) \n",
      "[CV]  activation=relu, learning_rate=constant, learning_rate_init=0.0001, hidden_layer_sizes=(100, 50, 10), score=0.784563325992, total=   7.8s\n",
      "[CV] activation=relu, learning_rate=constant, learning_rate_init=0.001, hidden_layer_sizes=(100, 50, 10) \n",
      "[CV]  activation=relu, learning_rate=constant, learning_rate_init=0.001, hidden_layer_sizes=(100, 50, 10), score=0.789632458529, total=   6.6s\n",
      "[CV] activation=relu, learning_rate=constant, learning_rate_init=0.001, hidden_layer_sizes=(100, 50, 10) \n",
      "[CV]  activation=relu, learning_rate=constant, learning_rate_init=0.001, hidden_layer_sizes=(100, 50, 10), score=0.777970522012, total=   6.0s\n",
      "[CV] activation=relu, learning_rate=constant, learning_rate_init=0.001, hidden_layer_sizes=(100, 50, 10) \n",
      "[CV]  activation=relu, learning_rate=constant, learning_rate_init=0.001, hidden_layer_sizes=(100, 50, 10), score=0.804163358372, total=   6.5s\n",
      "[CV] activation=relu, learning_rate=constant, learning_rate_init=0.01, hidden_layer_sizes=(100, 50, 10) \n",
      "[CV]  activation=relu, learning_rate=constant, learning_rate_init=0.01, hidden_layer_sizes=(100, 50, 10), score=0.783089182612, total=   8.2s\n",
      "[CV] activation=relu, learning_rate=constant, learning_rate_init=0.01, hidden_layer_sizes=(100, 50, 10) \n",
      "[CV]  activation=relu, learning_rate=constant, learning_rate_init=0.01, hidden_layer_sizes=(100, 50, 10), score=0.767941440092, total=   5.6s\n",
      "[CV] activation=relu, learning_rate=constant, learning_rate_init=0.01, hidden_layer_sizes=(100, 50, 10) \n",
      "[CV]  activation=relu, learning_rate=constant, learning_rate_init=0.01, hidden_layer_sizes=(100, 50, 10), score=0.797030953502, total=   6.1s\n",
      "[CV] activation=relu, learning_rate=adaptive, learning_rate_init=0.0001, hidden_layer_sizes=(100, 50, 10) \n",
      "[CV]  activation=relu, learning_rate=adaptive, learning_rate_init=0.0001, hidden_layer_sizes=(100, 50, 10), score=0.789163080239, total=   8.3s\n",
      "[CV] activation=relu, learning_rate=adaptive, learning_rate_init=0.0001, hidden_layer_sizes=(100, 50, 10) \n",
      "[CV]  activation=relu, learning_rate=adaptive, learning_rate_init=0.0001, hidden_layer_sizes=(100, 50, 10), score=0.776033550333, total=   8.6s\n",
      "[CV] activation=relu, learning_rate=adaptive, learning_rate_init=0.0001, hidden_layer_sizes=(100, 50, 10) \n",
      "[CV]  activation=relu, learning_rate=adaptive, learning_rate_init=0.0001, hidden_layer_sizes=(100, 50, 10), score=0.765315406086, total=   6.8s\n",
      "[CV] activation=relu, learning_rate=adaptive, learning_rate_init=0.001, hidden_layer_sizes=(100, 50, 10) \n",
      "[CV]  activation=relu, learning_rate=adaptive, learning_rate_init=0.001, hidden_layer_sizes=(100, 50, 10), score=0.783701652049, total=   7.2s\n",
      "[CV] activation=relu, learning_rate=adaptive, learning_rate_init=0.001, hidden_layer_sizes=(100, 50, 10) \n",
      "[CV]  activation=relu, learning_rate=adaptive, learning_rate_init=0.001, hidden_layer_sizes=(100, 50, 10), score=0.801365636419, total=   6.1s\n",
      "[CV] activation=relu, learning_rate=adaptive, learning_rate_init=0.001, hidden_layer_sizes=(100, 50, 10) \n",
      "[CV]  activation=relu, learning_rate=adaptive, learning_rate_init=0.001, hidden_layer_sizes=(100, 50, 10), score=0.795823072186, total=   6.1s\n",
      "[CV] activation=relu, learning_rate=adaptive, learning_rate_init=0.01, hidden_layer_sizes=(100, 50, 10) \n",
      "[CV]  activation=relu, learning_rate=adaptive, learning_rate_init=0.01, hidden_layer_sizes=(100, 50, 10), score=0.774083247832, total=   5.8s\n",
      "[CV] activation=relu, learning_rate=adaptive, learning_rate_init=0.01, hidden_layer_sizes=(100, 50, 10) \n",
      "[CV]  activation=relu, learning_rate=adaptive, learning_rate_init=0.01, hidden_layer_sizes=(100, 50, 10), score=0.78539288655, total=   6.1s\n",
      "[CV] activation=relu, learning_rate=adaptive, learning_rate_init=0.01, hidden_layer_sizes=(100, 50, 10) \n",
      "[CV]  activation=relu, learning_rate=adaptive, learning_rate_init=0.01, hidden_layer_sizes=(100, 50, 10), score=0.793162780738, total=   6.0s\n",
      "[CV] activation=tanh, learning_rate=constant, learning_rate_init=0.0001, hidden_layer_sizes=(100,) \n",
      "[CV]  activation=tanh, learning_rate=constant, learning_rate_init=0.0001, hidden_layer_sizes=(100,), score=0.758266289143, total=   4.8s\n",
      "[CV] activation=tanh, learning_rate=constant, learning_rate_init=0.0001, hidden_layer_sizes=(100,) \n",
      "[CV]  activation=tanh, learning_rate=constant, learning_rate_init=0.0001, hidden_layer_sizes=(100,), score=0.778864253687, total=   4.6s\n",
      "[CV] activation=tanh, learning_rate=constant, learning_rate_init=0.0001, hidden_layer_sizes=(100,) \n",
      "[CV]  activation=tanh, learning_rate=constant, learning_rate_init=0.0001, hidden_layer_sizes=(100,), score=0.786056477258, total=   5.5s\n",
      "[CV] activation=tanh, learning_rate=constant, learning_rate_init=0.001, hidden_layer_sizes=(100,) \n",
      "[CV]  activation=tanh, learning_rate=constant, learning_rate_init=0.001, hidden_layer_sizes=(100,), score=0.777515632902, total=   5.0s\n",
      "[CV] activation=tanh, learning_rate=constant, learning_rate_init=0.001, hidden_layer_sizes=(100,) \n",
      "[CV]  activation=tanh, learning_rate=constant, learning_rate_init=0.001, hidden_layer_sizes=(100,), score=0.765564935632, total=   5.1s\n",
      "[CV] activation=tanh, learning_rate=constant, learning_rate_init=0.001, hidden_layer_sizes=(100,) \n",
      "[CV]  activation=tanh, learning_rate=constant, learning_rate_init=0.001, hidden_layer_sizes=(100,), score=0.778951424513, total=   5.1s\n",
      "[CV] activation=tanh, learning_rate=constant, learning_rate_init=0.01, hidden_layer_sizes=(100,) \n",
      "[CV]  activation=tanh, learning_rate=constant, learning_rate_init=0.01, hidden_layer_sizes=(100,), score=0.324250315862, total=   4.8s\n",
      "[CV] activation=tanh, learning_rate=constant, learning_rate_init=0.01, hidden_layer_sizes=(100,) \n",
      "[CV]  activation=tanh, learning_rate=constant, learning_rate_init=0.01, hidden_layer_sizes=(100,), score=0.302473481065, total=   4.7s\n",
      "[CV] activation=tanh, learning_rate=constant, learning_rate_init=0.01, hidden_layer_sizes=(100,) \n",
      "[CV]  activation=tanh, learning_rate=constant, learning_rate_init=0.01, hidden_layer_sizes=(100,), score=0.315375945729, total=   5.4s\n",
      "[CV] activation=tanh, learning_rate=adaptive, learning_rate_init=0.0001, hidden_layer_sizes=(100,) \n",
      "[CV]  activation=tanh, learning_rate=adaptive, learning_rate_init=0.0001, hidden_layer_sizes=(100,), score=0.756417615426, total=   5.9s\n",
      "[CV] activation=tanh, learning_rate=adaptive, learning_rate_init=0.0001, hidden_layer_sizes=(100,) \n",
      "[CV]  activation=tanh, learning_rate=adaptive, learning_rate_init=0.0001, hidden_layer_sizes=(100,), score=0.744994195209, total=   6.2s\n",
      "[CV] activation=tanh, learning_rate=adaptive, learning_rate_init=0.0001, hidden_layer_sizes=(100,) \n",
      "[CV]  activation=tanh, learning_rate=adaptive, learning_rate_init=0.0001, hidden_layer_sizes=(100,), score=0.800437584789, total=   8.8s\n",
      "[CV] activation=tanh, learning_rate=adaptive, learning_rate_init=0.001, hidden_layer_sizes=(100,) \n",
      "[CV]  activation=tanh, learning_rate=adaptive, learning_rate_init=0.001, hidden_layer_sizes=(100,), score=0.768386802777, total=   5.1s\n",
      "[CV] activation=tanh, learning_rate=adaptive, learning_rate_init=0.001, hidden_layer_sizes=(100,) \n",
      "[CV]  activation=tanh, learning_rate=adaptive, learning_rate_init=0.001, hidden_layer_sizes=(100,), score=0.781366034616, total=   5.1s\n",
      "[CV] activation=tanh, learning_rate=adaptive, learning_rate_init=0.001, hidden_layer_sizes=(100,) \n",
      "[CV]  activation=tanh, learning_rate=adaptive, learning_rate_init=0.001, hidden_layer_sizes=(100,), score=0.793237783791, total=   4.8s\n",
      "[CV] activation=tanh, learning_rate=adaptive, learning_rate_init=0.01, hidden_layer_sizes=(100,) \n",
      "[CV]  activation=tanh, learning_rate=adaptive, learning_rate_init=0.01, hidden_layer_sizes=(100,), score=0.37125231668, total=   4.7s\n",
      "[CV] activation=tanh, learning_rate=adaptive, learning_rate_init=0.01, hidden_layer_sizes=(100,) \n",
      "[CV]  activation=tanh, learning_rate=adaptive, learning_rate_init=0.01, hidden_layer_sizes=(100,), score=0.335774776996, total=   4.6s\n",
      "[CV] activation=tanh, learning_rate=adaptive, learning_rate_init=0.01, hidden_layer_sizes=(100,) \n",
      "[CV]  activation=tanh, learning_rate=adaptive, learning_rate_init=0.01, hidden_layer_sizes=(100,), score=0.292202032226, total=   4.7s\n",
      "[CV] activation=tanh, learning_rate=constant, learning_rate_init=0.0001, hidden_layer_sizes=(200, 100, 10) \n",
      "[CV]  activation=tanh, learning_rate=constant, learning_rate_init=0.0001, hidden_layer_sizes=(200, 100, 10), score=0.781187827757, total=  10.4s\n",
      "[CV] activation=tanh, learning_rate=constant, learning_rate_init=0.0001, hidden_layer_sizes=(200, 100, 10) \n",
      "[CV]  activation=tanh, learning_rate=constant, learning_rate_init=0.0001, hidden_layer_sizes=(200, 100, 10), score=0.7833303926, total=  11.3s\n",
      "[CV] activation=tanh, learning_rate=constant, learning_rate_init=0.0001, hidden_layer_sizes=(200, 100, 10) \n",
      "[CV]  activation=tanh, learning_rate=constant, learning_rate_init=0.0001, hidden_layer_sizes=(200, 100, 10), score=0.695711711721, total=  10.4s\n",
      "[CV] activation=tanh, learning_rate=constant, learning_rate_init=0.001, hidden_layer_sizes=(200, 100, 10) \n",
      "[CV]  activation=tanh, learning_rate=constant, learning_rate_init=0.001, hidden_layer_sizes=(200, 100, 10), score=0.785618778474, total=   9.8s\n",
      "[CV] activation=tanh, learning_rate=constant, learning_rate_init=0.001, hidden_layer_sizes=(200, 100, 10) \n",
      "[CV]  activation=tanh, learning_rate=constant, learning_rate_init=0.001, hidden_layer_sizes=(200, 100, 10), score=0.79501654055, total=  11.6s\n",
      "[CV] activation=tanh, learning_rate=constant, learning_rate_init=0.001, hidden_layer_sizes=(200, 100, 10) \n",
      "[CV]  activation=tanh, learning_rate=constant, learning_rate_init=0.001, hidden_layer_sizes=(200, 100, 10), score=0.778836869549, total=  10.2s\n",
      "[CV] activation=tanh, learning_rate=constant, learning_rate_init=0.01, hidden_layer_sizes=(200, 100, 10) \n",
      "[CV]  activation=tanh, learning_rate=constant, learning_rate_init=0.01, hidden_layer_sizes=(200, 100, 10), score=0.704920533002, total=   9.8s\n",
      "[CV] activation=tanh, learning_rate=constant, learning_rate_init=0.01, hidden_layer_sizes=(200, 100, 10) \n",
      "[CV]  activation=tanh, learning_rate=constant, learning_rate_init=0.01, hidden_layer_sizes=(200, 100, 10), score=0.354516452287, total=   9.4s\n",
      "[CV] activation=tanh, learning_rate=constant, learning_rate_init=0.01, hidden_layer_sizes=(200, 100, 10) \n",
      "[CV]  activation=tanh, learning_rate=constant, learning_rate_init=0.01, hidden_layer_sizes=(200, 100, 10), score=0.344057150112, total=  10.0s\n",
      "[CV] activation=tanh, learning_rate=adaptive, learning_rate_init=0.0001, hidden_layer_sizes=(200, 100, 10) \n",
      "[CV]  activation=tanh, learning_rate=adaptive, learning_rate_init=0.0001, hidden_layer_sizes=(200, 100, 10), score=0.779594653463, total=  10.3s\n",
      "[CV] activation=tanh, learning_rate=adaptive, learning_rate_init=0.0001, hidden_layer_sizes=(200, 100, 10) \n",
      "[CV]  activation=tanh, learning_rate=adaptive, learning_rate_init=0.0001, hidden_layer_sizes=(200, 100, 10), score=0.762366268495, total=  11.9s\n",
      "[CV] activation=tanh, learning_rate=adaptive, learning_rate_init=0.0001, hidden_layer_sizes=(200, 100, 10) \n",
      "[CV]  activation=tanh, learning_rate=adaptive, learning_rate_init=0.0001, hidden_layer_sizes=(200, 100, 10), score=0.585672165551, total=  10.8s\n",
      "[CV] activation=tanh, learning_rate=adaptive, learning_rate_init=0.001, hidden_layer_sizes=(200, 100, 10) \n",
      "[CV]  activation=tanh, learning_rate=adaptive, learning_rate_init=0.001, hidden_layer_sizes=(200, 100, 10), score=0.783031135044, total=  10.4s\n",
      "[CV] activation=tanh, learning_rate=adaptive, learning_rate_init=0.001, hidden_layer_sizes=(200, 100, 10) \n",
      "[CV]  activation=tanh, learning_rate=adaptive, learning_rate_init=0.001, hidden_layer_sizes=(200, 100, 10), score=0.788936637513, total=  13.0s\n",
      "[CV] activation=tanh, learning_rate=adaptive, learning_rate_init=0.001, hidden_layer_sizes=(200, 100, 10) \n",
      "[CV]  activation=tanh, learning_rate=adaptive, learning_rate_init=0.001, hidden_layer_sizes=(200, 100, 10), score=0.788028680282, total=  10.4s\n",
      "[CV] activation=tanh, learning_rate=adaptive, learning_rate_init=0.01, hidden_layer_sizes=(200, 100, 10) \n",
      "[CV]  activation=tanh, learning_rate=adaptive, learning_rate_init=0.01, hidden_layer_sizes=(200, 100, 10), score=0.712067388925, total=   9.8s\n",
      "[CV] activation=tanh, learning_rate=adaptive, learning_rate_init=0.01, hidden_layer_sizes=(200, 100, 10) \n",
      "[CV]  activation=tanh, learning_rate=adaptive, learning_rate_init=0.01, hidden_layer_sizes=(200, 100, 10), score=0.626419279369, total=  10.2s\n",
      "[CV] activation=tanh, learning_rate=adaptive, learning_rate_init=0.01, hidden_layer_sizes=(200, 100, 10) \n",
      "[CV]  activation=tanh, learning_rate=adaptive, learning_rate_init=0.01, hidden_layer_sizes=(200, 100, 10), score=0.300489890089, total=   9.5s\n",
      "[CV] activation=tanh, learning_rate=constant, learning_rate_init=0.0001, hidden_layer_sizes=(100, 50, 10) \n",
      "[CV]  activation=tanh, learning_rate=constant, learning_rate_init=0.0001, hidden_layer_sizes=(100, 50, 10), score=0.755341502815, total=   6.2s\n",
      "[CV] activation=tanh, learning_rate=constant, learning_rate_init=0.0001, hidden_layer_sizes=(100, 50, 10) \n",
      "[CV]  activation=tanh, learning_rate=constant, learning_rate_init=0.0001, hidden_layer_sizes=(100, 50, 10), score=0.712692530126, total=   7.1s\n",
      "[CV] activation=tanh, learning_rate=constant, learning_rate_init=0.0001, hidden_layer_sizes=(100, 50, 10) \n",
      "[CV]  activation=tanh, learning_rate=constant, learning_rate_init=0.0001, hidden_layer_sizes=(100, 50, 10), score=0.676224696516, total=   8.0s\n",
      "[CV] activation=tanh, learning_rate=constant, learning_rate_init=0.001, hidden_layer_sizes=(100, 50, 10) \n",
      "[CV]  activation=tanh, learning_rate=constant, learning_rate_init=0.001, hidden_layer_sizes=(100, 50, 10), score=0.78167084743, total=   7.0s\n",
      "[CV] activation=tanh, learning_rate=constant, learning_rate_init=0.001, hidden_layer_sizes=(100, 50, 10) \n",
      "[CV]  activation=tanh, learning_rate=constant, learning_rate_init=0.001, hidden_layer_sizes=(100, 50, 10), score=0.785407552664, total=   6.6s\n",
      "[CV] activation=tanh, learning_rate=constant, learning_rate_init=0.001, hidden_layer_sizes=(100, 50, 10) \n",
      "[CV]  activation=tanh, learning_rate=constant, learning_rate_init=0.001, hidden_layer_sizes=(100, 50, 10), score=0.786726153232, total=   6.2s\n",
      "[CV] activation=tanh, learning_rate=constant, learning_rate_init=0.01, hidden_layer_sizes=(100, 50, 10) \n",
      "[CV]  activation=tanh, learning_rate=constant, learning_rate_init=0.01, hidden_layer_sizes=(100, 50, 10), score=0.633267139169, total=   6.5s\n",
      "[CV] activation=tanh, learning_rate=constant, learning_rate_init=0.01, hidden_layer_sizes=(100, 50, 10) \n",
      "[CV]  activation=tanh, learning_rate=constant, learning_rate_init=0.01, hidden_layer_sizes=(100, 50, 10), score=0.325436190914, total=   6.0s\n",
      "[CV] activation=tanh, learning_rate=constant, learning_rate_init=0.01, hidden_layer_sizes=(100, 50, 10) \n",
      "[CV]  activation=tanh, learning_rate=constant, learning_rate_init=0.01, hidden_layer_sizes=(100, 50, 10), score=0.29846050185, total=   6.0s\n",
      "[CV] activation=tanh, learning_rate=adaptive, learning_rate_init=0.0001, hidden_layer_sizes=(100, 50, 10) \n",
      "[CV]  activation=tanh, learning_rate=adaptive, learning_rate_init=0.0001, hidden_layer_sizes=(100, 50, 10), score=0.779941464128, total=   7.6s\n",
      "[CV] activation=tanh, learning_rate=adaptive, learning_rate_init=0.0001, hidden_layer_sizes=(100, 50, 10) \n",
      "[CV]  activation=tanh, learning_rate=adaptive, learning_rate_init=0.0001, hidden_layer_sizes=(100, 50, 10), score=0.771645289304, total=   6.3s\n",
      "[CV] activation=tanh, learning_rate=adaptive, learning_rate_init=0.0001, hidden_layer_sizes=(100, 50, 10) \n",
      "[CV]  activation=tanh, learning_rate=adaptive, learning_rate_init=0.0001, hidden_layer_sizes=(100, 50, 10), score=0.733513209436, total=   6.3s\n",
      "[CV] activation=tanh, learning_rate=adaptive, learning_rate_init=0.001, hidden_layer_sizes=(100, 50, 10) \n",
      "[CV]  activation=tanh, learning_rate=adaptive, learning_rate_init=0.001, hidden_layer_sizes=(100, 50, 10), score=0.779103727522, total=   6.3s\n",
      "[CV] activation=tanh, learning_rate=adaptive, learning_rate_init=0.001, hidden_layer_sizes=(100, 50, 10) \n",
      "[CV]  activation=tanh, learning_rate=adaptive, learning_rate_init=0.001, hidden_layer_sizes=(100, 50, 10), score=0.77895225037, total=   6.3s\n",
      "[CV] activation=tanh, learning_rate=adaptive, learning_rate_init=0.001, hidden_layer_sizes=(100, 50, 10) \n",
      "[CV]  activation=tanh, learning_rate=adaptive, learning_rate_init=0.001, hidden_layer_sizes=(100, 50, 10), score=0.77474856754, total=   6.2s\n",
      "[CV] activation=tanh, learning_rate=adaptive, learning_rate_init=0.01, hidden_layer_sizes=(100, 50, 10) \n",
      "[CV]  activation=tanh, learning_rate=adaptive, learning_rate_init=0.01, hidden_layer_sizes=(100, 50, 10), score=0.381557111884, total=   6.1s\n",
      "[CV] activation=tanh, learning_rate=adaptive, learning_rate_init=0.01, hidden_layer_sizes=(100, 50, 10) \n",
      "[CV]  activation=tanh, learning_rate=adaptive, learning_rate_init=0.01, hidden_layer_sizes=(100, 50, 10), score=0.393928642638, total=   6.1s\n",
      "[CV] activation=tanh, learning_rate=adaptive, learning_rate_init=0.01, hidden_layer_sizes=(100, 50, 10) \n",
      "[CV]  activation=tanh, learning_rate=adaptive, learning_rate_init=0.01, hidden_layer_sizes=(100, 50, 10), score=0.302284755385, total=   6.2s\n"
     ]
    },
    {
     "name": "stderr",
     "output_type": "stream",
     "text": [
      "[Parallel(n_jobs=1)]: Done 108 out of 108 | elapsed: 14.4min finished\n"
     ]
    },
    {
     "data": {
      "text/plain": [
       "MLPClassifier(activation='relu', alpha=0.0001, batch_size='auto', beta_1=0.9,\n",
       "       beta_2=0.999, early_stopping=True, epsilon=1e-08,\n",
       "       hidden_layer_sizes=(100,), learning_rate='constant',\n",
       "       learning_rate_init=0.001, max_iter=200, momentum=0.9,\n",
       "       nesterovs_momentum=True, power_t=0.5, random_state=None,\n",
       "       shuffle=True, solver='adam', tol=0.0001, validation_fraction=0.1,\n",
       "       verbose=False, warm_start=False)"
      ]
     },
     "execution_count": 56,
     "metadata": {},
     "output_type": "execute_result"
    }
   ],
   "source": [
    "mlp_clf = MLPClassifier(early_stopping=True)\n",
    "\n",
    "mlp_parameters = {'hidden_layer_sizes': [(100,), (200,100,10), (100,50,10)], \n",
    "                  'learning_rate': ['constant', 'adaptive'],\n",
    "                  'learning_rate_init': [0.0001, 0.001, 0.01],\n",
    "                  'activation': ['relu', 'tanh']}\n",
    "\n",
    "mlp_grid_obj = GridSearchCV(mlp_clf, mlp_parameters, scoring='roc_auc', verbose=1, cv=3)\n",
    "mlp_grid_obj = mlp_grid_obj.fit(X, y)\n",
    "\n",
    "mlp_opt =  mlp_grid_obj.best_estimator_\n",
    "mlp_opt"
   ]
  },
  {
   "cell_type": "code",
   "execution_count": 57,
   "metadata": {
    "collapsed": true
   },
   "outputs": [
    {
     "name": "stdout",
     "output_type": "stream",
     "text": [
      "Fitting 3 folds for each of 16 candidates, totalling 48 fits\n",
      "[CV] penalty=l1, C=0.01, fit_intercept=True, class_weight={0: 0.2, 1: 0.8} \n",
      "[CV]  penalty=l1, C=0.01, fit_intercept=True, class_weight={0: 0.2, 1: 0.8}, score=0.787631988577, total=  21.7s\n",
      "[CV] penalty=l1, C=0.01, fit_intercept=True, class_weight={0: 0.2, 1: 0.8} \n"
     ]
    },
    {
     "name": "stderr",
     "output_type": "stream",
     "text": [
      "[Parallel(n_jobs=1)]: Done   1 out of   1 | elapsed:   21.8s remaining:    0.0s\n"
     ]
    },
    {
     "name": "stdout",
     "output_type": "stream",
     "text": [
      "[CV]  penalty=l1, C=0.01, fit_intercept=True, class_weight={0: 0.2, 1: 0.8}, score=0.798104597331, total=  13.0s\n",
      "[CV] penalty=l1, C=0.01, fit_intercept=True, class_weight={0: 0.2, 1: 0.8} \n"
     ]
    },
    {
     "name": "stderr",
     "output_type": "stream",
     "text": [
      "[Parallel(n_jobs=1)]: Done   2 out of   2 | elapsed:   34.8s remaining:    0.0s\n"
     ]
    },
    {
     "name": "stdout",
     "output_type": "stream",
     "text": [
      "[CV]  penalty=l1, C=0.01, fit_intercept=True, class_weight={0: 0.2, 1: 0.8}, score=0.808764974058, total=  15.8s\n",
      "[CV] penalty=l2, C=0.01, fit_intercept=True, class_weight={0: 0.2, 1: 0.8} \n"
     ]
    },
    {
     "name": "stderr",
     "output_type": "stream",
     "text": [
      "[Parallel(n_jobs=1)]: Done   3 out of   3 | elapsed:   50.7s remaining:    0.0s\n"
     ]
    },
    {
     "name": "stdout",
     "output_type": "stream",
     "text": [
      "[CV]  penalty=l2, C=0.01, fit_intercept=True, class_weight={0: 0.2, 1: 0.8}, score=0.805666614259, total=   7.7s\n",
      "[CV] penalty=l2, C=0.01, fit_intercept=True, class_weight={0: 0.2, 1: 0.8} \n"
     ]
    },
    {
     "name": "stderr",
     "output_type": "stream",
     "text": [
      "[Parallel(n_jobs=1)]: Done   4 out of   4 | elapsed:   58.5s remaining:    0.0s\n"
     ]
    },
    {
     "name": "stdout",
     "output_type": "stream",
     "text": [
      "[CV]  penalty=l2, C=0.01, fit_intercept=True, class_weight={0: 0.2, 1: 0.8}, score=0.809734723184, total=   6.4s\n",
      "[CV] penalty=l2, C=0.01, fit_intercept=True, class_weight={0: 0.2, 1: 0.8} \n"
     ]
    },
    {
     "name": "stderr",
     "output_type": "stream",
     "text": [
      "[Parallel(n_jobs=1)]: Done   5 out of   5 | elapsed:  1.1min remaining:    0.0s\n"
     ]
    },
    {
     "name": "stdout",
     "output_type": "stream",
     "text": [
      "[CV]  penalty=l2, C=0.01, fit_intercept=True, class_weight={0: 0.2, 1: 0.8}, score=0.821921756192, total=   7.0s\n",
      "[CV] penalty=l1, C=0.01, fit_intercept=False, class_weight={0: 0.2, 1: 0.8} \n"
     ]
    },
    {
     "name": "stderr",
     "output_type": "stream",
     "text": [
      "[Parallel(n_jobs=1)]: Done   6 out of   6 | elapsed:  1.2min remaining:    0.0s\n"
     ]
    },
    {
     "name": "stdout",
     "output_type": "stream",
     "text": [
      "[CV]  penalty=l1, C=0.01, fit_intercept=False, class_weight={0: 0.2, 1: 0.8}, score=0.787618347194, total=  18.8s\n",
      "[CV] penalty=l1, C=0.01, fit_intercept=False, class_weight={0: 0.2, 1: 0.8} \n"
     ]
    },
    {
     "name": "stderr",
     "output_type": "stream",
     "text": [
      "[Parallel(n_jobs=1)]: Done   7 out of   7 | elapsed:  1.5min remaining:    0.0s\n"
     ]
    },
    {
     "name": "stdout",
     "output_type": "stream",
     "text": [
      "[CV]  penalty=l1, C=0.01, fit_intercept=False, class_weight={0: 0.2, 1: 0.8}, score=0.798117256072, total=  14.9s\n",
      "[CV] penalty=l1, C=0.01, fit_intercept=False, class_weight={0: 0.2, 1: 0.8} \n"
     ]
    },
    {
     "name": "stderr",
     "output_type": "stream",
     "text": [
      "[Parallel(n_jobs=1)]: Done   8 out of   8 | elapsed:  1.8min remaining:    0.0s\n"
     ]
    },
    {
     "name": "stdout",
     "output_type": "stream",
     "text": [
      "[CV]  penalty=l1, C=0.01, fit_intercept=False, class_weight={0: 0.2, 1: 0.8}, score=0.808771248234, total=  18.7s\n",
      "[CV] penalty=l2, C=0.01, fit_intercept=False, class_weight={0: 0.2, 1: 0.8} \n"
     ]
    },
    {
     "name": "stderr",
     "output_type": "stream",
     "text": [
      "[Parallel(n_jobs=1)]: Done   9 out of   9 | elapsed:  2.1min remaining:    0.0s\n"
     ]
    },
    {
     "name": "stdout",
     "output_type": "stream",
     "text": [
      "[CV]  penalty=l2, C=0.01, fit_intercept=False, class_weight={0: 0.2, 1: 0.8}, score=0.805666737154, total=   7.0s\n",
      "[CV] penalty=l2, C=0.01, fit_intercept=False, class_weight={0: 0.2, 1: 0.8} \n",
      "[CV]  penalty=l2, C=0.01, fit_intercept=False, class_weight={0: 0.2, 1: 0.8}, score=0.809733330313, total=   6.4s\n",
      "[CV] penalty=l2, C=0.01, fit_intercept=False, class_weight={0: 0.2, 1: 0.8} \n",
      "[CV]  penalty=l2, C=0.01, fit_intercept=False, class_weight={0: 0.2, 1: 0.8}, score=0.821914046747, total=   6.3s\n",
      "[CV] penalty=l1, C=0.1, fit_intercept=True, class_weight={0: 0.2, 1: 0.8} \n",
      "[CV]  penalty=l1, C=0.1, fit_intercept=True, class_weight={0: 0.2, 1: 0.8}, score=0.811797781116, total= 1.1min\n",
      "[CV] penalty=l1, C=0.1, fit_intercept=True, class_weight={0: 0.2, 1: 0.8} \n",
      "[CV]  penalty=l1, C=0.1, fit_intercept=True, class_weight={0: 0.2, 1: 0.8}, score=0.811976631227, total=  49.4s\n",
      "[CV] penalty=l1, C=0.1, fit_intercept=True, class_weight={0: 0.2, 1: 0.8} \n",
      "[CV]  penalty=l1, C=0.1, fit_intercept=True, class_weight={0: 0.2, 1: 0.8}, score=0.82198029466, total= 1.2min\n",
      "[CV] penalty=l2, C=0.1, fit_intercept=True, class_weight={0: 0.2, 1: 0.8} \n",
      "[CV]  penalty=l2, C=0.1, fit_intercept=True, class_weight={0: 0.2, 1: 0.8}, score=0.814992527553, total=  11.9s\n",
      "[CV] penalty=l2, C=0.1, fit_intercept=True, class_weight={0: 0.2, 1: 0.8} \n",
      "[CV]  penalty=l2, C=0.1, fit_intercept=True, class_weight={0: 0.2, 1: 0.8}, score=0.81478846937, total=  11.0s\n",
      "[CV] penalty=l2, C=0.1, fit_intercept=True, class_weight={0: 0.2, 1: 0.8} \n",
      "[CV]  penalty=l2, C=0.1, fit_intercept=True, class_weight={0: 0.2, 1: 0.8}, score=0.824956529805, total=   9.9s\n",
      "[CV] penalty=l1, C=0.1, fit_intercept=False, class_weight={0: 0.2, 1: 0.8} \n",
      "[CV]  penalty=l1, C=0.1, fit_intercept=False, class_weight={0: 0.2, 1: 0.8}, score=0.811787375977, total= 1.1min\n",
      "[CV] penalty=l1, C=0.1, fit_intercept=False, class_weight={0: 0.2, 1: 0.8} \n",
      "[CV]  penalty=l1, C=0.1, fit_intercept=False, class_weight={0: 0.2, 1: 0.8}, score=0.811980400173, total=  52.2s\n",
      "[CV] penalty=l1, C=0.1, fit_intercept=False, class_weight={0: 0.2, 1: 0.8} \n",
      "[CV]  penalty=l1, C=0.1, fit_intercept=False, class_weight={0: 0.2, 1: 0.8}, score=0.821976993541, total= 1.1min\n",
      "[CV] penalty=l2, C=0.1, fit_intercept=False, class_weight={0: 0.2, 1: 0.8} \n",
      "[CV]  penalty=l2, C=0.1, fit_intercept=False, class_weight={0: 0.2, 1: 0.8}, score=0.814988021391, total=  11.8s\n",
      "[CV] penalty=l2, C=0.1, fit_intercept=False, class_weight={0: 0.2, 1: 0.8} \n",
      "[CV]  penalty=l2, C=0.1, fit_intercept=False, class_weight={0: 0.2, 1: 0.8}, score=0.814775892563, total=  12.6s\n",
      "[CV] penalty=l2, C=0.1, fit_intercept=False, class_weight={0: 0.2, 1: 0.8} \n",
      "[CV]  penalty=l2, C=0.1, fit_intercept=False, class_weight={0: 0.2, 1: 0.8}, score=0.824976336516, total=  10.8s\n",
      "[CV] penalty=l1, C=0.5, fit_intercept=True, class_weight={0: 0.2, 1: 0.8} \n",
      "[CV]  penalty=l1, C=0.5, fit_intercept=True, class_weight={0: 0.2, 1: 0.8}, score=0.815386898717, total= 5.0min\n",
      "[CV] penalty=l1, C=0.5, fit_intercept=True, class_weight={0: 0.2, 1: 0.8} \n",
      "[CV]  penalty=l1, C=0.5, fit_intercept=True, class_weight={0: 0.2, 1: 0.8}, score=0.813560448621, total= 3.9min\n",
      "[CV] penalty=l1, C=0.5, fit_intercept=True, class_weight={0: 0.2, 1: 0.8} \n",
      "[CV]  penalty=l1, C=0.5, fit_intercept=True, class_weight={0: 0.2, 1: 0.8}, score=0.82415843827, total= 6.3min\n",
      "[CV] penalty=l2, C=0.5, fit_intercept=True, class_weight={0: 0.2, 1: 0.8} \n",
      "[CV]  penalty=l2, C=0.5, fit_intercept=True, class_weight={0: 0.2, 1: 0.8}, score=0.81624679745, total=  16.5s\n",
      "[CV] penalty=l2, C=0.5, fit_intercept=True, class_weight={0: 0.2, 1: 0.8} \n",
      "[CV]  penalty=l2, C=0.5, fit_intercept=True, class_weight={0: 0.2, 1: 0.8}, score=0.814077572517, total=  16.9s\n",
      "[CV] penalty=l2, C=0.5, fit_intercept=True, class_weight={0: 0.2, 1: 0.8} \n",
      "[CV]  penalty=l2, C=0.5, fit_intercept=True, class_weight={0: 0.2, 1: 0.8}, score=0.824458040405, total=  17.3s\n",
      "[CV] penalty=l1, C=0.5, fit_intercept=False, class_weight={0: 0.2, 1: 0.8} \n",
      "[CV]  penalty=l1, C=0.5, fit_intercept=False, class_weight={0: 0.2, 1: 0.8}, score=0.815398246054, total= 4.9min\n",
      "[CV] penalty=l1, C=0.5, fit_intercept=False, class_weight={0: 0.2, 1: 0.8} \n",
      "[CV]  penalty=l1, C=0.5, fit_intercept=False, class_weight={0: 0.2, 1: 0.8}, score=0.813573476063, total= 3.7min\n",
      "[CV] penalty=l1, C=0.5, fit_intercept=False, class_weight={0: 0.2, 1: 0.8} \n",
      "[CV]  penalty=l1, C=0.5, fit_intercept=False, class_weight={0: 0.2, 1: 0.8}, score=0.824174308243, total= 5.7min\n",
      "[CV] penalty=l2, C=0.5, fit_intercept=False, class_weight={0: 0.2, 1: 0.8} \n",
      "[CV]  penalty=l2, C=0.5, fit_intercept=False, class_weight={0: 0.2, 1: 0.8}, score=0.816248763775, total=  16.3s\n",
      "[CV] penalty=l2, C=0.5, fit_intercept=False, class_weight={0: 0.2, 1: 0.8} \n",
      "[CV]  penalty=l2, C=0.5, fit_intercept=False, class_weight={0: 0.2, 1: 0.8}, score=0.814075483211, total=  15.4s\n",
      "[CV] penalty=l2, C=0.5, fit_intercept=False, class_weight={0: 0.2, 1: 0.8} \n",
      "[CV]  penalty=l2, C=0.5, fit_intercept=False, class_weight={0: 0.2, 1: 0.8}, score=0.824470014649, total=  17.0s\n",
      "[CV] penalty=l1, C=1.0, fit_intercept=True, class_weight={0: 0.2, 1: 0.8} \n",
      "[CV]  penalty=l1, C=1.0, fit_intercept=True, class_weight={0: 0.2, 1: 0.8}, score=0.816230001752, total= 6.6min\n",
      "[CV] penalty=l1, C=1.0, fit_intercept=True, class_weight={0: 0.2, 1: 0.8} \n",
      "[CV]  penalty=l1, C=1.0, fit_intercept=True, class_weight={0: 0.2, 1: 0.8}, score=0.813744676313, total= 5.3min\n",
      "[CV] penalty=l1, C=1.0, fit_intercept=True, class_weight={0: 0.2, 1: 0.8} \n",
      "[CV]  penalty=l1, C=1.0, fit_intercept=True, class_weight={0: 0.2, 1: 0.8}, score=0.824296593155, total= 8.9min\n",
      "[CV] penalty=l2, C=1.0, fit_intercept=True, class_weight={0: 0.2, 1: 0.8} \n",
      "[CV]  penalty=l2, C=1.0, fit_intercept=True, class_weight={0: 0.2, 1: 0.8}, score=0.816308982495, total=  19.5s\n",
      "[CV] penalty=l2, C=1.0, fit_intercept=True, class_weight={0: 0.2, 1: 0.8} \n",
      "[CV]  penalty=l2, C=1.0, fit_intercept=True, class_weight={0: 0.2, 1: 0.8}, score=0.813716040521, total=  19.7s\n",
      "[CV] penalty=l2, C=1.0, fit_intercept=True, class_weight={0: 0.2, 1: 0.8} \n",
      "[CV]  penalty=l2, C=1.0, fit_intercept=True, class_weight={0: 0.2, 1: 0.8}, score=0.824130019945, total=  21.5s\n",
      "[CV] penalty=l1, C=1.0, fit_intercept=False, class_weight={0: 0.2, 1: 0.8} \n",
      "[CV]  penalty=l1, C=1.0, fit_intercept=False, class_weight={0: 0.2, 1: 0.8}, score=0.816246182973, total= 6.9min\n",
      "[CV] penalty=l1, C=1.0, fit_intercept=False, class_weight={0: 0.2, 1: 0.8} \n",
      "[CV]  penalty=l1, C=1.0, fit_intercept=False, class_weight={0: 0.2, 1: 0.8}, score=0.813746274018, total=64.7min\n",
      "[CV] penalty=l1, C=1.0, fit_intercept=False, class_weight={0: 0.2, 1: 0.8} \n",
      "[CV]  penalty=l1, C=1.0, fit_intercept=False, class_weight={0: 0.2, 1: 0.8}, score=0.82429544494, total=13.5min\n",
      "[CV] penalty=l2, C=1.0, fit_intercept=False, class_weight={0: 0.2, 1: 0.8} \n",
      "[CV]  penalty=l2, C=1.0, fit_intercept=False, class_weight={0: 0.2, 1: 0.8}, score=0.816301526844, total=  24.2s\n",
      "[CV] penalty=l2, C=1.0, fit_intercept=False, class_weight={0: 0.2, 1: 0.8} \n",
      "[CV]  penalty=l2, C=1.0, fit_intercept=False, class_weight={0: 0.2, 1: 0.8}, score=0.813728576362, total=  23.9s\n",
      "[CV] penalty=l2, C=1.0, fit_intercept=False, class_weight={0: 0.2, 1: 0.8} \n",
      "[CV]  penalty=l2, C=1.0, fit_intercept=False, class_weight={0: 0.2, 1: 0.8}, score=0.824121654378, total=  28.0s\n"
     ]
    },
    {
     "name": "stderr",
     "output_type": "stream",
     "text": [
      "[Parallel(n_jobs=1)]: Done  48 out of  48 | elapsed: 149.2min finished\n"
     ]
    },
    {
     "data": {
      "text/plain": [
       "LogisticRegression(C=0.5, class_weight={0: 0.2, 1: 0.8}, dual=False,\n",
       "          fit_intercept=False, intercept_scaling=1, max_iter=100,\n",
       "          multi_class='ovr', n_jobs=1, penalty='l2', random_state=None,\n",
       "          solver='liblinear', tol=0.0001, verbose=0, warm_start=False)"
      ]
     },
     "execution_count": 57,
     "metadata": {},
     "output_type": "execute_result"
    }
   ],
   "source": [
    "lr_clf = LogisticRegression()\n",
    "\n",
    "lr_parameters = {'class_weight': [{0:0.2, 1:0.8}],\n",
    "               'penalty': ['l1', 'l2'], \n",
    "               'C': [0.01, 0.1, 0.5, 1.0], \n",
    "               'fit_intercept': [True, False]}\n",
    "\n",
    "    \n",
    "lr_grid_obj = GridSearchCV(lr_clf, lr_parameters, scoring='roc_auc', verbose=1, cv=3)\n",
    "lr_grid_obj = lr_grid_obj.fit(X, y)\n",
    "\n",
    "lr_opt =  lr_grid_obj.best_estimator_\n",
    "lr_opt"
   ]
  },
  {
   "cell_type": "code",
   "execution_count": 66,
   "metadata": {
    "collapsed": true
   },
   "outputs": [
    {
     "name": "stdout",
     "output_type": "stream",
     "text": [
      "Fitting 3 folds for each of 12 candidates, totalling 36 fits\n",
      "[CV] n_estimators=100, learning_rate=0.01, max_depth=3 ...............\n",
      "[CV]  n_estimators=100, learning_rate=0.01, max_depth=3, score=0.811870965295, total= 1.0min\n",
      "[CV] n_estimators=100, learning_rate=0.01, max_depth=3 ...............\n"
     ]
    },
    {
     "name": "stderr",
     "output_type": "stream",
     "text": [
      "[Parallel(n_jobs=1)]: Done   1 out of   1 | elapsed:  1.0min remaining:    0.0s\n"
     ]
    },
    {
     "name": "stdout",
     "output_type": "stream",
     "text": [
      "[CV]  n_estimators=100, learning_rate=0.01, max_depth=3, score=0.80717036547, total= 1.1min\n",
      "[CV] n_estimators=100, learning_rate=0.01, max_depth=3 ...............\n"
     ]
    },
    {
     "name": "stderr",
     "output_type": "stream",
     "text": [
      "[Parallel(n_jobs=1)]: Done   2 out of   2 | elapsed:  2.2min remaining:    0.0s\n"
     ]
    },
    {
     "name": "stdout",
     "output_type": "stream",
     "text": [
      "[CV]  n_estimators=100, learning_rate=0.01, max_depth=3, score=0.824176276612, total= 1.0min\n",
      "[CV] n_estimators=300, learning_rate=0.01, max_depth=3 ...............\n",
      "[CV]  n_estimators=300, learning_rate=0.01, max_depth=3, score=0.820146205315, total= 3.2min\n",
      "[CV] n_estimators=300, learning_rate=0.01, max_depth=3 ...............\n",
      "[CV]  n_estimators=300, learning_rate=0.01, max_depth=3, score=0.821654074634, total= 3.3min\n",
      "[CV] n_estimators=300, learning_rate=0.01, max_depth=3 ...............\n",
      "[CV]  n_estimators=300, learning_rate=0.01, max_depth=3, score=0.836067684658, total= 3.0min\n",
      "[CV] n_estimators=100, learning_rate=0.01, max_depth=6 ...............\n",
      "[CV]  n_estimators=100, learning_rate=0.01, max_depth=6, score=0.824010362699, total= 2.0min\n",
      "[CV] n_estimators=100, learning_rate=0.01, max_depth=6 ...............\n",
      "[CV]  n_estimators=100, learning_rate=0.01, max_depth=6, score=0.822084266984, total= 2.0min\n",
      "[CV] n_estimators=100, learning_rate=0.01, max_depth=6 ...............\n",
      "[CV]  n_estimators=100, learning_rate=0.01, max_depth=6, score=0.836651982635, total= 2.1min\n",
      "[CV] n_estimators=300, learning_rate=0.01, max_depth=6 ...............\n",
      "[CV]  n_estimators=300, learning_rate=0.01, max_depth=6, score=0.830362474906, total= 5.8min\n",
      "[CV] n_estimators=300, learning_rate=0.01, max_depth=6 ...............\n",
      "[CV]  n_estimators=300, learning_rate=0.01, max_depth=6, score=0.831092906922, total= 5.6min\n",
      "[CV] n_estimators=300, learning_rate=0.01, max_depth=6 ...............\n",
      "[CV]  n_estimators=300, learning_rate=0.01, max_depth=6, score=0.844353963725, total= 5.7min\n",
      "[CV] n_estimators=100, learning_rate=0.01, max_depth=9 ...............\n",
      "[CV]  n_estimators=100, learning_rate=0.01, max_depth=9, score=0.822203821603, total= 2.8min\n",
      "[CV] n_estimators=100, learning_rate=0.01, max_depth=9 ...............\n",
      "[CV]  n_estimators=100, learning_rate=0.01, max_depth=9, score=0.823663475613, total= 2.7min\n",
      "[CV] n_estimators=100, learning_rate=0.01, max_depth=9 ...............\n",
      "[CV]  n_estimators=100, learning_rate=0.01, max_depth=9, score=0.836981233326, total= 2.6min\n",
      "[CV] n_estimators=300, learning_rate=0.01, max_depth=9 ...............\n",
      "[CV]  n_estimators=300, learning_rate=0.01, max_depth=9, score=0.829410302251, total= 8.3min\n",
      "[CV] n_estimators=300, learning_rate=0.01, max_depth=9 ...............\n",
      "[CV]  n_estimators=300, learning_rate=0.01, max_depth=9, score=0.829530289847, total= 8.8min\n",
      "[CV] n_estimators=300, learning_rate=0.01, max_depth=9 ...............\n",
      "[CV]  n_estimators=300, learning_rate=0.01, max_depth=9, score=0.841014708062, total= 8.8min\n",
      "[CV] n_estimators=100, learning_rate=0.1, max_depth=3 ................\n",
      "[CV]  n_estimators=100, learning_rate=0.1, max_depth=3, score=0.831981068054, total= 1.1min\n",
      "[CV] n_estimators=100, learning_rate=0.1, max_depth=3 ................\n",
      "[CV]  n_estimators=100, learning_rate=0.1, max_depth=3, score=0.835757407074, total= 1.0min\n",
      "[CV] n_estimators=100, learning_rate=0.1, max_depth=3 ................\n",
      "[CV]  n_estimators=100, learning_rate=0.1, max_depth=3, score=0.844254130519, total= 1.0min\n",
      "[CV] n_estimators=300, learning_rate=0.1, max_depth=3 ................\n",
      "[CV]  n_estimators=300, learning_rate=0.1, max_depth=3, score=0.830288287082, total= 3.0min\n",
      "[CV] n_estimators=300, learning_rate=0.1, max_depth=3 ................\n",
      "[CV]  n_estimators=300, learning_rate=0.1, max_depth=3, score=0.834177399592, total= 3.0min\n",
      "[CV] n_estimators=300, learning_rate=0.1, max_depth=3 ................\n",
      "[CV]  n_estimators=300, learning_rate=0.1, max_depth=3, score=0.844327636792, total= 3.0min\n",
      "[CV] n_estimators=100, learning_rate=0.1, max_depth=6 ................\n",
      "[CV]  n_estimators=100, learning_rate=0.1, max_depth=6, score=0.830882445113, total= 2.2min\n",
      "[CV] n_estimators=100, learning_rate=0.1, max_depth=6 ................\n",
      "[CV]  n_estimators=100, learning_rate=0.1, max_depth=6, score=0.836926558534, total= 2.1min\n",
      "[CV] n_estimators=100, learning_rate=0.1, max_depth=6 ................\n",
      "[CV]  n_estimators=100, learning_rate=0.1, max_depth=6, score=0.844463474743, total= 2.2min\n",
      "[CV] n_estimators=300, learning_rate=0.1, max_depth=6 ................\n",
      "[CV]  n_estimators=300, learning_rate=0.1, max_depth=6, score=0.82365759161, total= 5.6min\n",
      "[CV] n_estimators=300, learning_rate=0.1, max_depth=6 ................\n",
      "[CV]  n_estimators=300, learning_rate=0.1, max_depth=6, score=0.827933690812, total= 5.7min\n",
      "[CV] n_estimators=300, learning_rate=0.1, max_depth=6 ................\n",
      "[CV]  n_estimators=300, learning_rate=0.1, max_depth=6, score=0.836204875863, total= 6.0min\n",
      "[CV] n_estimators=100, learning_rate=0.1, max_depth=9 ................\n",
      "[CV]  n_estimators=100, learning_rate=0.1, max_depth=9, score=0.826390968437, total= 3.0min\n",
      "[CV] n_estimators=100, learning_rate=0.1, max_depth=9 ................\n",
      "[CV]  n_estimators=100, learning_rate=0.1, max_depth=9, score=0.828021912813, total= 2.9min\n",
      "[CV] n_estimators=100, learning_rate=0.1, max_depth=9 ................\n",
      "[CV]  n_estimators=100, learning_rate=0.1, max_depth=9, score=0.838087374579, total= 2.9min\n",
      "[CV] n_estimators=300, learning_rate=0.1, max_depth=9 ................\n",
      "[CV]  n_estimators=300, learning_rate=0.1, max_depth=9, score=0.812084987539, total= 8.5min\n",
      "[CV] n_estimators=300, learning_rate=0.1, max_depth=9 ................\n",
      "[CV]  n_estimators=300, learning_rate=0.1, max_depth=9, score=0.816488530054, total= 8.6min\n",
      "[CV] n_estimators=300, learning_rate=0.1, max_depth=9 ................\n",
      "[CV]  n_estimators=300, learning_rate=0.1, max_depth=9, score=0.823511070475, total= 8.8min\n"
     ]
    },
    {
     "name": "stderr",
     "output_type": "stream",
     "text": [
      "[Parallel(n_jobs=1)]: Done  36 out of  36 | elapsed: 141.1min finished\n"
     ]
    },
    {
     "data": {
      "text/plain": [
       "XGBClassifier(base_score=0.5, booster='gbtree', colsample_bylevel=1,\n",
       "       colsample_bytree=1, gamma=0, learning_rate=0.1, max_delta_step=0,\n",
       "       max_depth=6, min_child_weight=1, missing=None, n_estimators=100,\n",
       "       n_jobs=-1, nthread=None, objective='binary:logistic',\n",
       "       random_state=0, reg_alpha=0, reg_lambda=1, scale_pos_weight=1,\n",
       "       seed=None, silent=True, subsample=1)"
      ]
     },
     "execution_count": 66,
     "metadata": {},
     "output_type": "execute_result"
    }
   ],
   "source": [
    "xgb_clf = XGBClassifier(n_jobs=-1)\n",
    "\n",
    "xgb_parameters = {'max_depth': [3, 6, 9],\n",
    "                  'learning_rate': [0.01, 0.1],\n",
    "                  'n_estimators': [100, 300]}\n",
    "                \n",
    "xgb_grid_obj = GridSearchCV(xgb_clf, xgb_parameters, scoring='roc_auc', verbose=1, cv=3)\n",
    "xgb_grid_obj = xgb_grid_obj.fit(X, y)\n",
    "\n",
    "xgb_opt =  xgb_grid_obj.best_estimator_\n",
    "xgb_opt"
   ]
  },
  {
   "cell_type": "markdown",
   "metadata": {},
   "source": [
    "## Model Selection & Submissions"
   ]
  },
  {
   "cell_type": "markdown",
   "metadata": {},
   "source": [
    "#### Multi Layer Perceptron"
   ]
  },
  {
   "cell_type": "code",
   "execution_count": 63,
   "metadata": {
    "collapsed": false,
    "scrolled": true
   },
   "outputs": [
    {
     "data": {
      "text/plain": [
       "0.7902449800215683"
      ]
     },
     "execution_count": 63,
     "metadata": {},
     "output_type": "execute_result"
    }
   ],
   "source": [
    "cross_val_score(mlp_opt, X, y, scoring='roc_auc', cv=3).mean()"
   ]
  },
  {
   "cell_type": "code",
   "execution_count": 70,
   "metadata": {
    "collapsed": false
   },
   "outputs": [
    {
     "data": {
      "text/plain": [
       "MLPClassifier(activation='relu', alpha=0.0001, batch_size='auto', beta_1=0.9,\n",
       "       beta_2=0.999, early_stopping=True, epsilon=1e-08,\n",
       "       hidden_layer_sizes=(100,), learning_rate='constant',\n",
       "       learning_rate_init=0.001, max_iter=200, momentum=0.9,\n",
       "       nesterovs_momentum=True, power_t=0.5, random_state=None,\n",
       "       shuffle=True, solver='adam', tol=0.0001, validation_fraction=0.1,\n",
       "       verbose=False, warm_start=False)"
      ]
     },
     "execution_count": 70,
     "metadata": {},
     "output_type": "execute_result"
    }
   ],
   "source": [
    "mlp_opt.fit(X,y)\n",
    "y_pred = mlp_opt.predict_proba(np.array(test))\n",
    "\n",
    "sub = pd.DataFrame()\n",
    "sub['id'] = test_id\n",
    "sub['target'] = y_pred[:,1]\n",
    "sub.to_csv('mlp_opt_0506.csv', index=False)\n",
    "\n",
    "mlp_opt"
   ]
  },
  {
   "cell_type": "markdown",
   "metadata": {},
   "source": [
    "#### MLP Baseline"
   ]
  },
  {
   "cell_type": "code",
   "execution_count": 69,
   "metadata": {
    "collapsed": false,
    "scrolled": true
   },
   "outputs": [
    {
     "data": {
      "text/plain": [
       "0.8148828488976902"
      ]
     },
     "execution_count": 69,
     "metadata": {},
     "output_type": "execute_result"
    }
   ],
   "source": [
    "cross_val_score(mlp_classifier, X, y, scoring='roc_auc', cv=3).mean()"
   ]
  },
  {
   "cell_type": "code",
   "execution_count": 72,
   "metadata": {
    "collapsed": true
   },
   "outputs": [
    {
     "data": {
      "text/plain": [
       "MLPClassifier(activation='relu', alpha=0.0001, batch_size='auto', beta_1=0.9,\n",
       "       beta_2=0.999, early_stopping=False, epsilon=1e-08,\n",
       "       hidden_layer_sizes=(100,), learning_rate='constant',\n",
       "       learning_rate_init=0.001, max_iter=200, momentum=0.9,\n",
       "       nesterovs_momentum=True, power_t=0.5, random_state=3, shuffle=True,\n",
       "       solver='adam', tol=0.0001, validation_fraction=0.1, verbose=False,\n",
       "       warm_start=False)"
      ]
     },
     "execution_count": 72,
     "metadata": {},
     "output_type": "execute_result"
    }
   ],
   "source": [
    "mlp_classifier.fit(X,y)\n",
    "y_pred = mlp_classifier.predict_proba(np.array(test))\n",
    "\n",
    "sub = pd.DataFrame()\n",
    "sub['id'] = test_id\n",
    "sub['target'] = y_pred[:,1]\n",
    "sub.to_csv('mlp_classifier_0506.csv', index=False)\n",
    "\n",
    "mlp_classifier"
   ]
  },
  {
   "cell_type": "markdown",
   "metadata": {},
   "source": [
    "#### Logistic Regression"
   ]
  },
  {
   "cell_type": "code",
   "execution_count": 67,
   "metadata": {
    "collapsed": false,
    "scrolled": true
   },
   "outputs": [
    {
     "data": {
      "text/plain": [
       "0.8182647538781861"
      ]
     },
     "execution_count": 67,
     "metadata": {},
     "output_type": "execute_result"
    }
   ],
   "source": [
    "cross_val_score(lr_opt, X, y, scoring='roc_auc', cv=3).mean()"
   ]
  },
  {
   "cell_type": "code",
   "execution_count": 75,
   "metadata": {
    "collapsed": false
   },
   "outputs": [
    {
     "data": {
      "text/plain": [
       "LogisticRegression(C=0.5, class_weight={0: 0.2, 1: 0.8}, dual=False,\n",
       "          fit_intercept=False, intercept_scaling=1, max_iter=100,\n",
       "          multi_class='ovr', n_jobs=1, penalty='l2', random_state=None,\n",
       "          solver='liblinear', tol=0.0001, verbose=0, warm_start=False)"
      ]
     },
     "execution_count": 75,
     "metadata": {},
     "output_type": "execute_result"
    }
   ],
   "source": [
    "lr_opt.fit(X,y)\n",
    "y_pred = lr_opt.predict_proba(np.array(test))\n",
    "\n",
    "sub = pd.DataFrame()\n",
    "sub['id'] = test_id\n",
    "sub['target'] = y_pred[:,1]\n",
    "sub.to_csv('lr_opt_0506.csv', index=False)\n",
    "\n",
    "lr_opt"
   ]
  },
  {
   "cell_type": "markdown",
   "metadata": {},
   "source": [
    "#### XGBoost"
   ]
  },
  {
   "cell_type": "code",
   "execution_count": 68,
   "metadata": {
    "collapsed": false,
    "scrolled": true
   },
   "outputs": [
    {
     "data": {
      "text/plain": [
       "0.837424159463268"
      ]
     },
     "execution_count": 68,
     "metadata": {},
     "output_type": "execute_result"
    }
   ],
   "source": [
    "cross_val_score(xgb_opt, X, y, scoring='roc_auc', cv=3).mean()"
   ]
  },
  {
   "cell_type": "code",
   "execution_count": 76,
   "metadata": {
    "collapsed": false
   },
   "outputs": [
    {
     "data": {
      "text/plain": [
       "XGBClassifier(base_score=0.5, booster='gbtree', colsample_bylevel=1,\n",
       "       colsample_bytree=1, gamma=0, learning_rate=0.1, max_delta_step=0,\n",
       "       max_depth=6, min_child_weight=1, missing=None, n_estimators=100,\n",
       "       n_jobs=-1, nthread=None, objective='binary:logistic',\n",
       "       random_state=0, reg_alpha=0, reg_lambda=1, scale_pos_weight=1,\n",
       "       seed=None, silent=True, subsample=1)"
      ]
     },
     "execution_count": 76,
     "metadata": {},
     "output_type": "execute_result"
    }
   ],
   "source": [
    "xgb_opt.fit(X,y, eval_metric='auc')\n",
    "y_pred = xgb_opt.predict_proba(np.array(test))\n",
    "\n",
    "sub = pd.DataFrame()\n",
    "sub['id'] = test_id\n",
    "sub['target'] = y_pred[:,1]\n",
    "sub.to_csv('xgb_opt_0506.csv', index=False)\n",
    "\n",
    "xgb_opt"
   ]
  },
  {
   "cell_type": "markdown",
   "metadata": {},
   "source": [
    "## Stacking Models"
   ]
  },
  {
   "cell_type": "code",
   "execution_count": null,
   "metadata": {
    "collapsed": true
   },
   "outputs": [],
   "source": [
    "# def stack(train, test, models):    \n",
    "#     X_train = np.array(train.drop('TARGET', axis=1))\n",
    "#     y_train = np.array(train['TARGET'])\n",
    "#     X_test = np.array(test)\n",
    "    \n",
    "#     train_probas = []\n",
    "#     test_probas = []\n",
    "\n",
    "#     for model in models:\n",
    "#         model.fit(X_train, y_train)\n",
    "#         train_probas.append(model.predict_proba(X_train)[:,1])\n",
    "#         test_probas.append(model.predict_proba(X_test)[:,1])\n",
    "        \n",
    "#     stack_perceptron = MLPClassifier(hidden (3,2), early)\n",
    "    \n",
    "#     stack_perceptron.fit(train_probas, y_train)\n",
    "#     stack_perceptron.predict_proba(test_probas)[:,1]"
   ]
  },
  {
   "cell_type": "markdown",
   "metadata": {
    "deletable": true,
    "editable": true
   },
   "source": [
    "## Undersampling\n",
    "- This dataset is highly unbalanced, so using the new dataset without noise, I made an undersampling as follows: first, I splitted the dataset in the instances which have class label 0 and the instances which have class label 1. Later, I splitted the instances with 0 class into (number_of_class0/number_of_class1) partitions (24 partitions) and I joined each partition with the partition of instances of 1 class label made before. Finally, I ran xgboost on each new balanced partition and I made an average with the predictions of the 24 models.\n",
    "- Add this undersampling method to cross val function, with partameter to toggle on/off."
   ]
  },
  {
   "cell_type": "code",
   "execution_count": 220,
   "metadata": {
    "collapsed": false
   },
   "outputs": [],
   "source": [
    "def undersample(train, test, model):\n",
    "    zeros = train[train.TARGET==0].sample(frac=1).reset_index(drop=True)\n",
    "    ones = train[train.TARGET==1]\n",
    "\n",
    "    folds = []\n",
    "    predictions = []\n",
    "\n",
    "    for i in range(0, len(zeros), len(ones)):\n",
    "        zeros_fold = zeros[i:i+len(ones)]\n",
    "        ones_fold = ones.sample(len(zeros_fold))\n",
    "        fold = pd.concat([zeros_fold, ones_fold])\n",
    "        folds.append(fold)\n",
    "\n",
    "    for fold in folds: \n",
    "        X = np.array(fold.drop('TARGET', axis=1))\n",
    "        y = np.array(fold['TARGET'])\n",
    "        model.fit(X, y)\n",
    "        fold_pred = model.predict_proba(np.array(test))[:,1]\n",
    "        predictions.append(fold_pred)\n",
    "    \n",
    "    return pd.DataFrame(predictions).mean()"
   ]
  },
  {
   "cell_type": "markdown",
   "metadata": {},
   "source": [
    "## Submission"
   ]
  },
  {
   "cell_type": "code",
   "execution_count": 222,
   "metadata": {
    "collapsed": true
   },
   "outputs": [],
   "source": [
    "pred = undersample(train, test, xgb_opt)\n",
    "\n",
    "sub = pd.DataFrame()\n",
    "sub['id'] = test_id\n",
    "sub['target'] = pred\n",
    "sub.to_csv('undersampling0506.csv', index=False)"
   ]
  },
  {
   "cell_type": "code",
   "execution_count": 162,
   "metadata": {
    "collapsed": false,
    "editable": true
   },
   "outputs": [],
   "source": [
    "# mlp_opt.fit(X,y)\n",
    "# eval_metric\n",
    "\n",
    "# y_pred = mlp_opt.predict_proba(np.array(test))\n",
    "\n",
    "# sub = pd.DataFrame()\n",
    "# sub['id'] = test_id\n",
    "# sub['target'] = y_pred[:,1]\n",
    "# sub.to_csv('submission.csv', index=False)"
   ]
  },
  {
   "cell_type": "markdown",
   "metadata": {
    "deletable": true,
    "editable": true
   },
   "source": [
    "## Ideas\n",
    "- Add noise to target\n",
    "- Add noise to target after folding, and train a regressor.\n",
    "- Replicate datapoints with TARGET=1. \n",
    "- Replicate datapoints with TARGET=1. Add noise.\n",
    "- Unbalanced features: check if they give info about target. Try to combine them. Remove excess.\n",
    "- Remaining features: check if they give info using FacetGrid. Apply transformations and check again. Trying to kernel trick.\n",
    "- Simplyfy cross-validation using only sklearn's cross_val_score.\n",
    "- Remove datapoints that have outliers if target=0\n",
    "- Submit using Kaggle api. import kaggle\n",
    "- plotar distribuicao dos scores finais da competicao\n",
    "- mostrar minha posicao comparada as outras notas sem rankear. estara mto mais proxima do primeiro lugar do que do benchmark\n",
    "- ao terminar o projeto, responder email antigo da cristina junqueira\n",
    "- Review previous projects' and live's notebooks ot see if there's something to be added\n",
    "- Test the baseline with unprocessed data\n",
    "- Test the baseline with unscaled data\n",
    "- GridSearch again at the end, after feature engineering\n",
    "- SVM on low importance features.\n",
    "- drop duplicated columns. `train.T.drop_duplicates().T`\n",
    "- fit scaler to whole data (train + test)\n",
    "- Try more base models with final data\n",
    "- Train models only on misclassified datapoints to serve as features for the final model\n",
    "- Link MLP http://scikit-learn.org/stable/modules/generated/sklearn.neural_network.MLPClassifier.html\n",
    "- log scaler\n",
    "- OneHotEncode'em all\n",
    "- Binary feature for each feature on the dataset. `1 if feature == feature.mode() else 0`\n",
    "- Add column that sum zeros on row. `train['zeros'] = (train==0).sum(axis=1).astype(float)`\n",
    "- Add column that sums values in row. \n",
    "- PCA and other dimensionality reduction on low importance features.\n",
    "- ONE-HOT encode features with more than 2 and less than 'limit' unique values\n",
    "- Test importance of new features\n",
    "- Stacking / Voting\n",
    "- Classifiers as features\n",
    "- Sklearn Pipeline\n",
    "- Sklearn feature selection"
   ]
  },
  {
   "cell_type": "markdown",
   "metadata": {
    "deletable": true,
    "editable": true
   },
   "source": [
    "## Rascunho"
   ]
  },
  {
   "cell_type": "code",
   "execution_count": 59,
   "metadata": {
    "collapsed": false
   },
   "outputs": [],
   "source": [
    "# MLPClassifier(activation='relu', alpha=0.0001, batch_size='auto', beta_1=0.9,\n",
    "#        beta_2=0.999, early_stopping=True, epsilon=1e-08,\n",
    "#        hidden_layer_sizes=(200, 100, 10), learning_rate='constant',\n",
    "#        learning_rate_init=0.001, max_iter=200, momentum=0.9,\n",
    "#        nesterovs_momentum=True, power_t=0.5, random_state=None,\n",
    "#        shuffle=True, solver='adam', tol=0.0001, validation_fraction=0.1,\n",
    "#        verbose=False, warm_start=False)"
   ]
  },
  {
   "cell_type": "code",
   "execution_count": 60,
   "metadata": {
    "collapsed": false
   },
   "outputs": [],
   "source": [
    "# LogisticRegression(C=0.1, class_weight={0: 0.2, 1: 0.8}, dual=False,\n",
    "#           fit_intercept=False, intercept_scaling=1, max_iter=100,\n",
    "#           multi_class='ovr', n_jobs=1, penalty='l2', random_state=None,\n",
    "#           solver='liblinear', tol=0.0001, verbose=0, warm_start=False)"
   ]
  },
  {
   "cell_type": "code",
   "execution_count": 61,
   "metadata": {
    "collapsed": false
   },
   "outputs": [],
   "source": [
    "# XGBClassifier(base_score=0.5, booster='gbtree', colsample_bylevel=1,\n",
    "#        colsample_bytree=1, gamma=0, learning_rate=0.1, max_delta_step=0,\n",
    "#        max_depth=3, min_child_weight=1, missing=None, n_estimators=100,\n",
    "#        n_jobs=-1, nthread=None, objective='binary:logistic',\n",
    "#        random_state=0, reg_alpha=0, reg_lambda=1, scale_pos_weight=1,\n",
    "#        seed=None, silent=True, subsample=1)"
   ]
  },
  {
   "cell_type": "code",
   "execution_count": 11,
   "metadata": {
    "collapsed": true,
    "deletable": true,
    "editable": true
   },
   "outputs": [],
   "source": [
    "# XGBoost params\n",
    "xgb_params = {}\n",
    "xgb_params['learning_rate'] = 0.2\n",
    "xgb_params['n_estimators'] = 10\n",
    "xgb_params['max_depth'] = 4\n",
    "xgb_params['subsample'] = 0.9\n",
    "xgb_params['colsample_bytree'] = 0.9"
   ]
  },
  {
   "cell_type": "code",
   "execution_count": 12,
   "metadata": {
    "collapsed": false,
    "deletable": true,
    "editable": true
   },
   "outputs": [],
   "source": [
    "XGB_model = XGBClassifier(**xgb_params)"
   ]
  },
  {
   "cell_type": "code",
   "execution_count": 15,
   "metadata": {
    "collapsed": false,
    "deletable": true,
    "editable": true
   },
   "outputs": [
    {
     "data": {
      "text/plain": [
       "XGBClassifier(base_score=0.5, booster='gbtree', colsample_bylevel=1,\n",
       "       colsample_bytree=0.9, gamma=0, learning_rate=0.2, max_delta_step=0,\n",
       "       max_depth=4, min_child_weight=1, missing=None, n_estimators=10,\n",
       "       n_jobs=1, nthread=None, objective='binary:logistic', random_state=0,\n",
       "       reg_alpha=0, reg_lambda=1, scale_pos_weight=1, seed=None,\n",
       "       silent=True, subsample=0.9)"
      ]
     },
     "execution_count": 15,
     "metadata": {},
     "output_type": "execute_result"
    }
   ],
   "source": [
    "XGB_model.fit(X,y, eval_metric=roc_auc_score)"
   ]
  },
  {
   "cell_type": "code",
   "execution_count": 62,
   "metadata": {
    "collapsed": false,
    "deletable": true,
    "editable": true
   },
   "outputs": [],
   "source": [
    "### Dependencies\n",
    "\n",
    "# import pandas as pd\n",
    "# import numpy as np\n",
    "# from time import time\n",
    "# from matplotlib import pyplot as plt\n",
    "# import seaborn as sns\n",
    "# import random\n",
    "# from collections import Counter\n",
    "# from sklearn.preprocessing import MinMaxScaler\n",
    "# from sklearn.preprocessing import RobustScaler\n",
    "# from sklearn.preprocessing import OneHotEncoder\n",
    "# import kaggle\n",
    "# from sklearn.model_selection import StratifiedKFold\n",
    "# from sklearn.metrics import roc_auc_score\n",
    "# from sklearn.ensemble import RandomForestClassifier\n",
    "# from sklearn.naive_bayes import GaussianNB as NaiveBayes\n",
    "# from sklearn.tree import DecisionTreeClassifier as DecisionTree\n",
    "# from sklearn.svm import SVC\n",
    "# from sklearn.linear_model import LogisticRegression\n",
    "# from sklearn.neural_network import MLPClassifier\n",
    "# import itertools\n",
    "# import missingno as msno\n",
    "# import gc\n",
    "# from sklearn.metrics import f1_score\n",
    "# from sklearn.metrics import make_scorer\n",
    "# from sklearn.metrics import silhouette_score\n",
    "# from sklearn.preprocessing import StandardScaler\n",
    "# from sklearn.model_selection import GridSearchCV\n",
    "# from sklearn.model_selection import cross_val_score\n",
    "# from sklearn.model_selection import train_test_split\n",
    "# from sklearn.model_selection import StratifiedKFold\n",
    "# from sklearn.linear_model import LogisticRegression\n",
    "# from sklearn.naive_bayes import GaussianNB as NaiveBayes\n",
    "# from sklearn.tree import DecisionTreeClassifier\n",
    "# from sklearn.tree import DecisionTreeRegressor\n",
    "# from sklearn.svm import SVC as SVM\n",
    "# from xgboost import XGBClassifier\n",
    "# from lightgbm import LGBMClassifier\n",
    "# from catboost import CatBoostClassifier\n",
    "# from sklearn.decomposition import PCA\n",
    "# from sklearn.mixture import GaussianMixture as GM\n",
    "# from hyperopt.pyll.base import scope\n",
    "# from hyperopt.pyll.stochastic import sample\n",
    "# from hyperopt import STATUS_OK, Trials, fmin, hp, tpe\n",
    "# from xgboost import XGBClassifier\n",
    "# from lightgbm import LGBMClassifier\n",
    "# from catboost import CatBoostClassifier"
   ]
  }
 ],
 "metadata": {
  "anaconda-cloud": {},
  "kernelspec": {
   "display_name": "Python [default]",
   "language": "python",
   "name": "python2"
  },
  "language_info": {
   "codemirror_mode": {
    "name": "ipython",
    "version": 2
   },
   "file_extension": ".py",
   "mimetype": "text/x-python",
   "name": "python",
   "nbconvert_exporter": "python",
   "pygments_lexer": "ipython2",
   "version": "2.7.12"
  }
 },
 "nbformat": 4,
 "nbformat_minor": 1
}
