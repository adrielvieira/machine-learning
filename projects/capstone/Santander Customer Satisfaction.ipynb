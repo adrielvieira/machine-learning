{
 "cells": [
  {
   "cell_type": "markdown",
   "metadata": {
    "deletable": true,
    "editable": true
   },
   "source": [
    "# Santander Customer Satisfaction"
   ]
  },
  {
   "cell_type": "markdown",
   "metadata": {
    "deletable": true,
    "editable": true
   },
   "source": [
    "## Initialization"
   ]
  },
  {
   "cell_type": "markdown",
   "metadata": {
    "deletable": true,
    "editable": true
   },
   "source": [
    "### Dependencies"
   ]
  },
  {
   "cell_type": "code",
   "execution_count": 3,
   "metadata": {
    "collapsed": false,
    "deletable": true,
    "editable": true
   },
   "outputs": [],
   "source": [
    "import pandas as pd\n",
    "import numpy as np\n",
    "\n",
    "from matplotlib import pyplot as plt\n",
    "import seaborn as sns"
   ]
  },
  {
   "cell_type": "markdown",
   "metadata": {
    "deletable": true,
    "editable": true
   },
   "source": [
    "### Visualization Settings"
   ]
  },
  {
   "cell_type": "code",
   "execution_count": 4,
   "metadata": {
    "collapsed": false,
    "deletable": true,
    "editable": true
   },
   "outputs": [],
   "source": [
    "%matplotlib inline\n",
    "pd.options.display.float_format = '{:.3f}'.format\n",
    "\n",
    "# sns.palplot(sns.color_palette())"
   ]
  },
  {
   "cell_type": "markdown",
   "metadata": {
    "deletable": true,
    "editable": true
   },
   "source": [
    "### Files"
   ]
  },
  {
   "cell_type": "code",
   "execution_count": 5,
   "metadata": {
    "collapsed": true,
    "deletable": true,
    "editable": true
   },
   "outputs": [],
   "source": [
    "train = pd.read_csv('train.csv')\n",
    "test = pd.read_csv('test.csv')\n",
    "# data = train.drop('TARGET', axis=1).append(test)"
   ]
  },
  {
   "cell_type": "markdown",
   "metadata": {
    "deletable": true,
    "editable": true
   },
   "source": [
    "## Data Exploring"
   ]
  },
  {
   "cell_type": "code",
   "execution_count": 6,
   "metadata": {
    "collapsed": false,
    "deletable": true,
    "editable": true
   },
   "outputs": [
    {
     "data": {
      "text/plain": [
       "(76020, 371)"
      ]
     },
     "execution_count": 6,
     "metadata": {},
     "output_type": "execute_result"
    }
   ],
   "source": [
    "train.shape"
   ]
  },
  {
   "cell_type": "code",
   "execution_count": 7,
   "metadata": {
    "collapsed": false,
    "deletable": true,
    "editable": true
   },
   "outputs": [
    {
     "data": {
      "text/plain": [
       "(75818, 370)"
      ]
     },
     "execution_count": 7,
     "metadata": {},
     "output_type": "execute_result"
    }
   ],
   "source": [
    "test.shape"
   ]
  },
  {
   "cell_type": "code",
   "execution_count": 8,
   "metadata": {
    "collapsed": false,
    "deletable": true,
    "editable": true
   },
   "outputs": [
    {
     "data": {
      "text/plain": [
       "{'TARGET'}"
      ]
     },
     "execution_count": 8,
     "metadata": {},
     "output_type": "execute_result"
    }
   ],
   "source": [
    "set(train.columns) - set(test.columns)"
   ]
  },
  {
   "cell_type": "markdown",
   "metadata": {
    "deletable": true,
    "editable": true
   },
   "source": [
    "### Overview"
   ]
  },
  {
   "cell_type": "code",
   "execution_count": 9,
   "metadata": {
    "collapsed": false,
    "deletable": true,
    "editable": true
   },
   "outputs": [
    {
     "name": "stdout",
     "output_type": "stream",
     "text": [
      "Total number of customers: 76020\n",
      "Number of satisfied customers: 73012\n",
      "Number of unsatisfied customers: 3008\n",
      "Satisfaction rate: 96.04%\n",
      "Number of features: 369\n"
     ]
    }
   ],
   "source": [
    "n_customers = len(train)\n",
    "n_unsatisfied = train.TARGET.sum()\n",
    "n_satisfied = (train.TARGET==0).sum()\n",
    "satisfaction_rate = float(n_satisfied)/n_customers\n",
    "\n",
    "features = test.columns.drop('ID').tolist()\n",
    "n_features = len(features)\n",
    "\n",
    "print(\"Total number of customers: {}\".format(n_customers))\n",
    "print(\"Number of satisfied customers: {}\".format(n_satisfied))\n",
    "print(\"Number of unsatisfied customers: {}\".format(n_unsatisfied))\n",
    "print(\"Satisfaction rate: {:.2f}%\".format(satisfaction_rate*100))\n",
    "print(\"Number of features: {}\".format(n_features))"
   ]
  },
  {
   "cell_type": "markdown",
   "metadata": {
    "deletable": true,
    "editable": true
   },
   "source": [
    "### ID Analysis"
   ]
  },
  {
   "cell_type": "code",
   "execution_count": 10,
   "metadata": {
    "collapsed": false,
    "deletable": true,
    "editable": true
   },
   "outputs": [
    {
     "data": {
      "text/plain": [
       "True"
      ]
     },
     "execution_count": 10,
     "metadata": {},
     "output_type": "execute_result"
    }
   ],
   "source": [
    "len(set(train.ID)) == len(train)"
   ]
  },
  {
   "cell_type": "code",
   "execution_count": 11,
   "metadata": {
    "collapsed": false,
    "deletable": true,
    "editable": true
   },
   "outputs": [],
   "source": [
    "train_id = train.ID\n",
    "test_id = test.ID\n",
    "train.drop('ID', inplace=True, axis=1)\n",
    "test.drop('ID', inplace=True, axis=1)"
   ]
  },
  {
   "cell_type": "markdown",
   "metadata": {
    "deletable": true,
    "editable": true
   },
   "source": [
    "### Target Analysis"
   ]
  },
  {
   "cell_type": "markdown",
   "metadata": {
    "deletable": true,
    "editable": true
   },
   "source": [
    "### Exploring Features"
   ]
  },
  {
   "cell_type": "markdown",
   "metadata": {
    "deletable": true,
    "editable": true
   },
   "source": [
    "## Data Preparation\n",
    "- Missing values. `train.columns[train.isnull().any()].tolist()`\n",
    "- Outliers and strange values\n",
    "- Remove duplicated features\n",
    "- Remove useless features\n",
    "- Remove useless and duplicated features checking it not only on training set but also on testing set (but maybe they could be useful on validation set).\n",
    "- This dataset has some repeated instances but with both class label, so that instances are noise. What I made was extract that noisy instances from the complete dataset. After that, I splitted the resulting complete dataset in 5 partitions and I ran xgboost on each one. Then, I made a majority vote of the five resulting predictions for each noisy instance that I extrated at the begining. Finally, I inserted that instances with the real class label."
   ]
  },
  {
   "cell_type": "code",
   "execution_count": 42,
   "metadata": {
    "collapsed": false,
    "deletable": true,
    "editable": true
   },
   "outputs": [
    {
     "data": {
      "image/png": "[encoded data removed]",
      "text/plain": [
       "<matplotlib.figure.Figure at 0x116e2ac18>"
      ]
     },
     "metadata": {},
     "output_type": "display_data"
    }
   ],
   "source": [
    "for c in train.select_dtypes('float'):\n",
    "    sns.distplot(train[c]);"
   ]
  },
  {
   "cell_type": "markdown",
   "metadata": {
    "deletable": true,
    "editable": true
   },
   "source": [
    "### Cleaning"
   ]
  },
  {
   "cell_type": "code",
   "execution_count": 12,
   "metadata": {
    "collapsed": false,
    "deletable": true,
    "editable": true,
    "scrolled": true
   },
   "outputs": [],
   "source": [
    "def replace_weird(dfs, weird = [-999999, 9999999999.00]):\n",
    "    for df in dfs:\n",
    "        modes = df.mode()\n",
    "        for col in df.columns:\n",
    "            if any([i in df[col].values for i in weird]):\n",
    "#                 df['weird_'+col] = df[col].isin(weird)\n",
    "                df[col].mask(df[col].isin(weird), modes[col][0], inplace=True)\n",
    "\n",
    "replace_weird([train, test])"
   ]
  },
  {
   "cell_type": "code",
   "execution_count": 13,
   "metadata": {
    "collapsed": false,
    "deletable": true,
    "editable": true,
    "scrolled": true
   },
   "outputs": [],
   "source": [
    "def remove_useless(dfs):\n",
    "    remove = []\n",
    "    for df in dfs:\n",
    "        for col in df.columns:\n",
    "            if df[col].std() == 0:\n",
    "                remove.append(col)\n",
    "    for df in dfs:\n",
    "        df.drop(set(remove), axis=1, inplace=True)\n",
    "\n",
    "remove_useless([train, test])"
   ]
  },
  {
   "cell_type": "code",
   "execution_count": 14,
   "metadata": {
    "collapsed": false
   },
   "outputs": [
    {
     "name": "stdout",
     "output_type": "stream",
     "text": [
      "Duplicated columns on test set are also duplicated on training set.          \n",
      "All duplicated being removed from both sets\n"
     ]
    }
   ],
   "source": [
    "def duplicated(df):\n",
    "    duplicated = []\n",
    "    c = df.columns\n",
    "    for i in range(len(c)-1):\n",
    "        v = df[c[i]].values\n",
    "        for j in range(i+1,len(c)):\n",
    "            if np.array_equal(v,df[c[j]].values):\n",
    "                duplicated.append(c[j])\n",
    "    return set(duplicated)\n",
    "\n",
    "\n",
    "duplicated_train = duplicated(train)\n",
    "duplicated_test = duplicated(test)\n",
    "\n",
    "if duplicated_test.issubset(duplicated_train):\n",
    "    print('Duplicated columns on test set are also duplicated on training set.\\\n",
    "          \\nAll duplicated being removed from both sets')\n",
    "    train.drop(duplicated_train, axis=1, inplace=True)\n",
    "    test.drop(duplicated_train, axis=1, inplace=True)"
   ]
  },
  {
   "cell_type": "code",
   "execution_count": 46,
   "metadata": {
    "collapsed": false,
    "deletable": true,
    "editable": true
   },
   "outputs": [
    {
     "data": {
      "image/png": "[encoded data removed]",
      "text/plain": [
       "<matplotlib.figure.Figure at 0x121ef0198>"
      ]
     },
     "metadata": {},
     "output_type": "display_data"
    }
   ],
   "source": [
    "for c in train.select_dtypes('float'):\n",
    "    sns.distplot(train[c]);"
   ]
  },
  {
   "cell_type": "markdown",
   "metadata": {
    "deletable": true,
    "editable": true
   },
   "source": [
    "### Preprocessing"
   ]
  },
  {
   "cell_type": "markdown",
   "metadata": {
    "deletable": true,
    "editable": true
   },
   "source": [
    "### Scaling\n",
    "- https://discuss.analyticsvidhya.com/t/methods-to-deal-with-zero-values-while-performing-log-transformation-of-variable/2431/3\n",
    "- Robust Scaler\n",
    "- Log Scaler\n",
    "- Scale Test"
   ]
  },
  {
   "cell_type": "code",
   "execution_count": 15,
   "metadata": {
    "collapsed": false,
    "deletable": true,
    "editable": true
   },
   "outputs": [],
   "source": [
    "from sklearn.preprocessing import MinMaxScaler\n",
    "from sklearn.preprocessing import StandardScaler\n",
    "from sklearn.preprocessing import RobustScaler\n",
    "\n",
    "min_max_scaler = MinMaxScaler()\n",
    "standard_scaler = StandardScaler()\n",
    "robust_scaler = RobustScaler()\n",
    "# log scaler\n",
    "\n",
    "floats = train.select_dtypes('float').columns\n",
    "train[floats] = pd.DataFrame(standard_scaler.fit_transform(train[floats]), columns=floats)"
   ]
  },
  {
   "cell_type": "code",
   "execution_count": 66,
   "metadata": {
    "collapsed": false,
    "deletable": true,
    "editable": true
   },
   "outputs": [
    {
     "data": {
      "image/png": "[encoded data removed]",
      "text/plain": [
       "<matplotlib.figure.Figure at 0x1238c8588>"
      ]
     },
     "metadata": {},
     "output_type": "display_data"
    }
   ],
   "source": [
    "for c in train.select_dtypes('float'):\n",
    "    sns.distplot(train[c]);"
   ]
  },
  {
   "cell_type": "markdown",
   "metadata": {
    "deletable": true,
    "editable": true
   },
   "source": [
    "## Models"
   ]
  },
  {
   "cell_type": "code",
   "execution_count": 16,
   "metadata": {
    "collapsed": false,
    "deletable": true,
    "editable": true
   },
   "outputs": [],
   "source": [
    "from sklearn.metrics import roc_auc_score\n",
    "from sklearn.metrics import make_scorer\n",
    "roc_auc_scorer = make_scorer(roc_auc_score, needs_proba=True) # Convert a metric to a scorer.\n",
    "\n",
    "from sklearn.model_selection import GridSearchCV\n",
    "from sklearn.model_selection import cross_val_score"
   ]
  },
  {
   "cell_type": "code",
   "execution_count": 17,
   "metadata": {
    "collapsed": false,
    "deletable": true,
    "editable": true
   },
   "outputs": [],
   "source": [
    "X = np.array(train.drop('TARGET', axis=1))\n",
    "y = np.array(train['TARGET'])"
   ]
  },
  {
   "cell_type": "markdown",
   "metadata": {
    "deletable": true,
    "editable": true
   },
   "source": [
    "### Benchmark"
   ]
  },
  {
   "cell_type": "code",
   "execution_count": 18,
   "metadata": {
    "collapsed": false,
    "deletable": true,
    "editable": true
   },
   "outputs": [
    {
     "data": {
      "text/plain": [
       "'All zeros benchmark has ROC_AUC score of 0.5'"
      ]
     },
     "execution_count": 18,
     "metadata": {},
     "output_type": "execute_result"
    }
   ],
   "source": [
    "'All zeros benchmark has ROC_AUC score of {}'.format(roc_auc_score(train.TARGET, np.zeros_like(train.TARGET)))"
   ]
  },
  {
   "cell_type": "markdown",
   "metadata": {
    "deletable": true,
    "editable": true
   },
   "source": [
    "### Baseline\n",
    "- Base Models\n",
    "- Grid Search\n",
    "- Model descriptions, strengths and weakness"
   ]
  },
  {
   "cell_type": "markdown",
   "metadata": {
    "deletable": true,
    "editable": true
   },
   "source": [
    "#### NaiveBayes"
   ]
  },
  {
   "cell_type": "code",
   "execution_count": 19,
   "metadata": {
    "collapsed": false,
    "deletable": true,
    "editable": true,
    "scrolled": true
   },
   "outputs": [
    {
     "data": {
      "text/plain": [
       "0.5374590966343075"
      ]
     },
     "execution_count": 19,
     "metadata": {},
     "output_type": "execute_result"
    }
   ],
   "source": [
    "from sklearn.naive_bayes import GaussianNB\n",
    "\n",
    "nb_classifier = GaussianNB()\n",
    "cross_val_score(nb_classifier, X, y, cv=3, scoring='roc_auc').mean()"
   ]
  },
  {
   "cell_type": "markdown",
   "metadata": {
    "deletable": true,
    "editable": true
   },
   "source": [
    "#### LogisticRegression"
   ]
  },
  {
   "cell_type": "code",
   "execution_count": 20,
   "metadata": {
    "collapsed": false,
    "deletable": true,
    "editable": true
   },
   "outputs": [
    {
     "data": {
      "text/plain": [
       "0.7931621123193534"
      ]
     },
     "execution_count": 20,
     "metadata": {},
     "output_type": "execute_result"
    }
   ],
   "source": [
    "from sklearn.linear_model import LogisticRegression\n",
    "\n",
    "lr_classifier = LogisticRegression(class_weight={0:0.2, 1:0.8})\n",
    "cross_val_score(lr_classifier, X, y, cv=3, scoring='roc_auc').mean()"
   ]
  },
  {
   "cell_type": "markdown",
   "metadata": {
    "deletable": true,
    "editable": true
   },
   "source": [
    "#### DecisionTree"
   ]
  },
  {
   "cell_type": "code",
   "execution_count": 21,
   "metadata": {
    "collapsed": false,
    "deletable": true,
    "editable": true
   },
   "outputs": [
    {
     "data": {
      "text/plain": [
       "0.5715716850857125"
      ]
     },
     "execution_count": 21,
     "metadata": {},
     "output_type": "execute_result"
    }
   ],
   "source": [
    "from sklearn.tree import DecisionTreeClassifier\n",
    "\n",
    "dt_classifier = DecisionTreeClassifier()\n",
    "cross_val_score(dt_classifier, X, y, cv=3, scoring='roc_auc').mean()"
   ]
  },
  {
   "cell_type": "code",
   "execution_count": 21,
   "metadata": {
    "collapsed": false,
    "deletable": true,
    "editable": true
   },
   "outputs": [
    {
     "data": {
      "text/plain": [
       "0.5715716850857125"
      ]
     },
     "execution_count": 21,
     "metadata": {},
     "output_type": "execute_result"
    }
   ],
   "source": [
    "from sklearn.tree import DecisionTreeClassifier\n",
    "\n",
    "dt_classifier = DecisionTreeClassifier(min)\n",
    "cross_val_score(dt_classifier, X, y, cv=3, scoring='roc_auc').mean()"
   ]
  },
  {
   "cell_type": "markdown",
   "metadata": {
    "deletable": true,
    "editable": true
   },
   "source": [
    "#### SVC"
   ]
  },
  {
   "cell_type": "code",
   "execution_count": 22,
   "metadata": {
    "collapsed": false,
    "deletable": true,
    "editable": true
   },
   "outputs": [],
   "source": [
    "# from sklearn.svm import SVC\n",
    "\n",
    "# sv_classifier = SVC()\n",
    "# cross_val_score(sv_classifier, X, y, cv=3, scoring=roc_auc_scorer).mean()"
   ]
  },
  {
   "cell_type": "markdown",
   "metadata": {
    "deletable": true,
    "editable": true
   },
   "source": [
    "#### MLP Classifier\n",
    "- http://scikit-learn.org/stable/modules/generated/sklearn.neural_network.MLPClassifier.html"
   ]
  },
  {
   "cell_type": "code",
   "execution_count": 23,
   "metadata": {
    "collapsed": false,
    "deletable": true,
    "editable": true
   },
   "outputs": [
    {
     "data": {
      "text/plain": [
       "0.7980524557572463"
      ]
     },
     "execution_count": 23,
     "metadata": {},
     "output_type": "execute_result"
    }
   ],
   "source": [
    "from sklearn.neural_network import MLPClassifier\n",
    "\n",
    "mlp_classifier = MLPClassifier()\n",
    "cross_val_score(mlp_classifier, X, y, cv=3, scoring='roc_auc').mean()"
   ]
  },
  {
   "cell_type": "code",
   "execution_count": 29,
   "metadata": {
    "collapsed": false,
    "deletable": true,
    "editable": true
   },
   "outputs": [
    {
     "data": {
      "text/plain": [
       "0.7761793922411119"
      ]
     },
     "execution_count": 29,
     "metadata": {},
     "output_type": "execute_result"
    }
   ],
   "source": [
    "from sklearn.neural_network import MLPClassifier\n",
    "\n",
    "mlp_classifier = MLPClassifier(hidden_layer_sizes=(200,50))\n",
    "cross_val_score(mlp_classifier, X, y, cv=3, scoring='roc_auc').mean()"
   ]
  },
  {
   "cell_type": "markdown",
   "metadata": {
    "deletable": true,
    "editable": true
   },
   "source": [
    "#### Random Forest"
   ]
  },
  {
   "cell_type": "code",
   "execution_count": 25,
   "metadata": {
    "collapsed": false,
    "deletable": true,
    "editable": true
   },
   "outputs": [
    {
     "data": {
      "text/plain": [
       "0.6753461077617808"
      ]
     },
     "execution_count": 25,
     "metadata": {},
     "output_type": "execute_result"
    }
   ],
   "source": [
    "from sklearn.ensemble import RandomForestClassifier\n",
    "\n",
    "rf_classifier = RandomForestClassifier(random_state=3)\n",
    "cross_val_score(rf_classifier, X, y, cv=5, scoring='roc_auc').mean()"
   ]
  },
  {
   "cell_type": "code",
   "execution_count": 28,
   "metadata": {
    "collapsed": false,
    "deletable": true,
    "editable": true
   },
   "outputs": [
    {
     "data": {
      "text/plain": [
       "0.7610352546192394"
      ]
     },
     "execution_count": 28,
     "metadata": {},
     "output_type": "execute_result"
    }
   ],
   "source": [
    "from sklearn.ensemble import RandomForestClassifier\n",
    "\n",
    "rf_classifier = RandomForestClassifier(n_estimators=100, max_features=50, random_state=3)\n",
    "cross_val_score(rf_classifier, X, y, cv=5, scoring='roc_auc').mean()"
   ]
  },
  {
   "cell_type": "markdown",
   "metadata": {
    "deletable": true,
    "editable": true
   },
   "source": [
    "#### XGBoost"
   ]
  },
  {
   "cell_type": "code",
   "execution_count": 26,
   "metadata": {
    "collapsed": false,
    "deletable": true,
    "editable": true
   },
   "outputs": [
    {
     "data": {
      "text/plain": [
       "0.8365909544900069"
      ]
     },
     "execution_count": 26,
     "metadata": {},
     "output_type": "execute_result"
    }
   ],
   "source": [
    "from xgboost import XGBClassifier\n",
    "\n",
    "xgb_classifier = XGBClassifier()\n",
    "cross_val_score(xgb_classifier, X, y, cv=3, scoring='roc_auc').mean()"
   ]
  },
  {
   "cell_type": "markdown",
   "metadata": {
    "deletable": true,
    "editable": true
   },
   "source": [
    "## Feature Engineering\n",
    "- OneHotEncode'em all\n",
    "- Binary feature for each feature on the dataset. `1 if feature == feature.mode() else 0`\n",
    "- Add column that sum zeros on row. `train['zeros'] = (train==0).sum(axis=1).astype(float)`\n",
    "- Add column that sums values in row. \n",
    "- PCA and other dimensionality reduction on low importance features.\n",
    "- ONE-HOT encode features with more than 2 and less than 'limit' unique values\n",
    "- Test importance of new features\n",
    "\n",
    "### Feature correlation and importance"
   ]
  },
  {
   "cell_type": "code",
   "execution_count": null,
   "metadata": {
    "collapsed": true,
    "deletable": true,
    "editable": true
   },
   "outputs": [],
   "source": [
    "def get_importance(features, model):"
   ]
  },
  {
   "cell_type": "markdown",
   "metadata": {
    "deletable": true,
    "editable": true
   },
   "source": [
    "### One Hot Encoding"
   ]
  },
  {
   "cell_type": "code",
   "execution_count": 64,
   "metadata": {
    "collapsed": false,
    "deletable": true,
    "editable": true,
    "scrolled": true
   },
   "outputs": [],
   "source": [
    "one_hot = {c: list(train[c].unique()) for c in train[features].select_dtypes('int').columns}"
   ]
  },
  {
   "cell_type": "code",
   "execution_count": 65,
   "metadata": {
    "collapsed": false,
    "deletable": true,
    "editable": true
   },
   "outputs": [
    {
     "data": {
      "image/png": "[encoded data removed]",
      "text/plain": [
       "<matplotlib.figure.Figure at 0x1117e8c50>"
      ]
     },
     "metadata": {},
     "output_type": "display_data"
    }
   ],
   "source": [
    "sns.distplot([len(i) for i in one_hot.values()], kde=False);"
   ]
  },
  {
   "cell_type": "code",
   "execution_count": 66,
   "metadata": {
    "collapsed": false,
    "deletable": true,
    "editable": true
   },
   "outputs": [
    {
     "data": {
      "image/png": "[encoded data removed]",
      "text/plain": [
       "<matplotlib.figure.Figure at 0x120dc8d30>"
      ]
     },
     "metadata": {},
     "output_type": "display_data"
    }
   ],
   "source": [
    "sns.distplot([len(i) for i in one_hot.values() if len(i)<50], kde=False);"
   ]
  },
  {
   "cell_type": "code",
   "execution_count": 67,
   "metadata": {
    "collapsed": false,
    "deletable": true,
    "editable": true
   },
   "outputs": [],
   "source": [
    "def OHE_by_unique(df, one_hot, limit):    \n",
    "    #ONE-HOT encode features with more than 2 and less than 'limit' unique values\n",
    "    for c in one_hot:\n",
    "        if len(one_hot[c])>2 and len(one_hot[c]) < limit:\n",
    "            for val in one_hot[c]:\n",
    "                df[c+'_oh_' + str(val)] = (df[c].values == val).astype(np.int)\n",
    "\n",
    "OHE_by_unique(train, one_hot, 10)"
   ]
  },
  {
   "cell_type": "markdown",
   "metadata": {},
   "source": [
    "#### Scale remainders of OHE (unique < limit)\n",
    "transform unique?limit to float at begining"
   ]
  },
  {
   "cell_type": "markdown",
   "metadata": {
    "deletable": true,
    "editable": true
   },
   "source": [
    "### Value == Mode"
   ]
  },
  {
   "cell_type": "code",
   "execution_count": 279,
   "metadata": {
    "collapsed": false,
    "deletable": true,
    "editable": true
   },
   "outputs": [],
   "source": [
    "def check_if_is_mode(df):\n",
    "    modes = df.mode()\n",
    "    for c in df.columns:\n",
    "        df['is_mode_of_'+c] = df[c]==modes[c]\n",
    "\n",
    "check_if_is_mode(train)\n",
    "check_if_is_mode(test)"
   ]
  },
  {
   "cell_type": "markdown",
   "metadata": {
    "deletable": true,
    "editable": true
   },
   "source": [
    "### Count zeros"
   ]
  },
  {
   "cell_type": "code",
   "execution_count": 32,
   "metadata": {
    "collapsed": true,
    "deletable": true,
    "editable": true
   },
   "outputs": [],
   "source": [
    "def count_zeros(df):\n",
    "    df['zeros'] = (df==0).sum(axis=1).astype(float)\n",
    "    \n",
    "count_zeros(train)\n",
    "count_zeros(test)"
   ]
  },
  {
   "cell_type": "markdown",
   "metadata": {
    "deletable": true,
    "editable": true
   },
   "source": [
    "### Extra Features"
   ]
  },
  {
   "cell_type": "markdown",
   "metadata": {
    "deletable": true,
    "editable": true
   },
   "source": [
    "### Feature correlation and importance"
   ]
  },
  {
   "cell_type": "markdown",
   "metadata": {
    "deletable": true,
    "editable": true
   },
   "source": [
    "## Parameter Optmization\n",
    "#### Grid Search"
   ]
  },
  {
   "cell_type": "markdown",
   "metadata": {
    "deletable": true,
    "editable": true
   },
   "source": [
    "### Cross Validation Test\n",
    "- comparar:\n",
    "    - CrossValidation inside and outside (parameter to toggle between True and False)\n",
    "    - faz diferença?"
   ]
  },
  {
   "cell_type": "code",
   "execution_count": 206,
   "metadata": {
    "collapsed": true,
    "deletable": true,
    "editable": true
   },
   "outputs": [],
   "source": [
    "def cross_val_model(X,y, model, n_splits=5, scoring='roc_auc', undersampling_folds=True):\n",
    "    if outside_cv:\n",
    "        X = np.array(X)\n",
    "        y = np.array(y)\n",
    "\n",
    "        folds = list(StratifiedKFold(n_splits=n_splits, shuffle=True, random_state=1).split(X, y))\n",
    "        score = 0\n",
    "\n",
    "        for j, (train_idx, test_idx) in enumerate(folds):\n",
    "            X_train = X[train_idx]\n",
    "            y_train = y[train_idx]\n",
    "            X_holdout = X[test_idx]\n",
    "            y_holdout = y[test_idx]\n",
    "\n",
    "            print (\"Fit %s fold %d\" % (str(model).split('(')[0], j+1))\n",
    "            model.fit(X_train, y_train)\n",
    "            cross_score = cross_val_score(model, X_holdout, y_holdout, cv=3, scoring=scoring)\n",
    "            score+= cross_score.mean()\n",
    "        score = score/n_splits\n",
    "    else:\n",
    "        score = cross_val_score(model, X_holdout, y_holdout, cv=3, scoring=scoring).mean()\n",
    "        \n",
    "        # check if sklearn cross_val uses stratified kfold\n",
    "        \n",
    "    print(\"    cross_score: %.5f\" % score)"
   ]
  },
  {
   "cell_type": "markdown",
   "metadata": {
    "deletable": true,
    "editable": true
   },
   "source": [
    "### Undersampling\n",
    "- This dataset is highly unbalanced, so using the new dataset without noise, I made an undersampling as follows: first, I splitted the dataset in the instances which have class label 0 and the instances which have class label 1. Later, I splitted the instances with 0 class into (number_of_class0/number_of_class1) partitions (24 partitions) and I joined each partition with the partition of instances of 1 class label made before. Finally, I ran xgboost on each new balanced partition and I made an average with the predictions of the 24 models.\n",
    "- Add this undersampling method to cross val function, with partameter to toggle on/off."
   ]
  },
  {
   "cell_type": "markdown",
   "metadata": {
    "deletable": true,
    "editable": true
   },
   "source": [
    "## Stacking / Voting"
   ]
  },
  {
   "cell_type": "markdown",
   "metadata": {
    "deletable": true,
    "editable": true
   },
   "source": [
    "## Ideas\n",
    "- Add noise to target\n",
    "- Add noise to target after folding, and train a regressor.\n",
    "- Replicate datapoints with TARGET=1. \n",
    "- Replicate datapoints with TARGET=1. Add noise.\n",
    "- Unbalanced features: check if they give info about target. Try to combine them. Remove excess.\n",
    "- Remaining features: check if they give info using FacetGrid. Apply transformations and check again. Trying to kernel trick.\n",
    "- Simplyfy cross-validation using only sklearn's cross_val_score.\n",
    "- Remove datapoints that have outliers if target=0\n",
    "- Submit using Kaggle api. import kaggle\n",
    "- plotar distribuicao dos scores finais da competicao\n",
    "- mostrar minha posicao comparada as outras notas sem rankear. estara mto mais proxima do primeiro lugar do que do benchmark\n",
    "- ao terminar o projeto, responder email antigo da cristina junqueira\n",
    "- Review previous projects' and live's notebooks ot see if there's something to be added\n",
    "- Test the baseline with unprocessed data\n",
    "- Test the baseline with unscaled data\n",
    "- GridSearch again at the end, after feature engineering\n",
    "- SVM on low importance features.\n",
    "- drop duplicated columns. `train.T.drop_duplicates().T`\n",
    "- fit scaler to whole data (train + test)"
   ]
  },
  {
   "cell_type": "markdown",
   "metadata": {
    "deletable": true,
    "editable": true
   },
   "source": [
    "## Sklearn Pipeline (Optional)\n",
    "### Scalers\n",
    "### Cross Validation Folds\n",
    "### Models\n",
    "### Grid Search\n",
    "\n",
    "- https://stackoverflow.com/questions/49262900/scaling-data-using-pipelines-in-scikit-learn-standardscaler-vs-robustscaler"
   ]
  },
  {
   "cell_type": "markdown",
   "metadata": {
    "deletable": true,
    "editable": true
   },
   "source": [
    "---"
   ]
  },
  {
   "cell_type": "markdown",
   "metadata": {
    "deletable": true,
    "editable": true
   },
   "source": [
    "### Visualization Options"
   ]
  },
  {
   "cell_type": "code",
   "execution_count": 2,
   "metadata": {
    "collapsed": false,
    "deletable": true,
    "editable": true
   },
   "outputs": [
    {
     "data": {
      "image/png": "[encoded data removed]",
      "text/plain": [
       "<matplotlib.figure.Figure at 0x10af00750>"
      ]
     },
     "metadata": {},
     "output_type": "display_data"
    }
   ],
   "source": [
    "from IPython.display import display # Allows the use of display() for DataFrames\n",
    "from IPython.display import set_matplotlib_formats\n",
    "pd.options.display.float_format = '{:.2f}'.format\n",
    "# sns.set(color_codes=True, palette=sns.palplot(sns.cubehelix_palette(8)))\n",
    "# sns.set_palette(\"cubehelix_palette\")\n",
    "%matplotlib inline\n",
    "# set_matplotlib_formats('pdf', 'png')\n",
    "rc={'savefig.dpi': 75,    'figure.autolayout': False,    'figure.figsize': [8, 6],    'axes.labelsize': 18,    'axes.titlesize': 18,    'font.size': 18,    'lines.linewidth': 2.0,    'lines.markersize': 8,    'legend.fontsize': 16,    'xtick.labelsize': 16,    'ytick.labelsize': 16,    }\n",
    "# sns.set(style='dark')\n",
    "sns.set(style='dark',rc=rc)\n",
    "# default_color = '#56B4E9'\n",
    "colormap = plt.cm.cool\n",
    "# Import supplementary visualizations code visuals.py\n",
    "# import visuals as vs\n",
    "# Setting working directory\n",
    "# path = '../data/raw/'\n",
    "sns.set_palette(sns.cubehelix_palette(50))\n",
    "sns.set_palette('GnBu_d')\n",
    "sns.palplot(sns.color_palette())"
   ]
  },
  {
   "cell_type": "code",
   "execution_count": 5,
   "metadata": {
    "collapsed": false,
    "deletable": true,
    "editable": true,
    "scrolled": true
   },
   "outputs": [
    {
     "data": {
      "image/png": "[encoded data removed]",
      "text/plain": [
       "<matplotlib.figure.Figure at 0x10b223d90>"
      ]
     },
     "metadata": {},
     "output_type": "display_data"
    }
   ],
   "source": [
    "# sns.countplot(meta.d_type);\n",
    "sns.countplot(train.dtypes);"
   ]
  },
  {
   "cell_type": "code",
   "execution_count": null,
   "metadata": {
    "collapsed": true,
    "deletable": true,
    "editable": true
   },
   "outputs": [],
   "source": [
    "plt.xticks(rotation=90)\n",
    "plt.title('Some variables have several features related o it:')\n",
    "sns.countplot(meta.variable);"
   ]
  },
  {
   "cell_type": "code",
   "execution_count": null,
   "metadata": {
    "collapsed": true,
    "deletable": true,
    "editable": true
   },
   "outputs": [],
   "source": [
    "plt.title('Some features may appear for lots of variables. Others are variable specific.')\n",
    "meta.attribute.value_counts().head(15).plot(kind='bar');"
   ]
  },
  {
   "cell_type": "code",
   "execution_count": null,
   "metadata": {
    "collapsed": true,
    "deletable": true,
    "editable": true
   },
   "outputs": [],
   "source": [
    "plt.title('Most integer features have less than 25 unique values.')\n",
    "plt.xticks(size=8, rotation=30)\n",
    "sns.countplot(meta.loc[(meta.d_type=='integer') & meta.keep].n_unique);"
   ]
  },
  {
   "cell_type": "code",
   "execution_count": null,
   "metadata": {
    "collapsed": true,
    "deletable": true,
    "editable": true
   },
   "outputs": [],
   "source": [
    "plt.xticks(size=8, rotation=90)\n",
    "sns.countplot(meta.loc[(meta.d_type=='float') & meta.keep].n_unique);"
   ]
  },
  {
   "cell_type": "code",
   "execution_count": null,
   "metadata": {
    "collapsed": false,
    "deletable": true,
    "editable": true,
    "scrolled": false
   },
   "outputs": [],
   "source": [
    "# for c in train[meta.loc[(meta.d_type=='float') & meta.keep]['name']]:\n",
    "#     sns.kdeplot(train[c].apply(lambda x: 0.0001 if x==0 else x).apply(np.log), legend=False)\n",
    "#     sns.kdeplot(train[c].apply(np.log), legend=False)"
   ]
  },
  {
   "cell_type": "code",
   "execution_count": null,
   "metadata": {
    "collapsed": false,
    "deletable": true,
    "editable": true
   },
   "outputs": [],
   "source": [
    "for c in train.select_dtypes('float'):\n",
    "    sns.distplot(train[c]);"
   ]
  },
  {
   "cell_type": "code",
   "execution_count": null,
   "metadata": {
    "collapsed": false,
    "deletable": true,
    "editable": true,
    "scrolled": true
   },
   "outputs": [],
   "source": [
    "sns.countplot(meta.d_type);"
   ]
  },
  {
   "cell_type": "markdown",
   "metadata": {
    "deletable": true,
    "editable": true
   },
   "source": [
    "## Data Preparation / Preprocessing / Scaling "
   ]
  },
  {
   "cell_type": "code",
   "execution_count": null,
   "metadata": {
    "collapsed": true,
    "deletable": true,
    "editable": true
   },
   "outputs": [],
   "source": [
    "remove data which meta[keep=false]"
   ]
  },
  {
   "cell_type": "code",
   "execution_count": null,
   "metadata": {
    "collapsed": false,
    "deletable": true,
    "editable": true,
    "scrolled": true
   },
   "outputs": [],
   "source": [
    "train[col].max().sort_values()"
   ]
  },
  {
   "cell_type": "code",
   "execution_count": null,
   "metadata": {
    "collapsed": false,
    "deletable": true,
    "editable": true
   },
   "outputs": [],
   "source": [
    "train['delta_num_compra_var44_1y3'].value_counts()"
   ]
  },
  {
   "cell_type": "code",
   "execution_count": null,
   "metadata": {
    "collapsed": false,
    "deletable": true,
    "editable": true
   },
   "outputs": [],
   "source": [
    "for c in col2:\n",
    "    sns.distplot(train[c].apply(lambda x: np.log(x+1.23456789)))"
   ]
  },
  {
   "cell_type": "code",
   "execution_count": null,
   "metadata": {
    "collapsed": false,
    "deletable": true,
    "editable": true
   },
   "outputs": [],
   "source": [
    "# adiantando \n",
    "one_hot = {c: list(train[c].unique()) for c in train.columns if c not in ['id','target']}\n",
    "\n",
    "def OHE_by_unique(df, one_hot, limit):\n",
    "    \n",
    "    #ONE-HOT encode features with more than 2 and less than 'limit' unique values\n",
    "    for c in one_hot:\n",
    "        if len(one_hot[c])>2 and len(one_hot[c]) < limit:\n",
    "            for val in one_hot[c]:\n",
    "                df[c+'_oh_' + str(val)] = (df[c].values == val).astype(np.int)\n",
    "OHE_by_unique(train, one_hot, 10)"
   ]
  },
  {
   "cell_type": "code",
   "execution_count": null,
   "metadata": {
    "collapsed": true,
    "deletable": true,
    "editable": true
   },
   "outputs": [],
   "source": [
    "# Remove constant features\n",
    "\n",
    "def identify_constant_features(dataframe):\n",
    "    count_uniques = dataframe.apply(lambda x: len(x.unique()))\n",
    "    constants = count_uniques[count_uniques == 1].index.tolist()\n",
    "    return constants\n",
    "\n",
    "constant_features_train = set(identify_constant_features(train_dataset))\n",
    "\n",
    "print('There were {} constant features in TRAIN dataset.'.format(\n",
    "        len(constant_features_train)))\n",
    "\n",
    "# Drop the constant features\n",
    "train_dataset.drop(constant_features_train, inplace=True, axis=1)\n"
   ]
  },
  {
   "cell_type": "markdown",
   "metadata": {
    "deletable": true,
    "editable": true
   },
   "source": [
    "## Benchmark"
   ]
  },
  {
   "cell_type": "code",
   "execution_count": null,
   "metadata": {
    "collapsed": false,
    "deletable": true,
    "editable": true
   },
   "outputs": [],
   "source": [
    "'All zeros benchmark has ROC_AUC score of {}'.format(roc_auc_score(train.TARGET, np.zeros_like(train.TARGET)))"
   ]
  },
  {
   "cell_type": "markdown",
   "metadata": {
    "deletable": true,
    "editable": true
   },
   "source": [
    "## Baseline"
   ]
  },
  {
   "cell_type": "code",
   "execution_count": 213,
   "metadata": {
    "collapsed": true,
    "deletable": true,
    "editable": true
   },
   "outputs": [],
   "source": [
    "def cross_val_model(X,y, model, n_splits=5):\n",
    "    X = np.array(X)\n",
    "    y = np.array(y)\n",
    "\n",
    "    folds = list(StratifiedKFold(n_splits=n_splits, shuffle=True, random_state=1).split(X, y))\n",
    "    score = 0\n",
    "    for j, (train_idx, test_idx) in enumerate(folds):\n",
    "        X_train = X[train_idx]\n",
    "        y_train = y[train_idx]\n",
    "        X_holdout = X[test_idx]\n",
    "        y_holdout = y[test_idx]\n",
    "\n",
    "        print (\"Fit %s fold %d\" % (str(model).split('(')[0], j+1))\n",
    "        model.fit(X_train, y_train)\n",
    "        cross_score = cross_val_score(model, X_holdout, y_holdout, cv=3, scoring='roc_auc')\n",
    "        print(cross_score.mean())\n",
    "        score+= cross_score.mean()\n",
    "    score = score/n_splits\n",
    "    print(\"    cross_score: %.5f\" % score)"
   ]
  },
  {
   "cell_type": "code",
   "execution_count": 214,
   "metadata": {
    "collapsed": false,
    "deletable": true,
    "editable": true
   },
   "outputs": [],
   "source": [
    "# Initialize models\n",
    "clf_A = GaussianNB()\n",
    "clf_B = DecisionTreeClassifier()\n",
    "# clf_C = SVM()\n",
    "clf_D = LogisticRegression()\n",
    "clf_E = RandomForestClassifier()\n",
    "\n",
    "X = train.drop('TARGET', axis=1)\n",
    "X = train.drop(['TARGET'], axis=1)\n",
    "y = train['TARGET']\n",
    "\n",
    "# u'strange_in_TARGET' should be droped\n",
    "\n",
    "# # TODO: Execute the 'train_predict' function for each classifier and each training set size\n",
    "# for clf in [clf_A, clf_B, clf_C]:\n",
    "#     for X_set, y_set in [(X_train_100, y_train_100), (X_train_200, y_train_200), (X_train_300, y_train_300)]:\n",
    "#         train_predict(clf, X_set, y_set, X_test, y_test)\n",
    "#         print"
   ]
  },
  {
   "cell_type": "code",
   "execution_count": 215,
   "metadata": {
    "collapsed": false,
    "deletable": true,
    "editable": true,
    "scrolled": false
   },
   "outputs": [
    {
     "name": "stdout",
     "output_type": "stream",
     "text": [
      "Fit GaussianNB fold 1\n",
      "0.5383638500144288\n",
      "Fit GaussianNB fold 2\n",
      "0.5232403335529742\n",
      "Fit GaussianNB fold 3\n",
      "0.5361399576207746\n",
      "Fit GaussianNB fold 4\n",
      "0.5356069617075271\n",
      "Fit GaussianNB fold 5\n",
      "0.5317914890445244\n",
      "    cross_score: 0.53303\n",
      "Fit DecisionTreeClassifier fold 1\n",
      "0.5581280479549477\n",
      "Fit DecisionTreeClassifier fold 2\n",
      "0.5659181928915068\n",
      "Fit DecisionTreeClassifier fold 3\n",
      "0.5559330271160843\n",
      "Fit DecisionTreeClassifier fold 4\n",
      "0.5561279287486526\n",
      "Fit DecisionTreeClassifier fold 5\n",
      "0.5616064872781559\n",
      "    cross_score: 0.55954\n",
      "Fit LogisticRegression fold 1\n",
      "0.37906670294236494\n",
      "Fit LogisticRegression fold 2\n",
      "0.38076612457038816\n",
      "Fit LogisticRegression fold 3\n",
      "0.3823086880003432\n",
      "Fit LogisticRegression fold 4\n",
      "0.38821932243603624\n",
      "Fit LogisticRegression fold 5\n",
      "0.37126160279732473\n",
      "    cross_score: 0.38032\n",
      "Fit RandomForestClassifier fold 1\n",
      "0.6683274533777285\n",
      "Fit RandomForestClassifier fold 2\n",
      "0.6574936381540525\n",
      "Fit RandomForestClassifier fold 3\n",
      "0.6602220610255635\n",
      "Fit RandomForestClassifier fold 4\n",
      "0.6704147476213111\n",
      "Fit RandomForestClassifier fold 5\n",
      "0.6521973678600967\n",
      "    cross_score: 0.66173\n"
     ]
    }
   ],
   "source": [
    "cross_val_model(X, y, clf_A)\n",
    "cross_val_model(X, y, clf_B)\n",
    "# cross_val_model(X, y, clf_C)\n",
    "cross_val_model(X, y, clf_D)\n",
    "cross_val_model(X, y, clf_E)"
   ]
  },
  {
   "cell_type": "code",
   "execution_count": null,
   "metadata": {
    "collapsed": false,
    "deletable": true,
    "editable": true,
    "scrolled": true
   },
   "outputs": [],
   "source": [
    "cross_val_model(X, y, clf_E)"
   ]
  },
  {
   "cell_type": "code",
   "execution_count": null,
   "metadata": {
    "collapsed": false,
    "deletable": true,
    "editable": true,
    "scrolled": true
   },
   "outputs": [],
   "source": [
    "pd.DataFrame(clf_E.feature_importances_, index=X.columns).sort_values(0, ascending=False)"
   ]
  },
  {
   "cell_type": "code",
   "execution_count": null,
   "metadata": {
    "collapsed": true,
    "deletable": true,
    "editable": true
   },
   "outputs": [],
   "source": [
    "# TODO: Import 'GridSearchCV' and 'make_scorer'\n",
    "from sklearn.grid_search import GridSearchCV\n",
    "from sklearn.metrics import make_scorer\n",
    "\n",
    "# TODO: Create the parameters list you wish to tune\n",
    "parameters = {'C': [0.01, 0.1, 1, 10, 100],\n",
    "             'degree': [1,2,3,4,5],\n",
    "             'kernel':  ['linear', 'poly', 'rbf', 'sigmoid']}\n",
    "\n",
    "# TODO: Initialize the classifier\n",
    "clf = SVM()\n",
    "\n",
    "# TODO: Make an f1 scoring function using 'make_scorer' \n",
    "f1_scorer = make_scorer(f1_score, pos_label='yes')\n",
    "\n",
    "# TODO: Perform grid search on the classifier using the f1_scorer as the scoring method\n",
    "grid_obj = GridSearchCV(clf, parameters, scoring=f1_scorer)\n",
    "\n",
    "# TODO: Fit the grid search object to the training data and find the optimal parameters\n",
    "grid_obj = grid_obj.fit(X_train, y_train)\n",
    "\n",
    "# Get the estimator\n",
    "clf = grid_obj.best_estimator_\n",
    "\n",
    "# Report the final F1 score for training and testing after parameter tuning\n",
    "print \"Tuned model has a training F1 score of {:.4f}.\".format(predict_labels(clf, X_train, y_train))\n",
    "print \"Tuned model has a testing F1 score of {:.4f}.\".format(predict_labels(clf, X_test, y_test))"
   ]
  },
  {
   "cell_type": "code",
   "execution_count": 11,
   "metadata": {
    "collapsed": true,
    "deletable": true,
    "editable": true
   },
   "outputs": [],
   "source": [
    "# XGBoost params\n",
    "xgb_params = {}\n",
    "xgb_params['learning_rate'] = 0.2\n",
    "xgb_params['n_estimators'] = 10\n",
    "xgb_params['max_depth'] = 4\n",
    "xgb_params['subsample'] = 0.9\n",
    "xgb_params['colsample_bytree'] = 0.9"
   ]
  },
  {
   "cell_type": "code",
   "execution_count": 9,
   "metadata": {
    "collapsed": false,
    "deletable": true,
    "editable": true
   },
   "outputs": [],
   "source": [
    "X = train.drop(['TARGET', 'ID', 'strange_in_TARGET'], axis=1)\n",
    "y = train['TARGET']\n",
    "X_test = test.drop(['ID'], axis=1)"
   ]
  },
  {
   "cell_type": "code",
   "execution_count": 12,
   "metadata": {
    "collapsed": false,
    "deletable": true,
    "editable": true
   },
   "outputs": [],
   "source": [
    "XGB_model = XGBClassifier(**xgb_params)"
   ]
  },
  {
   "cell_type": "code",
   "execution_count": 13,
   "metadata": {
    "collapsed": false,
    "deletable": true,
    "editable": true
   },
   "outputs": [
    {
     "name": "stdout",
     "output_type": "stream",
     "text": [
      "Fit XGBClassifier fold 1\n",
      "Fit XGBClassifier fold 2\n",
      "Fit XGBClassifier fold 3\n",
      "Fit XGBClassifier fold 4\n",
      "Fit XGBClassifier fold 5\n",
      "    cross_score: 0.81420\n"
     ]
    }
   ],
   "source": [
    "cross_val_model(X, y, XGB_model)"
   ]
  },
  {
   "cell_type": "code",
   "execution_count": 15,
   "metadata": {
    "collapsed": false,
    "deletable": true,
    "editable": true
   },
   "outputs": [
    {
     "data": {
      "text/plain": [
       "XGBClassifier(base_score=0.5, booster='gbtree', colsample_bylevel=1,\n",
       "       colsample_bytree=0.9, gamma=0, learning_rate=0.2, max_delta_step=0,\n",
       "       max_depth=4, min_child_weight=1, missing=None, n_estimators=10,\n",
       "       n_jobs=1, nthread=None, objective='binary:logistic', random_state=0,\n",
       "       reg_alpha=0, reg_lambda=1, scale_pos_weight=1, seed=None,\n",
       "       silent=True, subsample=0.9)"
      ]
     },
     "execution_count": 15,
     "metadata": {},
     "output_type": "execute_result"
    }
   ],
   "source": [
    "XGB_model.fit(X,y, eval_metric=roc_auc_score)"
   ]
  },
  {
   "cell_type": "code",
   "execution_count": 18,
   "metadata": {
    "collapsed": false,
    "deletable": true,
    "editable": true
   },
   "outputs": [],
   "source": [
    "ypred = XGB_model.predict_proba(test.drop('ID', axis=1))"
   ]
  },
  {
   "cell_type": "code",
   "execution_count": 24,
   "metadata": {
    "collapsed": false,
    "deletable": true,
    "editable": true
   },
   "outputs": [],
   "source": [
    "sub = pd.DataFrame()\n",
    "sub['id'] = test['ID'].values\n",
    "sub['target'] = ypred[:,1]\n",
    "sub.to_csv('baselineXGB.csv', index=False)"
   ]
  },
  {
   "cell_type": "code",
   "execution_count": 33,
   "metadata": {
    "collapsed": true,
    "deletable": true,
    "editable": true
   },
   "outputs": [],
   "source": [
    "NN_Classifier = MLPClassifier(hidden_layer_sizes=(500, 500, 250, 100, 50))"
   ]
  },
  {
   "cell_type": "code",
   "execution_count": 34,
   "metadata": {
    "collapsed": false,
    "deletable": true,
    "editable": true
   },
   "outputs": [
    {
     "data": {
      "text/plain": [
       "MLPClassifier(activation='relu', alpha=0.0001, batch_size='auto', beta_1=0.9,\n",
       "       beta_2=0.999, early_stopping=False, epsilon=1e-08,\n",
       "       hidden_layer_sizes=(500, 500, 250, 100, 50),\n",
       "       learning_rate='constant', learning_rate_init=0.001, max_iter=200,\n",
       "       momentum=0.9, nesterovs_momentum=True, power_t=0.5,\n",
       "       random_state=None, shuffle=True, solver='adam', tol=0.0001,\n",
       "       validation_fraction=0.1, verbose=False, warm_start=False)"
      ]
     },
     "execution_count": 34,
     "metadata": {},
     "output_type": "execute_result"
    }
   ],
   "source": [
    "NN_Classifier.fit(X,y)"
   ]
  },
  {
   "cell_type": "code",
   "execution_count": 35,
   "metadata": {
    "collapsed": false,
    "deletable": true,
    "editable": true
   },
   "outputs": [],
   "source": [
    "ypred2 = NN_Classifier.predict_proba(test.drop('ID', axis=1))"
   ]
  },
  {
   "cell_type": "code",
   "execution_count": 36,
   "metadata": {
    "collapsed": true,
    "deletable": true,
    "editable": true
   },
   "outputs": [],
   "source": [
    "sub2 = pd.DataFrame()\n",
    "sub2['id'] = test['ID'].values\n",
    "sub2['target'] = ypred2[:,1]\n",
    "sub2.to_csv('baselineNN.csv', index=False)"
   ]
  },
  {
   "cell_type": "markdown",
   "metadata": {
    "deletable": true,
    "editable": true
   },
   "source": [
    "#### Support Vector Classifier with kernel trick"
   ]
  },
  {
   "cell_type": "markdown",
   "metadata": {
    "deletable": true,
    "editable": true
   },
   "source": [
    "#### Random Forest Model"
   ]
  },
  {
   "cell_type": "code",
   "execution_count": null,
   "metadata": {
    "collapsed": false,
    "deletable": true,
    "editable": true
   },
   "outputs": [],
   "source": [
    "#RandomForest params\n",
    "rf_params = {}\n",
    "rf_params['n_estimators'] = 200\n",
    "rf_params['max_depth'] = 6\n",
    "rf_params['min_samples_split'] = 70\n",
    "rf_params['min_samples_leaf'] = 30\n",
    "\n",
    "clf_F = RandomForestClassifier(**rf_params)"
   ]
  },
  {
   "cell_type": "code",
   "execution_count": null,
   "metadata": {
    "collapsed": false,
    "deletable": true,
    "editable": true
   },
   "outputs": [],
   "source": [
    "X = train.replace([np.inf, -np.inf], np.nan).dropna().drop('TARGET', axis=1)\n",
    "y = train.dropna()['TARGET']"
   ]
  },
  {
   "cell_type": "code",
   "execution_count": null,
   "metadata": {
    "collapsed": false,
    "deletable": true,
    "editable": true
   },
   "outputs": [],
   "source": [
    "cross_val_model(X, y, clf_F) # unscaled"
   ]
  },
  {
   "cell_type": "markdown",
   "metadata": {
    "deletable": true,
    "editable": true
   },
   "source": [
    "#### Test the baseline with unprocessed data "
   ]
  },
  {
   "cell_type": "code",
   "execution_count": null,
   "metadata": {
    "collapsed": true,
    "deletable": true,
    "editable": true
   },
   "outputs": [],
   "source": [
    "v = 'var5'\n",
    "sns.pairplot(train[meta.loc[(meta.d_type=='float') & (meta.variable==v) & meta.keep].name]);"
   ]
  },
  {
   "cell_type": "code",
   "execution_count": null,
   "metadata": {
    "collapsed": false,
    "deletable": true,
    "editable": true,
    "scrolled": true
   },
   "outputs": [],
   "source": [
    "meta"
   ]
  },
  {
   "cell_type": "code",
   "execution_count": null,
   "metadata": {
    "collapsed": false,
    "deletable": true,
    "editable": true,
    "scrolled": false
   },
   "outputs": [],
   "source": [
    "sns.FacetGrid(train, hue=\"TARGET\", size=6).map(sns.kdeplot, \"var15\").add_legend()\n",
    "plt.title('Unhappy customers are slightly older');"
   ]
  },
  {
   "cell_type": "markdown",
   "metadata": {
    "deletable": true,
    "editable": true
   },
   "source": [
    "### Feature correlation and importance"
   ]
  },
  {
   "cell_type": "code",
   "execution_count": null,
   "metadata": {
    "collapsed": true,
    "deletable": true,
    "editable": true
   },
   "outputs": [],
   "source": [
    "v = 'var1'\n",
    "display(meta.loc[meta.variable==v].set_index('name'))\n",
    "sns.pairplot(train[meta.loc[meta.variable==v]['name']]);"
   ]
  },
  {
   "cell_type": "code",
   "execution_count": null,
   "metadata": {
    "collapsed": true,
    "deletable": true,
    "editable": true
   },
   "outputs": [],
   "source": [
    "\"Regressor to check features importance (as done in customer_segments project).\"\n",
    "from sklearn.cross_validation import train_test_split\n",
    "from sklearn.tree import DecisionTreeRegressor\n",
    "\n",
    "# TODO: Make a copy of the DataFrame, using the 'drop' function to drop the given feature\n",
    "variable = 'ind_var8_0'\n",
    "new_data = data.drop(feature, axis=1)\n",
    "\n",
    "# TODO: Split the data into training and testing sets(0.25) using the given feature as the target\n",
    "# Set a random state.\n",
    "X_train, X_test, y_train, y_test = train_test_split(new_data, data[feature], test_size = 0.25, random_state=3)\n",
    "\n",
    "# TODO: Create a decision tree regressor and fit it to the training set\n",
    "regressor = DecisionTreeRegressor(random_state=3)\n",
    "regressor.fit(X_train, y_train)\n",
    "\n",
    "# TODO: Report the score of the prediction using the testing set\n",
    "score = regressor.score(X_test, y_test)\n",
    "score"
   ]
  },
  {
   "cell_type": "code",
   "execution_count": null,
   "metadata": {
    "collapsed": true,
    "deletable": true,
    "editable": true
   },
   "outputs": [],
   "source": []
  },
  {
   "cell_type": "code",
   "execution_count": null,
   "metadata": {
    "collapsed": true,
    "deletable": true,
    "editable": true
   },
   "outputs": [],
   "source": [
    "train[feature_names].corr()\n",
    "\n",
    "ver se da pra estimar features a partir de outras. parece q tem feature q eh bucket de outra\n",
    "ver se da pra estimar integers e binary a partir dos floats\n",
    "\n",
    "def get_feature_importance_df(feature_importances, \n",
    "                              column_names, \n",
    "                              top_n=25):\n",
    "    imp_dict = dict(zip(column_names, \n",
    "                        feature_importances))\n",
    "    top_features = sorted(imp_dict, \n",
    "                          key=imp_dict.get, \n",
    "                          reverse=True)[0:top_n]\n",
    "    top_importances = [imp_dict[feature] for feature \n",
    "                          in top_features]\n",
    "    df = pd.DataFrame(data={'feature': top_features, \n",
    "                            'importance': top_importances})\n",
    "    return df\n",
    "\n",
    "\n",
    "feature_importance = get_feature_importance_df(rf.feature_importances_, features)\n",
    "feature_importance\n",
    "\n",
    "# fig,ax = plt.subplots()\n",
    "# fig.set_size_inches(20,10)\n",
    "# sns.barplot(data=feature_importance[:10],x=\"feature\",y=\"importance\",ax=ax,color=default_color,)\n",
    "# ax.set(xlabel='Variable name', ylabel='Importance',title=\"Variable importances\");\n",
    "\n",
    "# sns.barplot(data=feature_importance[:10],x=\"feature\",y=\"importance\");\n",
    "\n",
    "\n",
    "# Testing feature importantes with Random Forest\n",
    "\n",
    "train.fillna(-1, inplace=True)\n",
    "\n",
    "rf = RandomForestClassifier(n_estimators=150,\n",
    "                            max_depth=8,\n",
    "                            min_samples_leaf=4,\n",
    "                            max_features=0.2,\n",
    "                            n_jobs=-1,\n",
    "                            random_state=42)\n",
    "\n",
    "\n",
    "rf.fit(train.drop(['target'],axis=1), train.target)\n",
    "features = train.drop(['target'],axis=1).columns.values\n",
    "print(\"----- Training Done -----\")\n",
    "\n",
    "\n",
    "# Continuous features analysis\n",
    "\n",
    "col_internval\n",
    "\n",
    "corr_m = train[col_internval].corr()\n",
    "corr_m\n",
    "\n",
    "plt.figure(figsize=(18,16))\n",
    "plt.title('Pearson correlation of continuous features', y=1.05, size=15)\n",
    "sns.heatmap(train[col_internval].corr(),\n",
    "            linewidths=0.1,\n",
    "            vmax=1.0,\n",
    "            square=True,\n",
    "            cmap=colormap,\n",
    "            linecolor='white',\n",
    "            annot=True);\n",
    "\n",
    "\n",
    "\n",
    "\n",
    "\n",
    "\n",
    "\n",
    "\n",
    "\"Regressor to check features importance (as done in customer_segments project).\"\n",
    "from sklearn.cross_validation import train_test_split\n",
    "from sklearn.tree import DecisionTreeRegressor\n",
    "\n",
    "# TODO: Make a copy of the DataFrame, using the 'drop' function to drop the given feature\n",
    "feature = 'Delicatessen'\n",
    "new_data = data.drop(feature, axis=1)\n",
    "\n",
    "# TODO: Split the data into training and testing sets(0.25) using the given feature as the target\n",
    "# Set a random state.\n",
    "X_train, X_test, y_train, y_test = train_test_split(new_data, data[feature], test_size = 0.25, random_state=3)\n",
    "\n",
    "# TODO: Create a decision tree regressor and fit it to the training set\n",
    "regressor = DecisionTreeRegressor(random_state=3)\n",
    "regressor.fit(X_train, y_train)\n",
    "\n",
    "# TODO: Report the score of the prediction using the testing set\n",
    "score = regressor.score(X_test, y_test)\n",
    "score"
   ]
  },
  {
   "cell_type": "code",
   "execution_count": null,
   "metadata": {
    "collapsed": true,
    "deletable": true,
    "editable": true
   },
   "outputs": [],
   "source": [
    "sns.pairplot(train[variables['var7']]);\n",
    "sns.pairplot(train[variables['var8']]);"
   ]
  },
  {
   "cell_type": "code",
   "execution_count": null,
   "metadata": {
    "collapsed": true,
    "deletable": true,
    "editable": true
   },
   "outputs": [],
   "source": [
    "v = 'saldo_medio_var13_largo_ult3'\n",
    "sns.kdeplot(train[v].apply(np.log));"
   ]
  },
  {
   "cell_type": "code",
   "execution_count": null,
   "metadata": {
    "collapsed": true,
    "deletable": true,
    "editable": true
   },
   "outputs": [],
   "source": [
    "sns.kdeplot(train.var38.apply(lambda x: np.log(x+1)));"
   ]
  },
  {
   "cell_type": "code",
   "execution_count": null,
   "metadata": {
    "collapsed": true,
    "deletable": true,
    "editable": true
   },
   "outputs": [],
   "source": [
    "sns.distplot(train['var38']);"
   ]
  },
  {
   "cell_type": "code",
   "execution_count": null,
   "metadata": {
    "collapsed": true,
    "deletable": true,
    "editable": true
   },
   "outputs": [],
   "source": [
    "sns.distplot(train['var38'].apply(np.log));"
   ]
  },
  {
   "cell_type": "code",
   "execution_count": null,
   "metadata": {
    "collapsed": true,
    "deletable": true,
    "editable": true
   },
   "outputs": [],
   "source": [
    "sns.countplot(train.dtypes);"
   ]
  },
  {
   "cell_type": "code",
   "execution_count": null,
   "metadata": {
    "collapsed": true,
    "deletable": true,
    "editable": true
   },
   "outputs": [],
   "source": [
    "sns.countplot('TARGET',data=train);"
   ]
  },
  {
   "cell_type": "markdown",
   "metadata": {
    "deletable": true,
    "editable": true
   },
   "source": [
    "**GridsearchCV** (http://scikit-learn.org/stable/modules/generated/sklearn.grid_search.GridSearchCV.html#sklearn.grid_search.GridSearchCV)\n",
    "\n",
    "sklearn.grid_search.GridSearchCV(estimator, param_grid, scoring=None, fit_params=None, n_jobs=1, iid=True, refit=True, cv=None, verbose=0, pre_dispatch=‘2*n_jobs’, error_score=’raise’)[source]\n",
    "\n",
    "cv : int, cross-validation generator or an iterable, optional\n",
    "\n",
    "Determines the cross-validation splitting strategy. Possible inputs for cv are:\n",
    "\n",
    "None, to use the default 3-fold cross-validation,\n",
    "integer, to specify the number of folds.\n",
    "An object to be used as a cross-validation generator.\n",
    "An iterable yielding train/test splits.\n",
    "For integer/None inputs, if the estimator is a classifier and y is either binary or multiclass, sklearn.model_selection.StratifiedKFold is used. In all other cases, sklearn.model_selection.KFold is used."
   ]
  },
  {
   "cell_type": "code",
   "execution_count": null,
   "metadata": {
    "collapsed": false,
    "deletable": true,
    "editable": true
   },
   "outputs": [],
   "source": []
  },
  {
   "cell_type": "markdown",
   "metadata": {
    "deletable": true,
    "editable": true
   },
   "source": [
    "\"oneHotEncode'em all\""
   ]
  },
  {
   "cell_type": "code",
   "execution_count": null,
   "metadata": {
    "collapsed": false,
    "deletable": true,
    "editable": true,
    "scrolled": true
   },
   "outputs": [],
   "source": [
    "# evolution features (relationships within variable attrivbutes): imp_op_var39_comer_ult1 > imp_op_var39_comer_ult3\n",
    "\n",
    "import itertools\n",
    "for variable in set(meta.variable):\n",
    "    v_combs = [list(i) for i in itertools.combinations(meta[meta.variable==variable]['name'], 2)]\n",
    "    for comb in v_combs:\n",
    "        train[comb[0]+'GT'+comb[1]] = train[comb[0]] > train[comb[1]]"
   ]
  },
  {
   "cell_type": "code",
   "execution_count": null,
   "metadata": {
    "collapsed": false,
    "deletable": true,
    "editable": true
   },
   "outputs": [],
   "source": [
    "train.shapex"
   ]
  },
  {
   "cell_type": "code",
   "execution_count": null,
   "metadata": {
    "collapsed": true,
    "deletable": true,
    "editable": true
   },
   "outputs": [],
   "source": [
    "# Initialize models\n",
    "clf_A = NaiveBayes()\n",
    "clf_B = DecisionTree()\n",
    "clf_C = SVM()\n",
    "clf_D = LogisticRegression()\n",
    "clf_E = RandomForestClassifier()\n",
    "\n",
    "X = train.drop('TARGET', axis=1)\n",
    "X = train.drop(['TARGET', 'ID'], axis=1)\n",
    "y = train['TARGET']"
   ]
  },
  {
   "cell_type": "code",
   "execution_count": null,
   "metadata": {
    "collapsed": true,
    "deletable": true,
    "editable": true
   },
   "outputs": [],
   "source": [
    "cross_val_model(X, y, clf_A)\n",
    "cross_val_model(X, y, clf_B)\n",
    "# cross_val_model(X, y, clf_C)\n",
    "cross_val_model(X, y, clf_D)\n",
    "cross_val_model(X, y, clf_E)"
   ]
  },
  {
   "cell_type": "code",
   "execution_count": 37,
   "metadata": {
    "collapsed": false,
    "deletable": true,
    "editable": true
   },
   "outputs": [
    {
     "ename": "NameError",
     "evalue": "name 'X_all' is not defined",
     "output_type": "error",
     "traceback": [
      "\u001b[0;31m---------------------------------------------------------------------------\u001b[0m",
      "\u001b[0;31mNameError\u001b[0m                                 Traceback (most recent call last)",
      "\u001b[0;32m<ipython-input-37-3bdb4c58348d>\u001b[0m in \u001b[0;36m<module>\u001b[0;34m()\u001b[0m\n\u001b[1;32m     23\u001b[0m     \u001b[0;32mreturn\u001b[0m \u001b[0moutput\u001b[0m\u001b[0;34m\u001b[0m\u001b[0m\n\u001b[1;32m     24\u001b[0m \u001b[0;34m\u001b[0m\u001b[0m\n\u001b[0;32m---> 25\u001b[0;31m \u001b[0mX_all\u001b[0m \u001b[0;34m=\u001b[0m \u001b[0mpreprocess_features\u001b[0m\u001b[0;34m(\u001b[0m\u001b[0mX_all\u001b[0m\u001b[0;34m)\u001b[0m\u001b[0;34m\u001b[0m\u001b[0m\n\u001b[0m\u001b[1;32m     26\u001b[0m \u001b[0;32mprint\u001b[0m \u001b[0;34m\"Processed feature columns ({} total features):\\n{}\"\u001b[0m\u001b[0;34m.\u001b[0m\u001b[0mformat\u001b[0m\u001b[0;34m(\u001b[0m\u001b[0mlen\u001b[0m\u001b[0;34m(\u001b[0m\u001b[0mX_all\u001b[0m\u001b[0;34m.\u001b[0m\u001b[0mcolumns\u001b[0m\u001b[0;34m)\u001b[0m\u001b[0;34m,\u001b[0m \u001b[0mlist\u001b[0m\u001b[0;34m(\u001b[0m\u001b[0mX_all\u001b[0m\u001b[0;34m.\u001b[0m\u001b[0mcolumns\u001b[0m\u001b[0;34m)\u001b[0m\u001b[0;34m)\u001b[0m\u001b[0;34m\u001b[0m\u001b[0m\n\u001b[1;32m     27\u001b[0m \u001b[0;34m\u001b[0m\u001b[0m\n",
      "\u001b[0;31mNameError\u001b[0m: name 'X_all' is not defined"
     ]
    }
   ],
   "source": [
    "def preprocess_features(X):\n",
    "    ''' Preprocesses the student data and converts non-numeric binary variables into\n",
    "        binary (0/1) variables. Converts categorical variables into dummy variables. '''\n",
    "    \n",
    "    # Initialize new output DataFrame\n",
    "    output = pd.DataFrame(index = X.index)\n",
    "\n",
    "    # Investigate each feature column for the data\n",
    "    for col, col_data in X.iteritems():\n",
    "        \n",
    "        # If data type is non-numeric, replace all yes/no values with 1/0\n",
    "        if col_data.dtype == object:\n",
    "            col_data = col_data.replace(['yes', 'no'], [1, 0])\n",
    "\n",
    "        # If data type is categorical, convert to dummy variables\n",
    "        if col_data.dtype == object:\n",
    "            # Example: 'school' => 'school_GP' and 'school_MS'\n",
    "            col_data = pd.get_dummies(col_data, prefix = col)  \n",
    "        \n",
    "        # Collect the revised columns\n",
    "        output = output.join(col_data)\n",
    "    \n",
    "    return output\n",
    "\n",
    "X_all = preprocess_features(X_all)\n",
    "print \"Processed feature columns ({} total features):\\n{}\".format(len(X_all.columns), list(X_all.columns))\n",
    "\n",
    "# scaling features\n",
    "# TODO: Scale the data using the natural logarithm\n",
    "log_data = data.apply(np.log)\n",
    "\n",
    "# TODO: Scale the sample data using the natural logarithm\n",
    "log_samples = samples.apply(np.log)\n",
    "\n",
    "# Produce a scatter matrix for each pair of newly-transformed features\n",
    "pd.plotting.scatter_matrix(log_data, alpha = 0.3, figsize = (14,8), diagonal = 'kde');"
   ]
  },
  {
   "cell_type": "code",
   "execution_count": 123,
   "metadata": {
    "collapsed": true,
    "deletable": true,
    "editable": true
   },
   "outputs": [],
   "source": [
    "from sklearn.preprocessing import OneHotEncoder"
   ]
  },
  {
   "cell_type": "markdown",
   "metadata": {
    "deletable": true,
    "editable": true
   },
   "source": [
    "---"
   ]
  },
  {
   "cell_type": "markdown",
   "metadata": {
    "deletable": true,
    "editable": true
   },
   "source": [
    "# Rascunho"
   ]
  },
  {
   "cell_type": "code",
   "execution_count": 205,
   "metadata": {
    "collapsed": true
   },
   "outputs": [],
   "source": [
    "from sklearn.model_selection import StratifiedKFold\n",
    "\n"
   ]
  },
  {
   "cell_type": "code",
   "execution_count": 6,
   "metadata": {
    "collapsed": false,
    "deletable": true,
    "editable": true
   },
   "outputs": [
    {
     "ename": "SystemExit",
     "evalue": "Unauthorized: you must download an API key from https://www.kaggle.com/<username>/account\nThen put kaggle.json in the folder /Users/vieiraad/.kaggle",
     "output_type": "error",
     "traceback": [
      "An exception has occurred, use %tb to see the full traceback.\n",
      "\u001b[0;31mSystemExit\u001b[0m\u001b[0;31m:\u001b[0m Unauthorized: you must download an API key from https://www.kaggle.com/<username>/account\nThen put kaggle.json in the folder /Users/vieiraad/.kaggle\n"
     ]
    }
   ],
   "source": [
    "### Dependencies\n",
    "\n",
    "import pandas as pd\n",
    "import numpy as np\n",
    "from time import time\n",
    "from matplotlib import pyplot as plt\n",
    "import seaborn as sns\n",
    "import random\n",
    "from collections import Counter\n",
    "from sklearn.preprocessing import MinMaxScaler\n",
    "from sklearn.preprocessing import RobustScaler\n",
    "from sklearn.preprocessing import OneHotEncoder\n",
    "import kaggle\n",
    "\n",
    "from sklearn.model_selection import StratifiedKFold\n",
    "from sklearn.metrics import roc_auc_score\n",
    "from sklearn.ensemble import RandomForestClassifier\n",
    "from sklearn.naive_bayes import GaussianNB as NaiveBayes\n",
    "from sklearn.tree import DecisionTreeClassifier as DecisionTree\n",
    "from sklearn.svm import SVC\n",
    "from sklearn.linear_model import LogisticRegression\n",
    "from sklearn.neural_network import MLPClassifier\n",
    "# import itertools\n",
    "# import missingno as msno\n",
    "# import gc\n",
    "# from sklearn.metrics import f1_score\n",
    "# from sklearn.metrics import make_scorer\n",
    "# from sklearn.metrics import silhouette_score\n",
    "# from sklearn.preprocessing import StandardScaler\n",
    "# from sklearn.model_selection import GridSearchCV\n",
    "# from sklearn.model_selection import cross_val_score\n",
    "# from sklearn.model_selection import train_test_split\n",
    "# from sklearn.model_selection import StratifiedKFold\n",
    "# from sklearn.linear_model import LogisticRegression\n",
    "# from sklearn.naive_bayes import GaussianNB as NaiveBayes\n",
    "# from sklearn.tree import DecisionTreeClassifier\n",
    "# from sklearn.tree import DecisionTreeRegressor\n",
    "# from sklearn.svm import SVC as SVM\n",
    "# from xgboost import XGBClassifier\n",
    "# from lightgbm import LGBMClassifier\n",
    "# from catboost import CatBoostClassifier\n",
    "# from sklearn.decomposition import PCA\n",
    "# from sklearn.mixture import GaussianMixture as GM\n",
    "# from hyperopt.pyll.base import scope\n",
    "# from hyperopt.pyll.stochastic import sample\n",
    "# from hyperopt import STATUS_OK, Trials, fmin, hp, tpe\n",
    "from xgboost import XGBClassifier\n",
    "# from lightgbm import LGBMClassifier\n",
    "# from catboost import CatBoostClassifier"
   ]
  },
  {
   "cell_type": "code",
   "execution_count": null,
   "metadata": {
    "collapsed": true,
    "deletable": true,
    "editable": true
   },
   "outputs": [],
   "source": [
    "def get_meta(df):\n",
    "    data = []\n",
    "    for col in df.columns:\n",
    "        # Defining the role\n",
    "        if col == 'TARGET':\n",
    "            role = 'target'\n",
    "        elif col == 'ID':\n",
    "            role = 'id'\n",
    "        else:\n",
    "            role = 'input'\n",
    "            \n",
    "        # Defining variable which is related to and attributes of this variable\n",
    "        variable = ''.join(filter(lambda x: any(v in x for v in ['var', 'ID', 'TARGET']), col.split('_')))\n",
    "        attribute = col.replace(variable, '').replace('__', '_')\n",
    "        if attribute in ['', variable]: attribute = 'root'\n",
    "        variable = variable.replace('cte', '')\n",
    "\n",
    "        # Defining nunique \n",
    "        nunique = df[col].nunique()\n",
    "\n",
    "#         # Initialize keep to True for all variables except for id or useless variables (nunque < 2)\n",
    "#         keep = True\n",
    "#         if role == 'id' or nunique<2:\n",
    "#             keep = False\n",
    "        # Measuring Mode Strength -- ver isso para os features integers\n",
    "\n",
    "        # Defining the data type \n",
    "        if nunique == 2:\n",
    "            dtype = 'binary'\n",
    "        elif df[col].dtype == type(2):\n",
    "            dtype = 'integer'\n",
    "        elif df[col].dtype == type(0.1):\n",
    "            dtype = 'float'\n",
    "\n",
    "        # Creating a Dict that contains all the metadata for the variable\n",
    "        col_dict = {\n",
    "            'name'     : col,\n",
    "            'role'     : role,\n",
    "            'variable' : variable,\n",
    "            'attribute': attribute,\n",
    "            'n_unique'  : nunique,\n",
    "            'd_type'     : dtype,\n",
    "#             'keep'     : keep\n",
    "        }\n",
    "        \n",
    "        data.append(col_dict)\n",
    "#     meta = pd.DataFrame(data, columns=['name', 'role', 'variable', 'attribute','n_unique', 'd_type', 'keep'])\n",
    "    meta = pd.DataFrame(data, columns=['name', 'role', 'variable', 'attribute','n_unique', 'd_type'])\n",
    "    return meta\n",
    "\n",
    "meta = get_meta(train)"
   ]
  },
  {
   "cell_type": "code",
   "execution_count": 14,
   "metadata": {
    "collapsed": true,
    "deletable": true,
    "editable": true
   },
   "outputs": [
    {
     "ename": "KeyboardInterrupt",
     "evalue": "",
     "output_type": "error",
     "traceback": [
      "\u001b[0;31m---------------------------------------------------------------------------\u001b[0m",
      "\u001b[0;31mKeyboardInterrupt\u001b[0m                         Traceback (most recent call last)",
      "\u001b[0;32m<ipython-input-14-6e55f7007fdb>\u001b[0m in \u001b[0;36m<module>\u001b[0;34m()\u001b[0m\n\u001b[1;32m      6\u001b[0m \u001b[0msession\u001b[0m \u001b[0;34m=\u001b[0m \u001b[0mrequests\u001b[0m\u001b[0;34m.\u001b[0m\u001b[0mSession\u001b[0m\u001b[0;34m(\u001b[0m\u001b[0;34m)\u001b[0m\u001b[0;34m\u001b[0m\u001b[0m\n\u001b[1;32m      7\u001b[0m \u001b[0mget_me\u001b[0m \u001b[0;34m=\u001b[0m \u001b[0;34m'https://www.kaggle.com/account/login?ReturnUrl=%2fc%2f'\u001b[0m \u001b[0;34m+\u001b[0m \u001b[0mcompetition_id\u001b[0m \u001b[0;34m+\u001b[0m \u001b[0;34m'%2fpublicleaderboarddata.zip'\u001b[0m\u001b[0;34m\u001b[0m\u001b[0m\n\u001b[0;32m----> 8\u001b[0;31m \u001b[0mresponse\u001b[0m \u001b[0;34m=\u001b[0m \u001b[0msession\u001b[0m\u001b[0;34m.\u001b[0m\u001b[0mget\u001b[0m\u001b[0;34m(\u001b[0m\u001b[0mget_me\u001b[0m\u001b[0;34m)\u001b[0m \u001b[0;31m#call it once to get the request verification cookie\u001b[0m\u001b[0;34m\u001b[0m\u001b[0m\n\u001b[0m\u001b[1;32m      9\u001b[0m \u001b[0mpayload\u001b[0m \u001b[0;34m=\u001b[0m \u001b[0;34m{\u001b[0m\u001b[0;34m'username'\u001b[0m\u001b[0;34m:\u001b[0m \u001b[0musername\u001b[0m\u001b[0;34m,\u001b[0m\u001b[0;34m' password'\u001b[0m\u001b[0;34m:\u001b[0m\u001b[0mpassword\u001b[0m\u001b[0;34m,\u001b[0m \u001b[0;34m'__RequestVerificationToken'\u001b[0m\u001b[0;34m:\u001b[0m \u001b[0msession\u001b[0m\u001b[0;34m.\u001b[0m\u001b[0mcookies\u001b[0m\u001b[0;34m.\u001b[0m\u001b[0mget\u001b[0m\u001b[0;34m(\u001b[0m\u001b[0;34m'__RequestVerificationToken'\u001b[0m\u001b[0;34m)\u001b[0m\u001b[0;34m}\u001b[0m\u001b[0;34m\u001b[0m\u001b[0m\n\u001b[1;32m     10\u001b[0m \u001b[0mr\u001b[0m \u001b[0;34m=\u001b[0m \u001b[0msession\u001b[0m\u001b[0;34m.\u001b[0m\u001b[0mpost\u001b[0m\u001b[0;34m(\u001b[0m\u001b[0mget_me\u001b[0m\u001b[0;34m,\u001b[0m \u001b[0mdata\u001b[0m\u001b[0;34m=\u001b[0m\u001b[0mpayload\u001b[0m\u001b[0;34m)\u001b[0m\u001b[0;34m\u001b[0m\u001b[0m\n",
      "\u001b[0;32m/Users/vieiraad/anaconda/lib/python2.7/site-packages/requests/sessions.pyc\u001b[0m in \u001b[0;36mget\u001b[0;34m(self, url, **kwargs)\u001b[0m\n\u001b[1;32m    499\u001b[0m \u001b[0;34m\u001b[0m\u001b[0m\n\u001b[1;32m    500\u001b[0m         \u001b[0mkwargs\u001b[0m\u001b[0;34m.\u001b[0m\u001b[0msetdefault\u001b[0m\u001b[0;34m(\u001b[0m\u001b[0;34m'allow_redirects'\u001b[0m\u001b[0;34m,\u001b[0m \u001b[0mTrue\u001b[0m\u001b[0;34m)\u001b[0m\u001b[0;34m\u001b[0m\u001b[0m\n\u001b[0;32m--> 501\u001b[0;31m         \u001b[0;32mreturn\u001b[0m \u001b[0mself\u001b[0m\u001b[0;34m.\u001b[0m\u001b[0mrequest\u001b[0m\u001b[0;34m(\u001b[0m\u001b[0;34m'GET'\u001b[0m\u001b[0;34m,\u001b[0m \u001b[0murl\u001b[0m\u001b[0;34m,\u001b[0m \u001b[0;34m**\u001b[0m\u001b[0mkwargs\u001b[0m\u001b[0;34m)\u001b[0m\u001b[0;34m\u001b[0m\u001b[0m\n\u001b[0m\u001b[1;32m    502\u001b[0m \u001b[0;34m\u001b[0m\u001b[0m\n\u001b[1;32m    503\u001b[0m     \u001b[0;32mdef\u001b[0m \u001b[0moptions\u001b[0m\u001b[0;34m(\u001b[0m\u001b[0mself\u001b[0m\u001b[0;34m,\u001b[0m \u001b[0murl\u001b[0m\u001b[0;34m,\u001b[0m \u001b[0;34m**\u001b[0m\u001b[0mkwargs\u001b[0m\u001b[0;34m)\u001b[0m\u001b[0;34m:\u001b[0m\u001b[0;34m\u001b[0m\u001b[0m\n",
      "\u001b[0;32m/Users/vieiraad/anaconda/lib/python2.7/site-packages/requests/sessions.pyc\u001b[0m in \u001b[0;36mrequest\u001b[0;34m(self, method, url, params, data, headers, cookies, files, auth, timeout, allow_redirects, proxies, hooks, stream, verify, cert, json)\u001b[0m\n\u001b[1;32m    477\u001b[0m \u001b[0;34m\u001b[0m\u001b[0m\n\u001b[1;32m    478\u001b[0m         settings = self.merge_environment_settings(\n\u001b[0;32m--> 479\u001b[0;31m             \u001b[0mprep\u001b[0m\u001b[0;34m.\u001b[0m\u001b[0murl\u001b[0m\u001b[0;34m,\u001b[0m \u001b[0mproxies\u001b[0m\u001b[0;34m,\u001b[0m \u001b[0mstream\u001b[0m\u001b[0;34m,\u001b[0m \u001b[0mverify\u001b[0m\u001b[0;34m,\u001b[0m \u001b[0mcert\u001b[0m\u001b[0;34m\u001b[0m\u001b[0m\n\u001b[0m\u001b[1;32m    480\u001b[0m         )\n\u001b[1;32m    481\u001b[0m \u001b[0;34m\u001b[0m\u001b[0m\n",
      "\u001b[0;32m/Users/vieiraad/anaconda/lib/python2.7/site-packages/requests/sessions.pyc\u001b[0m in \u001b[0;36mmerge_environment_settings\u001b[0;34m(self, url, proxies, stream, verify, cert)\u001b[0m\n\u001b[1;32m    652\u001b[0m         \u001b[0;32mif\u001b[0m \u001b[0mself\u001b[0m\u001b[0;34m.\u001b[0m\u001b[0mtrust_env\u001b[0m\u001b[0;34m:\u001b[0m\u001b[0;34m\u001b[0m\u001b[0m\n\u001b[1;32m    653\u001b[0m             \u001b[0;31m# Set environment's proxies.\u001b[0m\u001b[0;34m\u001b[0m\u001b[0;34m\u001b[0m\u001b[0m\n\u001b[0;32m--> 654\u001b[0;31m             \u001b[0menv_proxies\u001b[0m \u001b[0;34m=\u001b[0m \u001b[0mget_environ_proxies\u001b[0m\u001b[0;34m(\u001b[0m\u001b[0murl\u001b[0m\u001b[0;34m)\u001b[0m \u001b[0;32mor\u001b[0m \u001b[0;34m{\u001b[0m\u001b[0;34m}\u001b[0m\u001b[0;34m\u001b[0m\u001b[0m\n\u001b[0m\u001b[1;32m    655\u001b[0m             \u001b[0;32mfor\u001b[0m \u001b[0;34m(\u001b[0m\u001b[0mk\u001b[0m\u001b[0;34m,\u001b[0m \u001b[0mv\u001b[0m\u001b[0;34m)\u001b[0m \u001b[0;32min\u001b[0m \u001b[0menv_proxies\u001b[0m\u001b[0;34m.\u001b[0m\u001b[0mitems\u001b[0m\u001b[0;34m(\u001b[0m\u001b[0;34m)\u001b[0m\u001b[0;34m:\u001b[0m\u001b[0;34m\u001b[0m\u001b[0m\n\u001b[1;32m    656\u001b[0m                 \u001b[0mproxies\u001b[0m\u001b[0;34m.\u001b[0m\u001b[0msetdefault\u001b[0m\u001b[0;34m(\u001b[0m\u001b[0mk\u001b[0m\u001b[0;34m,\u001b[0m \u001b[0mv\u001b[0m\u001b[0;34m)\u001b[0m\u001b[0;34m\u001b[0m\u001b[0m\n",
      "\u001b[0;32m/Users/vieiraad/anaconda/lib/python2.7/site-packages/requests/utils.pyc\u001b[0m in \u001b[0;36mget_environ_proxies\u001b[0;34m(url)\u001b[0m\n\u001b[1;32m    615\u001b[0m     \u001b[0;34m:\u001b[0m\u001b[0mrtype\u001b[0m\u001b[0;34m:\u001b[0m \u001b[0mdict\u001b[0m\u001b[0;34m\u001b[0m\u001b[0m\n\u001b[1;32m    616\u001b[0m     \"\"\"\n\u001b[0;32m--> 617\u001b[0;31m     \u001b[0;32mif\u001b[0m \u001b[0mshould_bypass_proxies\u001b[0m\u001b[0;34m(\u001b[0m\u001b[0murl\u001b[0m\u001b[0;34m)\u001b[0m\u001b[0;34m:\u001b[0m\u001b[0;34m\u001b[0m\u001b[0m\n\u001b[0m\u001b[1;32m    618\u001b[0m         \u001b[0;32mreturn\u001b[0m \u001b[0;34m{\u001b[0m\u001b[0;34m}\u001b[0m\u001b[0;34m\u001b[0m\u001b[0m\n\u001b[1;32m    619\u001b[0m     \u001b[0;32melse\u001b[0m\u001b[0;34m:\u001b[0m\u001b[0;34m\u001b[0m\u001b[0m\n",
      "\u001b[0;32m/Users/vieiraad/anaconda/lib/python2.7/site-packages/requests/utils.pyc\u001b[0m in \u001b[0;36mshould_bypass_proxies\u001b[0;34m(url)\u001b[0m\n\u001b[1;32m    599\u001b[0m     \u001b[0;31m# legitimate problems.\u001b[0m\u001b[0;34m\u001b[0m\u001b[0;34m\u001b[0m\u001b[0m\n\u001b[1;32m    600\u001b[0m     \u001b[0;32mtry\u001b[0m\u001b[0;34m:\u001b[0m\u001b[0;34m\u001b[0m\u001b[0m\n\u001b[0;32m--> 601\u001b[0;31m         \u001b[0mbypass\u001b[0m \u001b[0;34m=\u001b[0m \u001b[0mproxy_bypass\u001b[0m\u001b[0;34m(\u001b[0m\u001b[0mnetloc\u001b[0m\u001b[0;34m)\u001b[0m\u001b[0;34m\u001b[0m\u001b[0m\n\u001b[0m\u001b[1;32m    602\u001b[0m     \u001b[0;32mexcept\u001b[0m \u001b[0;34m(\u001b[0m\u001b[0mTypeError\u001b[0m\u001b[0;34m,\u001b[0m \u001b[0msocket\u001b[0m\u001b[0;34m.\u001b[0m\u001b[0mgaierror\u001b[0m\u001b[0;34m)\u001b[0m\u001b[0;34m:\u001b[0m\u001b[0;34m\u001b[0m\u001b[0m\n\u001b[1;32m    603\u001b[0m         \u001b[0mbypass\u001b[0m \u001b[0;34m=\u001b[0m \u001b[0mFalse\u001b[0m\u001b[0;34m\u001b[0m\u001b[0m\n",
      "\u001b[0;32m/Users/vieiraad/anaconda/lib/python2.7/urllib.pyc\u001b[0m in \u001b[0;36mproxy_bypass\u001b[0;34m(host)\u001b[0m\n\u001b[1;32m   1508\u001b[0m             \u001b[0;32mreturn\u001b[0m \u001b[0mproxy_bypass_environment\u001b[0m\u001b[0;34m(\u001b[0m\u001b[0mhost\u001b[0m\u001b[0;34m,\u001b[0m \u001b[0mproxies\u001b[0m\u001b[0;34m)\u001b[0m\u001b[0;34m\u001b[0m\u001b[0m\n\u001b[1;32m   1509\u001b[0m         \u001b[0;32melse\u001b[0m\u001b[0;34m:\u001b[0m\u001b[0;34m\u001b[0m\u001b[0m\n\u001b[0;32m-> 1510\u001b[0;31m             \u001b[0;32mreturn\u001b[0m \u001b[0mproxy_bypass_macosx_sysconf\u001b[0m\u001b[0;34m(\u001b[0m\u001b[0mhost\u001b[0m\u001b[0;34m)\u001b[0m\u001b[0;34m\u001b[0m\u001b[0m\n\u001b[0m\u001b[1;32m   1511\u001b[0m \u001b[0;34m\u001b[0m\u001b[0m\n\u001b[1;32m   1512\u001b[0m     \u001b[0;32mdef\u001b[0m \u001b[0mgetproxies\u001b[0m\u001b[0;34m(\u001b[0m\u001b[0;34m)\u001b[0m\u001b[0;34m:\u001b[0m\u001b[0;34m\u001b[0m\u001b[0m\n",
      "\u001b[0;32m/Users/vieiraad/anaconda/lib/python2.7/urllib.pyc\u001b[0m in \u001b[0;36mproxy_bypass_macosx_sysconf\u001b[0;34m(host)\u001b[0m\n\u001b[1;32m   1451\u001b[0m             \u001b[0;32mreturn\u001b[0m \u001b[0;34m(\u001b[0m\u001b[0mparts\u001b[0m\u001b[0;34m[\u001b[0m\u001b[0;36m0\u001b[0m\u001b[0;34m]\u001b[0m \u001b[0;34m<<\u001b[0m \u001b[0;36m24\u001b[0m\u001b[0;34m)\u001b[0m \u001b[0;34m|\u001b[0m \u001b[0;34m(\u001b[0m\u001b[0mparts\u001b[0m\u001b[0;34m[\u001b[0m\u001b[0;36m1\u001b[0m\u001b[0;34m]\u001b[0m \u001b[0;34m<<\u001b[0m \u001b[0;36m16\u001b[0m\u001b[0;34m)\u001b[0m \u001b[0;34m|\u001b[0m \u001b[0;34m(\u001b[0m\u001b[0mparts\u001b[0m\u001b[0;34m[\u001b[0m\u001b[0;36m2\u001b[0m\u001b[0;34m]\u001b[0m \u001b[0;34m<<\u001b[0m \u001b[0;36m8\u001b[0m\u001b[0;34m)\u001b[0m \u001b[0;34m|\u001b[0m \u001b[0mparts\u001b[0m\u001b[0;34m[\u001b[0m\u001b[0;36m3\u001b[0m\u001b[0;34m]\u001b[0m\u001b[0;34m\u001b[0m\u001b[0m\n\u001b[1;32m   1452\u001b[0m \u001b[0;34m\u001b[0m\u001b[0m\n\u001b[0;32m-> 1453\u001b[0;31m         \u001b[0mproxy_settings\u001b[0m \u001b[0;34m=\u001b[0m \u001b[0m_get_proxy_settings\u001b[0m\u001b[0;34m(\u001b[0m\u001b[0;34m)\u001b[0m\u001b[0;34m\u001b[0m\u001b[0m\n\u001b[0m\u001b[1;32m   1454\u001b[0m \u001b[0;34m\u001b[0m\u001b[0m\n\u001b[1;32m   1455\u001b[0m         \u001b[0;31m# Check for simple host names:\u001b[0m\u001b[0;34m\u001b[0m\u001b[0;34m\u001b[0m\u001b[0m\n",
      "\u001b[0;31mKeyboardInterrupt\u001b[0m: "
     ]
    }
   ],
   "source": [
    "import requests\n",
    "username = ''\n",
    "password = ''\n",
    "competition_id='3136' #the code for titanic\n",
    "\n",
    "session = requests.Session()\n",
    "get_me = 'https://www.kaggle.com/account/login?ReturnUrl=%2fc%2f' + competition_id + '%2fpublicleaderboarddata.zip'\n",
    "response = session.get(get_me) #call it once to get the request verification cookie\n",
    "payload = {'username': username,' password':password, '__RequestVerificationToken': session.cookies.get('__RequestVerificationToken')}\n",
    "r = session.post(get_me, data=payload)\n",
    "with open('the-zip.zip', 'wb') as f:\n",
    "    f.write(r.content)\n",
    "\n",
    "'https://www.kaggle.com/account/login?ReturnUrl=%2fc%2fsantander-customer-satisfaction%2fpublicleaderboarddata.zip'\n",
    "'https://www.kaggle.com/account/login?ReturnUrl=%2fc%2fsantander-customer-satisfaction%2fprivateleaderboarddata.zip'"
   ]
  },
  {
   "cell_type": "code",
   "execution_count": 19,
   "metadata": {
    "collapsed": false,
    "deletable": true,
    "editable": true
   },
   "outputs": [],
   "source": [
    "scores = pd.read_csv('../../Downloads/santander-customer-satisfaction-publicleaderboard.csv')"
   ]
  },
  {
   "cell_type": "code",
   "execution_count": 31,
   "metadata": {
    "collapsed": false,
    "deletable": true,
    "editable": true
   },
   "outputs": [
    {
     "data": {
      "image/png": "[encoded data removed]",
      "text/plain": [
       "<matplotlib.figure.Figure at 0x1136adb50>"
      ]
     },
     "metadata": {},
     "output_type": "display_data"
    }
   ],
   "source": [
    "sns.distplot(scores.loc[scores.Score>0.5].Score);"
   ]
  },
  {
   "cell_type": "code",
   "execution_count": 33,
   "metadata": {
    "collapsed": false,
    "deletable": true,
    "editable": true
   },
   "outputs": [
    {
     "data": {
      "text/html": [
       "<div>\n",
       "<style scoped>\n",
       "    .dataframe tbody tr th:only-of-type {\n",
       "        vertical-align: middle;\n",
       "    }\n",
       "\n",
       "    .dataframe tbody tr th {\n",
       "        vertical-align: top;\n",
       "    }\n",
       "\n",
       "    .dataframe thead th {\n",
       "        text-align: right;\n",
       "    }\n",
       "</style>\n",
       "<table border=\"1\" class=\"dataframe\">\n",
       "  <thead>\n",
       "    <tr style=\"text-align: right;\">\n",
       "      <th></th>\n",
       "      <th>TeamId</th>\n",
       "      <th>TeamName</th>\n",
       "      <th>SubmissionDate</th>\n",
       "      <th>Score</th>\n",
       "    </tr>\n",
       "  </thead>\n",
       "  <tbody>\n",
       "    <tr>\n",
       "      <th>0</th>\n",
       "      <td>285018</td>\n",
       "      <td>Alexander Makeev</td>\n",
       "      <td>2016-03-02 20:33:18</td>\n",
       "      <td>0.823</td>\n",
       "    </tr>\n",
       "    <tr>\n",
       "      <th>1</th>\n",
       "      <td>286451</td>\n",
       "      <td>#1 Leustagos</td>\n",
       "      <td>2016-03-02 20:37:47</td>\n",
       "      <td>0.838</td>\n",
       "    </tr>\n",
       "    <tr>\n",
       "      <th>2</th>\n",
       "      <td>285018</td>\n",
       "      <td>Alexander Makeev</td>\n",
       "      <td>2016-03-02 20:59:34</td>\n",
       "      <td>0.833</td>\n",
       "    </tr>\n",
       "    <tr>\n",
       "      <th>3</th>\n",
       "      <td>285027</td>\n",
       "      <td>Liam Bressler</td>\n",
       "      <td>2016-03-02 21:12:23</td>\n",
       "      <td>0.820</td>\n",
       "    </tr>\n",
       "    <tr>\n",
       "      <th>4</th>\n",
       "      <td>285043</td>\n",
       "      <td>Michael Pawlus</td>\n",
       "      <td>2016-03-02 21:25:19</td>\n",
       "      <td>0.833</td>\n",
       "    </tr>\n",
       "    <tr>\n",
       "      <th>5</th>\n",
       "      <td>285044</td>\n",
       "      <td>DL</td>\n",
       "      <td>2016-03-02 21:27:03</td>\n",
       "      <td>0.837</td>\n",
       "    </tr>\n",
       "    <tr>\n",
       "      <th>6</th>\n",
       "      <td>285045</td>\n",
       "      <td>Anthony P.</td>\n",
       "      <td>2016-03-02 21:30:23</td>\n",
       "      <td>0.506</td>\n",
       "    </tr>\n",
       "    <tr>\n",
       "      <th>7</th>\n",
       "      <td>285045</td>\n",
       "      <td>Anthony P.</td>\n",
       "      <td>2016-03-02 21:31:01</td>\n",
       "      <td>0.833</td>\n",
       "    </tr>\n",
       "    <tr>\n",
       "      <th>8</th>\n",
       "      <td>285046</td>\n",
       "      <td>clustifier</td>\n",
       "      <td>2016-03-02 21:35:56</td>\n",
       "      <td>0.839</td>\n",
       "    </tr>\n",
       "    <tr>\n",
       "      <th>9</th>\n",
       "      <td>285048</td>\n",
       "      <td>Bikash</td>\n",
       "      <td>2016-03-02 21:36:59</td>\n",
       "      <td>0.827</td>\n",
       "    </tr>\n",
       "    <tr>\n",
       "      <th>10</th>\n",
       "      <td>285027</td>\n",
       "      <td>Liam Bressler</td>\n",
       "      <td>2016-03-02 21:39:25</td>\n",
       "      <td>0.821</td>\n",
       "    </tr>\n",
       "    <tr>\n",
       "      <th>11</th>\n",
       "      <td>285027</td>\n",
       "      <td>Liam Bressler</td>\n",
       "      <td>2016-03-02 21:44:08</td>\n",
       "      <td>0.834</td>\n",
       "    </tr>\n",
       "    <tr>\n",
       "      <th>12</th>\n",
       "      <td>285052</td>\n",
       "      <td>Robert Martin</td>\n",
       "      <td>2016-03-02 21:45:08</td>\n",
       "      <td>0.821</td>\n",
       "    </tr>\n",
       "    <tr>\n",
       "      <th>13</th>\n",
       "      <td>285050</td>\n",
       "      <td>BlackCore</td>\n",
       "      <td>2016-03-02 21:48:02</td>\n",
       "      <td>0.833</td>\n",
       "    </tr>\n",
       "    <tr>\n",
       "      <th>14</th>\n",
       "      <td>285057</td>\n",
       "      <td>PaulCrease</td>\n",
       "      <td>2016-03-02 21:50:44</td>\n",
       "      <td>0.766</td>\n",
       "    </tr>\n",
       "    <tr>\n",
       "      <th>15</th>\n",
       "      <td>285029</td>\n",
       "      <td>massil</td>\n",
       "      <td>2016-03-02 21:51:20</td>\n",
       "      <td>0.646</td>\n",
       "    </tr>\n",
       "    <tr>\n",
       "      <th>16</th>\n",
       "      <td>285058</td>\n",
       "      <td>K.G.J.</td>\n",
       "      <td>2016-03-02 21:53:06</td>\n",
       "      <td>0.831</td>\n",
       "    </tr>\n",
       "    <tr>\n",
       "      <th>17</th>\n",
       "      <td>285062</td>\n",
       "      <td>Lawrence Chernin</td>\n",
       "      <td>2016-03-02 21:55:42</td>\n",
       "      <td>0.833</td>\n",
       "    </tr>\n",
       "    <tr>\n",
       "      <th>18</th>\n",
       "      <td>285027</td>\n",
       "      <td>Liam Bressler</td>\n",
       "      <td>2016-03-02 21:58:43</td>\n",
       "      <td>0.834</td>\n",
       "    </tr>\n",
       "    <tr>\n",
       "      <th>19</th>\n",
       "      <td>285029</td>\n",
       "      <td>massil</td>\n",
       "      <td>2016-03-02 22:06:29</td>\n",
       "      <td>0.659</td>\n",
       "    </tr>\n",
       "    <tr>\n",
       "      <th>20</th>\n",
       "      <td>285668</td>\n",
       "      <td>Rolling Stones (Canât Get No [Customer] Sati...</td>\n",
       "      <td>2016-03-02 22:06:41</td>\n",
       "      <td>0.833</td>\n",
       "    </tr>\n",
       "    <tr>\n",
       "      <th>21</th>\n",
       "      <td>285070</td>\n",
       "      <td>Jason Miller</td>\n",
       "      <td>2016-03-02 22:07:43</td>\n",
       "      <td>0.832</td>\n",
       "    </tr>\n",
       "    <tr>\n",
       "      <th>22</th>\n",
       "      <td>285052</td>\n",
       "      <td>Robert Martin</td>\n",
       "      <td>2016-03-02 22:15:59</td>\n",
       "      <td>0.823</td>\n",
       "    </tr>\n",
       "    <tr>\n",
       "      <th>23</th>\n",
       "      <td>285080</td>\n",
       "      <td>thecatwithfuturefeet</td>\n",
       "      <td>2016-03-02 22:20:28</td>\n",
       "      <td>0.840</td>\n",
       "    </tr>\n",
       "    <tr>\n",
       "      <th>24</th>\n",
       "      <td>285018</td>\n",
       "      <td>Alexander Makeev</td>\n",
       "      <td>2016-03-02 22:24:19</td>\n",
       "      <td>0.838</td>\n",
       "    </tr>\n",
       "    <tr>\n",
       "      <th>25</th>\n",
       "      <td>285052</td>\n",
       "      <td>Robert Martin</td>\n",
       "      <td>2016-03-02 22:25:44</td>\n",
       "      <td>0.826</td>\n",
       "    </tr>\n",
       "    <tr>\n",
       "      <th>26</th>\n",
       "      <td>285086</td>\n",
       "      <td>â</td>\n",
       "      <td>2016-03-02 22:29:13</td>\n",
       "      <td>0.833</td>\n",
       "    </tr>\n",
       "    <tr>\n",
       "      <th>27</th>\n",
       "      <td>285052</td>\n",
       "      <td>Robert Martin</td>\n",
       "      <td>2016-03-02 22:33:59</td>\n",
       "      <td>0.826</td>\n",
       "    </tr>\n",
       "    <tr>\n",
       "      <th>28</th>\n",
       "      <td>285091</td>\n",
       "      <td>vbk</td>\n",
       "      <td>2016-03-02 22:36:56</td>\n",
       "      <td>0.833</td>\n",
       "    </tr>\n",
       "    <tr>\n",
       "      <th>29</th>\n",
       "      <td>285090</td>\n",
       "      <td>Sterby</td>\n",
       "      <td>2016-03-02 22:38:11</td>\n",
       "      <td>0.353</td>\n",
       "    </tr>\n",
       "    <tr>\n",
       "      <th>...</th>\n",
       "      <td>...</td>\n",
       "      <td>...</td>\n",
       "      <td>...</td>\n",
       "      <td>...</td>\n",
       "    </tr>\n",
       "    <tr>\n",
       "      <th>28122</th>\n",
       "      <td>300380</td>\n",
       "      <td>å±±å½±å¹¸å½¦</td>\n",
       "      <td>2016-07-10 20:45:55</td>\n",
       "      <td>0.838</td>\n",
       "    </tr>\n",
       "    <tr>\n",
       "      <th>28123</th>\n",
       "      <td>289643</td>\n",
       "      <td>CeShine Lee</td>\n",
       "      <td>2016-08-07 02:06:41</td>\n",
       "      <td>0.842</td>\n",
       "    </tr>\n",
       "    <tr>\n",
       "      <th>28124</th>\n",
       "      <td>303886</td>\n",
       "      <td>Jongheon Jeong</td>\n",
       "      <td>2016-08-10 10:56:36</td>\n",
       "      <td>0.839</td>\n",
       "    </tr>\n",
       "    <tr>\n",
       "      <th>28125</th>\n",
       "      <td>299662</td>\n",
       "      <td>qiull</td>\n",
       "      <td>2016-09-10 05:41:10</td>\n",
       "      <td>0.834</td>\n",
       "    </tr>\n",
       "    <tr>\n",
       "      <th>28126</th>\n",
       "      <td>299662</td>\n",
       "      <td>qiull</td>\n",
       "      <td>2016-09-11 14:13:42</td>\n",
       "      <td>0.835</td>\n",
       "    </tr>\n",
       "    <tr>\n",
       "      <th>28127</th>\n",
       "      <td>298309</td>\n",
       "      <td>GoGoGo</td>\n",
       "      <td>2016-09-13 12:13:49</td>\n",
       "      <td>0.836</td>\n",
       "    </tr>\n",
       "    <tr>\n",
       "      <th>28128</th>\n",
       "      <td>298309</td>\n",
       "      <td>GoGoGo</td>\n",
       "      <td>2016-09-13 12:36:33</td>\n",
       "      <td>0.836</td>\n",
       "    </tr>\n",
       "    <tr>\n",
       "      <th>28129</th>\n",
       "      <td>291225</td>\n",
       "      <td>Clark Djilo</td>\n",
       "      <td>2016-10-30 18:51:37</td>\n",
       "      <td>0.841</td>\n",
       "    </tr>\n",
       "    <tr>\n",
       "      <th>28130</th>\n",
       "      <td>303654</td>\n",
       "      <td>Cpumar</td>\n",
       "      <td>2016-11-01 09:34:11</td>\n",
       "      <td>0.751</td>\n",
       "    </tr>\n",
       "    <tr>\n",
       "      <th>28131</th>\n",
       "      <td>309956</td>\n",
       "      <td>Saiyan</td>\n",
       "      <td>2016-11-06 06:12:40</td>\n",
       "      <td>0.838</td>\n",
       "    </tr>\n",
       "    <tr>\n",
       "      <th>28132</th>\n",
       "      <td>304509</td>\n",
       "      <td>MexZer0</td>\n",
       "      <td>2016-11-10 07:51:21</td>\n",
       "      <td>0.842</td>\n",
       "    </tr>\n",
       "    <tr>\n",
       "      <th>28133</th>\n",
       "      <td>286434</td>\n",
       "      <td>Ahmet Sakbay</td>\n",
       "      <td>2016-12-27 08:34:07</td>\n",
       "      <td>0.842</td>\n",
       "    </tr>\n",
       "    <tr>\n",
       "      <th>28134</th>\n",
       "      <td>295885</td>\n",
       "      <td>boobayooba</td>\n",
       "      <td>2017-01-11 18:26:59</td>\n",
       "      <td>0.766</td>\n",
       "    </tr>\n",
       "    <tr>\n",
       "      <th>28135</th>\n",
       "      <td>295885</td>\n",
       "      <td>boobayooba</td>\n",
       "      <td>2017-01-11 18:55:58</td>\n",
       "      <td>0.768</td>\n",
       "    </tr>\n",
       "    <tr>\n",
       "      <th>28136</th>\n",
       "      <td>299258</td>\n",
       "      <td>Roberto Paredes</td>\n",
       "      <td>2017-02-04 22:38:59</td>\n",
       "      <td>0.816</td>\n",
       "    </tr>\n",
       "    <tr>\n",
       "      <th>28137</th>\n",
       "      <td>299258</td>\n",
       "      <td>Roberto Paredes</td>\n",
       "      <td>2017-02-08 11:30:34</td>\n",
       "      <td>0.837</td>\n",
       "    </tr>\n",
       "    <tr>\n",
       "      <th>28138</th>\n",
       "      <td>309959</td>\n",
       "      <td>MirageChung</td>\n",
       "      <td>2017-03-05 12:42:45</td>\n",
       "      <td>0.542</td>\n",
       "    </tr>\n",
       "    <tr>\n",
       "      <th>28139</th>\n",
       "      <td>309959</td>\n",
       "      <td>MirageChung</td>\n",
       "      <td>2017-03-06 13:24:09</td>\n",
       "      <td>0.751</td>\n",
       "    </tr>\n",
       "    <tr>\n",
       "      <th>28140</th>\n",
       "      <td>302883</td>\n",
       "      <td>aamir121a</td>\n",
       "      <td>2017-04-18 08:09:21</td>\n",
       "      <td>0.840</td>\n",
       "    </tr>\n",
       "    <tr>\n",
       "      <th>28141</th>\n",
       "      <td>293622</td>\n",
       "      <td>JorgePorca</td>\n",
       "      <td>2017-05-17 14:44:30</td>\n",
       "      <td>0.669</td>\n",
       "    </tr>\n",
       "    <tr>\n",
       "      <th>28142</th>\n",
       "      <td>297674</td>\n",
       "      <td>Darshan Bagul</td>\n",
       "      <td>2017-06-02 01:16:24</td>\n",
       "      <td>0.842</td>\n",
       "    </tr>\n",
       "    <tr>\n",
       "      <th>28143</th>\n",
       "      <td>304064</td>\n",
       "      <td>Optima</td>\n",
       "      <td>2017-07-08 13:38:52</td>\n",
       "      <td>0.817</td>\n",
       "    </tr>\n",
       "    <tr>\n",
       "      <th>28144</th>\n",
       "      <td>312681</td>\n",
       "      <td>mariopm</td>\n",
       "      <td>2017-07-09 14:34:04</td>\n",
       "      <td>0.840</td>\n",
       "    </tr>\n",
       "    <tr>\n",
       "      <th>28145</th>\n",
       "      <td>285664</td>\n",
       "      <td>CJCJ</td>\n",
       "      <td>2017-08-02 16:58:39</td>\n",
       "      <td>0.839</td>\n",
       "    </tr>\n",
       "    <tr>\n",
       "      <th>28146</th>\n",
       "      <td>293622</td>\n",
       "      <td>JorgePorca</td>\n",
       "      <td>2017-08-12 22:57:53</td>\n",
       "      <td>0.693</td>\n",
       "    </tr>\n",
       "    <tr>\n",
       "      <th>28147</th>\n",
       "      <td>293622</td>\n",
       "      <td>JorgePorca</td>\n",
       "      <td>2017-08-13 09:07:07</td>\n",
       "      <td>0.829</td>\n",
       "    </tr>\n",
       "    <tr>\n",
       "      <th>28148</th>\n",
       "      <td>293622</td>\n",
       "      <td>JorgePorca</td>\n",
       "      <td>2017-08-21 12:01:00</td>\n",
       "      <td>0.829</td>\n",
       "    </tr>\n",
       "    <tr>\n",
       "      <th>28149</th>\n",
       "      <td>290405</td>\n",
       "      <td>HowardPaget</td>\n",
       "      <td>2017-11-14 11:07:13</td>\n",
       "      <td>0.520</td>\n",
       "    </tr>\n",
       "    <tr>\n",
       "      <th>28150</th>\n",
       "      <td>294845</td>\n",
       "      <td>DmitriyKamsha</td>\n",
       "      <td>2017-12-24 16:49:09</td>\n",
       "      <td>0.838</td>\n",
       "    </tr>\n",
       "    <tr>\n",
       "      <th>28151</th>\n",
       "      <td>314414</td>\n",
       "      <td>Michael Hartman</td>\n",
       "      <td>2018-04-24 19:49:40</td>\n",
       "      <td>0.841</td>\n",
       "    </tr>\n",
       "  </tbody>\n",
       "</table>\n",
       "<p>28152 rows × 4 columns</p>\n",
       "</div>"
      ],
      "text/plain": [
       "       TeamId                                           TeamName  \\\n",
       "0      285018                                   Alexander Makeev   \n",
       "1      286451                                       #1 Leustagos   \n",
       "2      285018                                   Alexander Makeev   \n",
       "3      285027                                      Liam Bressler   \n",
       "4      285043                                     Michael Pawlus   \n",
       "5      285044                                                 DL   \n",
       "6      285045                                         Anthony P.   \n",
       "7      285045                                         Anthony P.   \n",
       "8      285046                                         clustifier   \n",
       "9      285048                                             Bikash   \n",
       "10     285027                                      Liam Bressler   \n",
       "11     285027                                      Liam Bressler   \n",
       "12     285052                                      Robert Martin   \n",
       "13     285050                                          BlackCore   \n",
       "14     285057                                         PaulCrease   \n",
       "15     285029                                             massil   \n",
       "16     285058                                             K.G.J.   \n",
       "17     285062                                   Lawrence Chernin   \n",
       "18     285027                                      Liam Bressler   \n",
       "19     285029                                             massil   \n",
       "20     285668  Rolling Stones (Canât Get No [Customer] Sati...   \n",
       "21     285070                                       Jason Miller   \n",
       "22     285052                                      Robert Martin   \n",
       "23     285080                               thecatwithfuturefeet   \n",
       "24     285018                                   Alexander Makeev   \n",
       "25     285052                                      Robert Martin   \n",
       "26     285086                                                â   \n",
       "27     285052                                      Robert Martin   \n",
       "28     285091                                                vbk   \n",
       "29     285090                                             Sterby   \n",
       "...       ...                                                ...   \n",
       "28122  300380                                       å±±å½±å¹¸å½¦   \n",
       "28123  289643                                        CeShine Lee   \n",
       "28124  303886                                     Jongheon Jeong   \n",
       "28125  299662                                              qiull   \n",
       "28126  299662                                              qiull   \n",
       "28127  298309                                             GoGoGo   \n",
       "28128  298309                                             GoGoGo   \n",
       "28129  291225                                        Clark Djilo   \n",
       "28130  303654                                             Cpumar   \n",
       "28131  309956                                             Saiyan   \n",
       "28132  304509                                            MexZer0   \n",
       "28133  286434                                       Ahmet Sakbay   \n",
       "28134  295885                                         boobayooba   \n",
       "28135  295885                                         boobayooba   \n",
       "28136  299258                                    Roberto Paredes   \n",
       "28137  299258                                    Roberto Paredes   \n",
       "28138  309959                                        MirageChung   \n",
       "28139  309959                                        MirageChung   \n",
       "28140  302883                                          aamir121a   \n",
       "28141  293622                                         JorgePorca   \n",
       "28142  297674                                      Darshan Bagul   \n",
       "28143  304064                                             Optima   \n",
       "28144  312681                                            mariopm   \n",
       "28145  285664                                               CJCJ   \n",
       "28146  293622                                         JorgePorca   \n",
       "28147  293622                                         JorgePorca   \n",
       "28148  293622                                         JorgePorca   \n",
       "28149  290405                                        HowardPaget   \n",
       "28150  294845                                      DmitriyKamsha   \n",
       "28151  314414                                    Michael Hartman   \n",
       "\n",
       "            SubmissionDate  Score  \n",
       "0      2016-03-02 20:33:18  0.823  \n",
       "1      2016-03-02 20:37:47  0.838  \n",
       "2      2016-03-02 20:59:34  0.833  \n",
       "3      2016-03-02 21:12:23  0.820  \n",
       "4      2016-03-02 21:25:19  0.833  \n",
       "5      2016-03-02 21:27:03  0.837  \n",
       "6      2016-03-02 21:30:23  0.506  \n",
       "7      2016-03-02 21:31:01  0.833  \n",
       "8      2016-03-02 21:35:56  0.839  \n",
       "9      2016-03-02 21:36:59  0.827  \n",
       "10     2016-03-02 21:39:25  0.821  \n",
       "11     2016-03-02 21:44:08  0.834  \n",
       "12     2016-03-02 21:45:08  0.821  \n",
       "13     2016-03-02 21:48:02  0.833  \n",
       "14     2016-03-02 21:50:44  0.766  \n",
       "15     2016-03-02 21:51:20  0.646  \n",
       "16     2016-03-02 21:53:06  0.831  \n",
       "17     2016-03-02 21:55:42  0.833  \n",
       "18     2016-03-02 21:58:43  0.834  \n",
       "19     2016-03-02 22:06:29  0.659  \n",
       "20     2016-03-02 22:06:41  0.833  \n",
       "21     2016-03-02 22:07:43  0.832  \n",
       "22     2016-03-02 22:15:59  0.823  \n",
       "23     2016-03-02 22:20:28  0.840  \n",
       "24     2016-03-02 22:24:19  0.838  \n",
       "25     2016-03-02 22:25:44  0.826  \n",
       "26     2016-03-02 22:29:13  0.833  \n",
       "27     2016-03-02 22:33:59  0.826  \n",
       "28     2016-03-02 22:36:56  0.833  \n",
       "29     2016-03-02 22:38:11  0.353  \n",
       "...                    ...    ...  \n",
       "28122  2016-07-10 20:45:55  0.838  \n",
       "28123  2016-08-07 02:06:41  0.842  \n",
       "28124  2016-08-10 10:56:36  0.839  \n",
       "28125  2016-09-10 05:41:10  0.834  \n",
       "28126  2016-09-11 14:13:42  0.835  \n",
       "28127  2016-09-13 12:13:49  0.836  \n",
       "28128  2016-09-13 12:36:33  0.836  \n",
       "28129  2016-10-30 18:51:37  0.841  \n",
       "28130  2016-11-01 09:34:11  0.751  \n",
       "28131  2016-11-06 06:12:40  0.838  \n",
       "28132  2016-11-10 07:51:21  0.842  \n",
       "28133  2016-12-27 08:34:07  0.842  \n",
       "28134  2017-01-11 18:26:59  0.766  \n",
       "28135  2017-01-11 18:55:58  0.768  \n",
       "28136  2017-02-04 22:38:59  0.816  \n",
       "28137  2017-02-08 11:30:34  0.837  \n",
       "28138  2017-03-05 12:42:45  0.542  \n",
       "28139  2017-03-06 13:24:09  0.751  \n",
       "28140  2017-04-18 08:09:21  0.840  \n",
       "28141  2017-05-17 14:44:30  0.669  \n",
       "28142  2017-06-02 01:16:24  0.842  \n",
       "28143  2017-07-08 13:38:52  0.817  \n",
       "28144  2017-07-09 14:34:04  0.840  \n",
       "28145  2017-08-02 16:58:39  0.839  \n",
       "28146  2017-08-12 22:57:53  0.693  \n",
       "28147  2017-08-13 09:07:07  0.829  \n",
       "28148  2017-08-21 12:01:00  0.829  \n",
       "28149  2017-11-14 11:07:13  0.520  \n",
       "28150  2017-12-24 16:49:09  0.838  \n",
       "28151  2018-04-24 19:49:40  0.841  \n",
       "\n",
       "[28152 rows x 4 columns]"
      ]
     },
     "execution_count": 33,
     "metadata": {},
     "output_type": "execute_result"
    }
   ],
   "source": [
    "scores"
   ]
  },
  {
   "cell_type": "code",
   "execution_count": null,
   "metadata": {
    "collapsed": true,
    "deletable": true,
    "editable": true
   },
   "outputs": [],
   "source": []
  },
  {
   "cell_type": "code",
   "execution_count": 120,
   "metadata": {
    "collapsed": false,
    "deletable": true,
    "editable": true
   },
   "outputs": [
    {
     "ename": "NameError",
     "evalue": "name 'PipelineHelper' is not defined",
     "output_type": "error",
     "traceback": [
      "\u001b[0;31m---------------------------------------------------------------------------\u001b[0m",
      "\u001b[0;31mNameError\u001b[0m                                 Traceback (most recent call last)",
      "\u001b[0;32m<ipython-input-120-d15bf3d69f8d>\u001b[0m in \u001b[0;36m<module>\u001b[0;34m()\u001b[0m\n\u001b[1;32m      4\u001b[0m \u001b[0;34m\u001b[0m\u001b[0m\n\u001b[1;32m      5\u001b[0m pipe = Pipeline([\n\u001b[0;32m----> 6\u001b[0;31m     ('scaler', PipelineHelper([\n\u001b[0m\u001b[1;32m      7\u001b[0m         \u001b[0;34m(\u001b[0m\u001b[0;34m'std'\u001b[0m\u001b[0;34m,\u001b[0m \u001b[0mStandardScaler\u001b[0m\u001b[0;34m(\u001b[0m\u001b[0;34m)\u001b[0m\u001b[0;34m)\u001b[0m\u001b[0;34m,\u001b[0m\u001b[0;34m\u001b[0m\u001b[0m\n\u001b[1;32m      8\u001b[0m         \u001b[0;34m(\u001b[0m\u001b[0;34m'minmax'\u001b[0m\u001b[0;34m,\u001b[0m \u001b[0mMinMaxScaler\u001b[0m\u001b[0;34m(\u001b[0m\u001b[0;34m)\u001b[0m\u001b[0;34m)\u001b[0m\u001b[0;34m,\u001b[0m\u001b[0;34m\u001b[0m\u001b[0m\n",
      "\u001b[0;31mNameError\u001b[0m: name 'PipelineHelper' is not defined"
     ]
    }
   ],
   "source": [
    "### Pipeline nos modelos sem parametrizar, mas testando scalers?\n",
    "\n",
    "from sklearn.pipeline import Pipeline\n",
    "from sklearn.model_selection import GridSearchCV\n",
    "from sklearn.preprocessing import StandardScaler, MaxAbsScaler, MinMaxScaler\n",
    "\n",
    "pipe = Pipeline(steps=\n",
    "    [\n",
    "    ('scaler', PipelineHelper([\n",
    "        ('std', StandardScaler()),\n",
    "        ('minmax', MinMaxScaler()),\n",
    "        ('max', MaxAbsScaler()),\n",
    "    ])),\n",
    "    ('classifier', PipelineHelper([\n",
    "        ('nb', GaussianNB()),\n",
    "        ('lr', LogisticRegression()),\n",
    "        ('dt', DecisionTreeClassifier()),\n",
    "        ('sv', SVC()),\n",
    "        ('mlp', MLPClassifier()),\n",
    "        ('rf', RandomForestClassifier()),\n",
    "    ])),\n",
    "])\n",
    "\n",
    "# params = {\n",
    "#     'scaler__selected_model': pipe.named_steps['scaler'].generate({\n",
    "#         'std__with_mean': [True, False],\n",
    "#         'std__with_std': [True, False],\n",
    "#         'max__copy': [True],  # just for displaying\n",
    "#     }),\n",
    "#     'classifier__selected_model': pipe.named_steps['classifier'].generate({\n",
    "#         'svm__C': [0.1, 1.0],\n",
    "#         'rf__n_estimators': [100, 20],\n",
    "#     })\n",
    "# }\n",
    "# grid = GridSearchCV(pipe, params, scoring=roc_auc_scorer, verbose=1)\n",
    "# grid.fit(X, y)\n",
    "# print(grid.best_params_)\n",
    "# print(grid.best_score_)"
   ]
  },
  {
   "cell_type": "markdown",
   "metadata": {},
   "source": [
    "### Implementation: Outlier Detection\n",
    "Detecting outliers in the data is extremely important in the data preprocessing step of any analysis. The presence of outliers can often skew results which take into consideration these data points. There are many \"rules of thumb\" for what constitutes an outlier in a dataset. Here, we will use [Tukey's Method for identfying outliers](http://datapigtechnologies.com/blog/index.php/highlighting-outliers-in-your-data-with-the-tukey-method/): An *outlier step* is calculated as 1.5 times the interquartile range (IQR). A data point with a feature that is beyond an outlier step outside of the IQR for that feature is considered abnormal.\n",
    "\n",
    "In the code block below, you will need to implement the following:\n",
    " - Assign the value of the 25th percentile for the given feature to `Q1`. Use `np.percentile` for this.\n",
    " - Assign the value of the 75th percentile for the given feature to `Q3`. Again, use `np.percentile`.\n",
    " - Assign the calculation of an outlier step for the given feature to `step`.\n",
    " - Optionally remove data points from the dataset by adding indices to the `outliers` list.\n",
    "\n",
    "**NOTE:** If you choose to remove any outliers, ensure that the sample data does not contain any of these points!  \n",
    "Once you have performed this implementation, the dataset will be stored in the variable `good_data`."
   ]
  },
  {
   "cell_type": "code",
   "execution_count": 100,
   "metadata": {
    "collapsed": false,
    "scrolled": true
   },
   "outputs": [],
   "source": [
    "from IPython.display import display # Allows the use of display() for DataFrames\n",
    "\n",
    "# For each feature find the data points with extreme high or low values\n",
    "outliers = []\n",
    "for feature in train.columns:\n",
    "    \n",
    "    # Q1 (25th percentile of the data) for the given feature\n",
    "    Q1 = np.percentile(train[feature], 25)\n",
    "    \n",
    "    # Q3 (75th percentile of the data) for the given feature\n",
    "    Q3 = np.percentile(train[feature], 75)\n",
    "    \n",
    "    # Interquartile range to calculate an outlier step (1.5 times the interquartile range)\n",
    "    step = 1.5 * (Q3 - Q1)\n",
    "    outliers+=list(train[~((train[feature] >= Q1 - step) & (train[feature] <= Q3 + step))].index)\n",
    "    \n",
    "#     # Display the outliers\n",
    "#     print(\"Data points considered outliers for the feature '{}':\".format(feature))\n",
    "#     display(train[~((train[feature] >= Q1 - step) & (train[feature] <= Q3 + step))])\n",
    "    \n",
    "# # OPTIONAL: Select the indices for data points you wish to remove\n",
    "# outliers = []\n",
    "# for feature in log_data.keys():\n",
    "#     Q1 = np.percentile(log_data[feature], 25)\n",
    "#     Q3 = np.percentile(log_data[feature], 75)\n",
    "#     step = 1.5 * (Q3 - Q1)\n",
    "#     outliers += list(log_data[~((log_data[feature] >= Q1 - step) & (log_data[feature] <= Q3 + step))].index)\n",
    "\n",
    "# # Remove the outliers, if any were specified\n",
    "# good_data = log_data.drop(log_data.index[outliers]).reset_index(drop = True)"
   ]
  },
  {
   "cell_type": "code",
   "execution_count": 101,
   "metadata": {
    "collapsed": false
   },
   "outputs": [
    {
     "data": {
      "text/plain": [
       "48866"
      ]
     },
     "execution_count": 101,
     "metadata": {},
     "output_type": "execute_result"
    }
   ],
   "source": [
    "len(set(outliers))"
   ]
  },
  {
   "cell_type": "code",
   "execution_count": null,
   "metadata": {
    "collapsed": true
   },
   "outputs": [],
   "source": [
    "print len(set(outliers))\n",
    "double_outliers = [item for item in outliers if outliers.count(item)>1]\n",
    "print len(set(double_outliers))"
   ]
  }
 ],
 "metadata": {
  "anaconda-cloud": {},
  "kernelspec": {
   "display_name": "Python 3",
   "language": "python",
   "name": "python3"
  },
  "language_info": {
   "codemirror_mode": {
    "name": "ipython",
    "version": 3
   },
   "file_extension": ".py",
   "mimetype": "text/x-python",
   "name": "python",
   "nbconvert_exporter": "python",
   "pygments_lexer": "ipython3",
   "version": "3.6.0"
  }
 },
 "nbformat": 4,
 "nbformat_minor": 1
}
